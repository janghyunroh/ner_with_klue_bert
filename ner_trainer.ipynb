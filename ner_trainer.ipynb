{
 "cells": [
  {
   "cell_type": "code",
   "execution_count": 23,
   "metadata": {
    "execution": {
     "iopub.execute_input": "2024-11-22T08:02:32.151421Z",
     "iopub.status.busy": "2024-11-22T08:02:32.151063Z",
     "iopub.status.idle": "2024-11-22T08:02:49.940376Z",
     "shell.execute_reply": "2024-11-22T08:02:49.939673Z",
     "shell.execute_reply.started": "2024-11-22T08:02:32.151390Z"
    },
    "trusted": true
   },
   "outputs": [],
   "source": [
    "import os\n",
    "import argparse\n",
    "import pickle\n",
    "\n",
    "import pandas as pd\n",
    "\n",
    "from sklearn.model_selection import StratifiedKFold, train_test_split\n",
    "from datasets import load_metric\n",
    "#from evaluate import load\n",
    "\n",
    "from seqeval.metrics import classification_report\n",
    "import torch\n",
    "\n",
    "# huggingface tokenizer/model\n",
    "from transformers import AutoModelForTokenClassification\n",
    "\n",
    "# huggingface trainer\n",
    "from transformers import Trainer\n",
    "from transformers import TrainingArguments\n",
    "\n",
    "\n",
    "# Customize encoder\n",
    "from ner.ner_dataset import NERCollator\n",
    "from ner.ner_dataset import NERDatasetPreEncoded\n"
   ]
  },
  {
   "cell_type": "markdown",
   "metadata": {},
   "source": [
    "python hf_trainer.py --model_folder models --data_fn data/encoded/train.klue_roberta-base.encoded.pickle --use_kfold --n_splits 5"
   ]
  },
  {
   "cell_type": "markdown",
   "metadata": {},
   "source": [
    "# **batch size = 1, 2, 4, 8, ... 조절하기 (2^k)**"
   ]
  },
  {
   "cell_type": "code",
   "execution_count": null,
   "metadata": {},
   "outputs": [],
   "source": [
    "batch_size = 4"
   ]
  },
  {
   "cell_type": "code",
   "execution_count": null,
   "metadata": {
    "execution": {
     "iopub.execute_input": "2024-11-22T08:04:43.970378Z",
     "iopub.status.busy": "2024-11-22T08:04:43.969665Z",
     "iopub.status.idle": "2024-11-22T08:04:44.932288Z",
     "shell.execute_reply": "2024-11-22T08:04:44.931289Z",
     "shell.execute_reply.started": "2024-11-22T08:04:43.970345Z"
    },
    "trusted": true
   },
   "outputs": [],
   "source": [
    "import os\n",
    "import argparse\n",
    "\n",
    "os.environ[\"WANDB_DISABLED\"] = \"true\"\n",
    "\n",
    "def define_argparser():\n",
    "    p = argparse.ArgumentParser()\n",
    "\n",
    "    p.add_argument('--model_folder', required=False, default = 'models', help=\"Directory to save trained model.\")\n",
    "    p.add_argument('--data_fn', required=False, default = 'data/encoded/train.klue_roberta-base.encoded.pickle', help=\"Data file name encoded by encoding.py to train the model.\")\n",
    "\n",
    "    p.add_argument('--valid_ratio', type=float, default= 0.2)\n",
    "    p.add_argument('--batch_size_per_device', type=int, default=batch_size)\n",
    "    p.add_argument('--n_epochs_per_fold', type=int, default=50)\n",
    "    p.add_argument('--warmup_ratio', type=float, default= 0.2)\n",
    "    p.add_argument('--max_length', type=int, default=512)\n",
    "    #p.add_argument('--max_length', type=int, default=100)\n",
    "\n",
    "    p.add_argument('--use_kfold', action='store_true', default= True)\n",
    "    p.add_argument('--n_splits', type=int, default=5)\n",
    "    p.add_argument('--fold_i', type=int, default=None, help=\"It would be used to train with a certain fold of data due to resource limitation.\")\n",
    "\n",
    "    config = p.parse_args(args=[])\n",
    "\n",
    "    return config\n",
    "\n",
    "\n"
   ]
  },
  {
   "cell_type": "code",
   "execution_count": 25,
   "metadata": {
    "execution": {
     "iopub.execute_input": "2024-11-22T08:04:48.564787Z",
     "iopub.status.busy": "2024-11-22T08:04:48.564466Z",
     "iopub.status.idle": "2024-11-22T08:04:48.570202Z",
     "shell.execute_reply": "2024-11-22T08:04:48.569186Z",
     "shell.execute_reply.started": "2024-11-22T08:04:48.564760Z"
    },
    "trusted": true
   },
   "outputs": [
    {
     "name": "stdout",
     "output_type": "stream",
     "text": [
      "Namespace(model_folder='models', data_fn='data/encoded/train.klue_roberta-base.encoded.pickle', valid_ratio=0.2, batch_size_per_device=4, n_epochs_per_fold=50, warmup_ratio=0.2, max_length=512, use_kfold=True, n_splits=5, fold_i=None)\n"
     ]
    }
   ],
   "source": [
    "config = define_argparser()\n",
    "print(config)"
   ]
  },
  {
   "cell_type": "code",
   "execution_count": 26,
   "metadata": {
    "execution": {
     "iopub.execute_input": "2024-11-22T08:04:52.053133Z",
     "iopub.status.busy": "2024-11-22T08:04:52.052444Z",
     "iopub.status.idle": "2024-11-22T08:04:52.059466Z",
     "shell.execute_reply": "2024-11-22T08:04:52.058592Z",
     "shell.execute_reply.started": "2024-11-22T08:04:52.053100Z"
    },
    "trusted": true
   },
   "outputs": [],
   "source": [
    "def load_data(fn, use_kfold=False, n_splits=5, shuffle=True):\n",
    "    \"\"\"\n",
    "    Load tsv data as Dataframe.\n",
    "    If use_kfold is true, a new column ['fold'] will be added for indexing each fold.\n",
    "    load_data라는 이름의 함수를 정의합니다. 이 함수는 네 개의 파라미터를 받습니다:\n",
    "    fn: 데이터 파일의 이름 또는 경로입니다.\n",
    "    use_kfold: k-fold 교차 검증을 사용할지 여부를 나타내는 부울 값입니다. 기본값은 False입니다.\n",
    "    n_splits: 교차 검증에서 몇 개의 fold로 나눌지를 결정하는 정수입니다. 기본값은 5입니다.\n",
    "    shuffle: 데이터를 셔플할지 여부를 나타내는 부울 값입니다. 기본값은 True입니다.\n",
    "    \"\"\"\n",
    "    # Get sentences and labels from a dataframe.\n",
    "    with open(fn, \"rb\") as f: # fn 경로의 파일을 바이너리 읽기 모드(\"rb\")로 엽니다. f는 파일 객체를 참조하는 변수입니다.\n",
    "        dataset = pickle.load(f) # pickle 모듈을 사용하여 파일에서 객체를 역직렬화합니다. 이를 통해 저장된 데이터가 dataset 변수에 로드됩니다.\n",
    "    data = pd.DataFrame(dataset.pop('data')) # dataset 딕셔너리에서 'data' 키를 제거하면서 해당 값을 가져와 pandas 데이터프레임으로 변환합니다.\n",
    "\n",
    "    if use_kfold:\n",
    "        skf = StratifiedKFold(n_splits=n_splits, random_state=42, shuffle=shuffle)\n",
    "        # n_splits, random_state=42, shuffle 값을 사용하여 StratifiedKFold 객체를 생성합니다. 이 객체는 클래스 비율을 유지하면서 데이터를 fold로 나눕니다.\n",
    "        data['fold'] = -1 # 데이터프레임에 'fold'라는 새 열을 추가하고, 모든 값을 -1로 초기화합니다.\n",
    "        for n_fold, (_, v_idx) in enumerate(skf.split(data, data['sentence_class'])):\n",
    "            # StratifiedKFold의 split 메소드를 사용해 생성된 인덱스를 반복하면서 각 fold의 검증 인덱스를 가져옵니다.\n",
    "            data.loc[v_idx, 'fold'] = n_fold\n",
    "            # 검증 인덱스(v_idx)에 해당하는 데이터의 'fold' 열 값을 현재 fold 번호(n_fold)로 설정합니다.\n",
    "        data['id'] = [x for x in range(len(data))]\n",
    "        # 각 데이터 포인트에 대해 유일한 ID를 생성하여 'id' 열에 할당합니다.\n",
    "\n",
    "    return data, dataset"
   ]
  },
  {
   "cell_type": "code",
   "execution_count": 27,
   "metadata": {
    "execution": {
     "iopub.execute_input": "2024-11-22T08:04:52.812696Z",
     "iopub.status.busy": "2024-11-22T08:04:52.812337Z",
     "iopub.status.idle": "2024-11-22T08:04:52.823234Z",
     "shell.execute_reply": "2024-11-22T08:04:52.822425Z",
     "shell.execute_reply.started": "2024-11-22T08:04:52.812663Z"
    },
    "trusted": true
   },
   "outputs": [
    {
     "data": {
      "text/plain": [
       "dict_keys(['data', 'label_info', 'pad_token', 'pretrained_model_name'])"
      ]
     },
     "execution_count": 27,
     "metadata": {},
     "output_type": "execute_result"
    }
   ],
   "source": [
    "with open(config.data_fn, \"rb\") as f:\n",
    "        org_data = pickle.load(f)\n",
    "\n",
    "#이전에 encoding.py에서 저장해 놓은 데이터\n",
    "org_data.keys()"
   ]
  },
  {
   "cell_type": "code",
   "execution_count": 28,
   "metadata": {
    "execution": {
     "iopub.execute_input": "2024-11-22T08:04:53.535009Z",
     "iopub.status.busy": "2024-11-22T08:04:53.534187Z",
     "iopub.status.idle": "2024-11-22T08:04:53.541560Z",
     "shell.execute_reply": "2024-11-22T08:04:53.540925Z",
     "shell.execute_reply.started": "2024-11-22T08:04:53.534973Z"
    },
    "trusted": true
   },
   "outputs": [
    {
     "name": "stderr",
     "output_type": "stream",
     "text": [
      "/home/lsj/바탕화면/pytorch-ko-ner-v2_analysis_03/.conda/lib/python3.10/site-packages/sklearn/model_selection/_split.py:776: UserWarning: The least populated class in y has only 2 members, which is less than n_splits=5.\n",
      "  warnings.warn(\n"
     ]
    }
   ],
   "source": [
    "#org_data에서 'data'열과 나머지 열을 분리함\n",
    "data, data_args = load_data(config.data_fn, use_kfold=config.use_kfold,\n",
    "                     n_splits=config.n_splits, shuffle=True)"
   ]
  },
  {
   "cell_type": "code",
   "execution_count": 29,
   "metadata": {
    "execution": {
     "iopub.execute_input": "2024-11-22T08:04:54.275026Z",
     "iopub.status.busy": "2024-11-22T08:04:54.274156Z",
     "iopub.status.idle": "2024-11-22T08:04:54.300550Z",
     "shell.execute_reply": "2024-11-22T08:04:54.299671Z",
     "shell.execute_reply.started": "2024-11-22T08:04:54.274990Z"
    },
    "trusted": true
   },
   "outputs": [
    {
     "data": {
      "text/html": [
       "<div>\n",
       "<style scoped>\n",
       "    .dataframe tbody tr th:only-of-type {\n",
       "        vertical-align: middle;\n",
       "    }\n",
       "\n",
       "    .dataframe tbody tr th {\n",
       "        vertical-align: top;\n",
       "    }\n",
       "\n",
       "    .dataframe thead th {\n",
       "        text-align: right;\n",
       "    }\n",
       "</style>\n",
       "<table border=\"1\" class=\"dataframe\">\n",
       "  <thead>\n",
       "    <tr style=\"text-align: right;\">\n",
       "      <th></th>\n",
       "      <th>input_ids</th>\n",
       "      <th>attention_mask</th>\n",
       "      <th>labels</th>\n",
       "      <th>sentence_class</th>\n",
       "      <th>fold</th>\n",
       "      <th>id</th>\n",
       "    </tr>\n",
       "  </thead>\n",
       "  <tbody>\n",
       "    <tr>\n",
       "      <th>0</th>\n",
       "      <td>[0, 544, 15229, 1545, 11610, 2446, 1545, 2302,...</td>\n",
       "      <td>[1, 1, 1, 1, 1, 1, 1, 1, 1, 1, 1, 1, 1, 1, 1, ...</td>\n",
       "      <td>[-100, 0, 0, 0, 0, 0, 0, 0, 0, 0, 0, 0, 0, 0, ...</td>\n",
       "      <td>MC</td>\n",
       "      <td>0</td>\n",
       "      <td>0</td>\n",
       "    </tr>\n",
       "    <tr>\n",
       "      <th>1</th>\n",
       "      <td>[0, 6146, 1258, 2137, 2383, 2]</td>\n",
       "      <td>[1, 1, 1, 1, 1, 1]</td>\n",
       "      <td>[-100, 0, 9, 10, 10, -100]</td>\n",
       "      <td>NM</td>\n",
       "      <td>2</td>\n",
       "      <td>1</td>\n",
       "    </tr>\n",
       "    <tr>\n",
       "      <th>2</th>\n",
       "      <td>[0, 15229, 1545, 9888, 2446, 16, 1545, 5281, 2...</td>\n",
       "      <td>[1, 1, 1, 1, 1, 1, 1, 1, 1, 1, 1, 1, 1, 1, 1, ...</td>\n",
       "      <td>[-100, 0, 0, 0, 0, 0, 0, 0, 0, 0, 3, 4, 4, 4, ...</td>\n",
       "      <td>NC</td>\n",
       "      <td>2</td>\n",
       "      <td>2</td>\n",
       "    </tr>\n",
       "    <tr>\n",
       "      <th>3</th>\n",
       "      <td>[0, 12, 21, 13, 3729, 2145, 555, 2073, 5183, 2...</td>\n",
       "      <td>[1, 1, 1, 1, 1, 1, 1, 1, 1, 1, 1, 1, 1, 1, 1, ...</td>\n",
       "      <td>[-100, 0, 0, 0, 0, 0, 0, 0, 0, 0, 0, 0, 0, 17,...</td>\n",
       "      <td>NM</td>\n",
       "      <td>2</td>\n",
       "      <td>3</td>\n",
       "    </tr>\n",
       "    <tr>\n",
       "      <th>4</th>\n",
       "      <td>[0, 12, 22, 13, 9679, 2052, 3817, 7750, 19521,...</td>\n",
       "      <td>[1, 1, 1, 1, 1, 1, 1, 1, 1, 1, 1, 1, 1, 1, 1, ...</td>\n",
       "      <td>[-100, 0, 0, 0, 17, 0, 0, 0, 0, 0, 0, 0, 29, 3...</td>\n",
       "      <td>QT</td>\n",
       "      <td>4</td>\n",
       "      <td>4</td>\n",
       "    </tr>\n",
       "    <tr>\n",
       "      <th>...</th>\n",
       "      <td>...</td>\n",
       "      <td>...</td>\n",
       "      <td>...</td>\n",
       "      <td>...</td>\n",
       "      <td>...</td>\n",
       "      <td>...</td>\n",
       "    </tr>\n",
       "    <tr>\n",
       "      <th>265</th>\n",
       "      <td>[0, 9964, 2079, 4121, 2]</td>\n",
       "      <td>[1, 1, 1, 1, 1]</td>\n",
       "      <td>[-100, 0, 0, 0, -100]</td>\n",
       "      <td>Out</td>\n",
       "      <td>0</td>\n",
       "      <td>265</td>\n",
       "    </tr>\n",
       "    <tr>\n",
       "      <th>266</th>\n",
       "      <td>[0, 15229, 1545, 26462, 2446, 16, 1545, 19578,...</td>\n",
       "      <td>[1, 1, 1, 1, 1, 1, 1, 1, 1, 1, 1, 1, 1, 1, 1, ...</td>\n",
       "      <td>[-100, 0, 0, 0, 0, 0, 0, 0, 0, 0, 0, 0, 0, 0, ...</td>\n",
       "      <td>Out</td>\n",
       "      <td>0</td>\n",
       "      <td>266</td>\n",
       "    </tr>\n",
       "    <tr>\n",
       "      <th>267</th>\n",
       "      <td>[0, 21, 18, 5025, 2125, 15463, 2]</td>\n",
       "      <td>[1, 1, 1, 1, 1, 1, 1]</td>\n",
       "      <td>[-100, 0, 0, 19, 20, 20, -100]</td>\n",
       "      <td>DP</td>\n",
       "      <td>4</td>\n",
       "      <td>267</td>\n",
       "    </tr>\n",
       "    <tr>\n",
       "      <th>268</th>\n",
       "      <td>[0, 21, 18, 4103, 2178, 2088, 12, 5331, 2612, ...</td>\n",
       "      <td>[1, 1, 1, 1, 1, 1, 1, 1, 1, 1, 1, 1, 1, 1, 1, ...</td>\n",
       "      <td>[-100, 0, 0, 0, 0, 0, 0, 0, 0, 0, 0, 0, 0, 0, ...</td>\n",
       "      <td>Out</td>\n",
       "      <td>3</td>\n",
       "      <td>268</td>\n",
       "    </tr>\n",
       "    <tr>\n",
       "      <th>269</th>\n",
       "      <td>[0, 24, 18, 555, 2073, 721, 11713, 30, 8052, 2...</td>\n",
       "      <td>[1, 1, 1, 1, 1, 1, 1, 1, 1, 1, 1, 1, 1, 1, 1, ...</td>\n",
       "      <td>[-100, 0, 0, 21, 22, 22, 21, 22, 22, 22, 7, 8,...</td>\n",
       "      <td>AG</td>\n",
       "      <td>3</td>\n",
       "      <td>269</td>\n",
       "    </tr>\n",
       "  </tbody>\n",
       "</table>\n",
       "<p>270 rows × 6 columns</p>\n",
       "</div>"
      ],
      "text/plain": [
       "                                             input_ids  \\\n",
       "0    [0, 544, 15229, 1545, 11610, 2446, 1545, 2302,...   \n",
       "1                       [0, 6146, 1258, 2137, 2383, 2]   \n",
       "2    [0, 15229, 1545, 9888, 2446, 16, 1545, 5281, 2...   \n",
       "3    [0, 12, 21, 13, 3729, 2145, 555, 2073, 5183, 2...   \n",
       "4    [0, 12, 22, 13, 9679, 2052, 3817, 7750, 19521,...   \n",
       "..                                                 ...   \n",
       "265                           [0, 9964, 2079, 4121, 2]   \n",
       "266  [0, 15229, 1545, 26462, 2446, 16, 1545, 19578,...   \n",
       "267                  [0, 21, 18, 5025, 2125, 15463, 2]   \n",
       "268  [0, 21, 18, 4103, 2178, 2088, 12, 5331, 2612, ...   \n",
       "269  [0, 24, 18, 555, 2073, 721, 11713, 30, 8052, 2...   \n",
       "\n",
       "                                        attention_mask  \\\n",
       "0    [1, 1, 1, 1, 1, 1, 1, 1, 1, 1, 1, 1, 1, 1, 1, ...   \n",
       "1                                   [1, 1, 1, 1, 1, 1]   \n",
       "2    [1, 1, 1, 1, 1, 1, 1, 1, 1, 1, 1, 1, 1, 1, 1, ...   \n",
       "3    [1, 1, 1, 1, 1, 1, 1, 1, 1, 1, 1, 1, 1, 1, 1, ...   \n",
       "4    [1, 1, 1, 1, 1, 1, 1, 1, 1, 1, 1, 1, 1, 1, 1, ...   \n",
       "..                                                 ...   \n",
       "265                                    [1, 1, 1, 1, 1]   \n",
       "266  [1, 1, 1, 1, 1, 1, 1, 1, 1, 1, 1, 1, 1, 1, 1, ...   \n",
       "267                              [1, 1, 1, 1, 1, 1, 1]   \n",
       "268  [1, 1, 1, 1, 1, 1, 1, 1, 1, 1, 1, 1, 1, 1, 1, ...   \n",
       "269  [1, 1, 1, 1, 1, 1, 1, 1, 1, 1, 1, 1, 1, 1, 1, ...   \n",
       "\n",
       "                                                labels sentence_class  fold  \\\n",
       "0    [-100, 0, 0, 0, 0, 0, 0, 0, 0, 0, 0, 0, 0, 0, ...             MC     0   \n",
       "1                           [-100, 0, 9, 10, 10, -100]             NM     2   \n",
       "2    [-100, 0, 0, 0, 0, 0, 0, 0, 0, 0, 3, 4, 4, 4, ...             NC     2   \n",
       "3    [-100, 0, 0, 0, 0, 0, 0, 0, 0, 0, 0, 0, 0, 17,...             NM     2   \n",
       "4    [-100, 0, 0, 0, 17, 0, 0, 0, 0, 0, 0, 0, 29, 3...             QT     4   \n",
       "..                                                 ...            ...   ...   \n",
       "265                              [-100, 0, 0, 0, -100]            Out     0   \n",
       "266  [-100, 0, 0, 0, 0, 0, 0, 0, 0, 0, 0, 0, 0, 0, ...            Out     0   \n",
       "267                     [-100, 0, 0, 19, 20, 20, -100]             DP     4   \n",
       "268  [-100, 0, 0, 0, 0, 0, 0, 0, 0, 0, 0, 0, 0, 0, ...            Out     3   \n",
       "269  [-100, 0, 0, 21, 22, 22, 21, 22, 22, 22, 7, 8,...             AG     3   \n",
       "\n",
       "      id  \n",
       "0      0  \n",
       "1      1  \n",
       "2      2  \n",
       "3      3  \n",
       "4      4  \n",
       "..   ...  \n",
       "265  265  \n",
       "266  266  \n",
       "267  267  \n",
       "268  268  \n",
       "269  269  \n",
       "\n",
       "[270 rows x 6 columns]"
      ]
     },
     "execution_count": 29,
     "metadata": {},
     "output_type": "execute_result"
    }
   ],
   "source": [
    "data"
   ]
  },
  {
   "cell_type": "code",
   "execution_count": 30,
   "metadata": {
    "execution": {
     "iopub.execute_input": "2024-11-22T08:04:55.015223Z",
     "iopub.status.busy": "2024-11-22T08:04:55.014882Z",
     "iopub.status.idle": "2024-11-22T08:04:55.022397Z",
     "shell.execute_reply": "2024-11-22T08:04:55.021513Z",
     "shell.execute_reply.started": "2024-11-22T08:04:55.015192Z"
    },
    "trusted": true
   },
   "outputs": [
    {
     "data": {
      "text/plain": [
       "{'label_info': {'label_list': ['CN',\n",
       "   'NC',\n",
       "   'RL',\n",
       "   'LC',\n",
       "   'NM',\n",
       "   'GD',\n",
       "   'AG',\n",
       "   'JB',\n",
       "   'PS',\n",
       "   'DP',\n",
       "   'TI',\n",
       "   'MC',\n",
       "   'PC',\n",
       "   'BP',\n",
       "   'QT',\n",
       "   'RA',\n",
       "   'EQ'],\n",
       "  'label_to_index': {'O': 0,\n",
       "   'B-CN': 1,\n",
       "   'I-CN': 2,\n",
       "   'B-NC': 3,\n",
       "   'I-NC': 4,\n",
       "   'B-RL': 5,\n",
       "   'I-RL': 6,\n",
       "   'B-LC': 7,\n",
       "   'I-LC': 8,\n",
       "   'B-NM': 9,\n",
       "   'I-NM': 10,\n",
       "   'B-GD': 11,\n",
       "   'I-GD': 12,\n",
       "   'B-AG': 13,\n",
       "   'I-AG': 14,\n",
       "   'B-JB': 15,\n",
       "   'I-JB': 16,\n",
       "   'B-PS': 17,\n",
       "   'I-PS': 18,\n",
       "   'B-DP': 19,\n",
       "   'I-DP': 20,\n",
       "   'B-TI': 21,\n",
       "   'I-TI': 22,\n",
       "   'B-MC': 23,\n",
       "   'I-MC': 24,\n",
       "   'B-PC': 25,\n",
       "   'I-PC': 26,\n",
       "   'B-BP': 27,\n",
       "   'I-BP': 28,\n",
       "   'B-QT': 29,\n",
       "   'I-QT': 30,\n",
       "   'B-RA': 31,\n",
       "   'I-RA': 32,\n",
       "   'B-EQ': 33,\n",
       "   'I-EQ': 34},\n",
       "  'index_to_label': {0: 'O',\n",
       "   1: 'B-CN',\n",
       "   2: 'I-CN',\n",
       "   3: 'B-NC',\n",
       "   4: 'I-NC',\n",
       "   5: 'B-RL',\n",
       "   6: 'I-RL',\n",
       "   7: 'B-LC',\n",
       "   8: 'I-LC',\n",
       "   9: 'B-NM',\n",
       "   10: 'I-NM',\n",
       "   11: 'B-GD',\n",
       "   12: 'I-GD',\n",
       "   13: 'B-AG',\n",
       "   14: 'I-AG',\n",
       "   15: 'B-JB',\n",
       "   16: 'I-JB',\n",
       "   17: 'B-PS',\n",
       "   18: 'I-PS',\n",
       "   19: 'B-DP',\n",
       "   20: 'I-DP',\n",
       "   21: 'B-TI',\n",
       "   22: 'I-TI',\n",
       "   23: 'B-MC',\n",
       "   24: 'I-MC',\n",
       "   25: 'B-PC',\n",
       "   26: 'I-PC',\n",
       "   27: 'B-BP',\n",
       "   28: 'I-BP',\n",
       "   29: 'B-QT',\n",
       "   30: 'I-QT',\n",
       "   31: 'B-RA',\n",
       "   32: 'I-RA',\n",
       "   33: 'B-EQ',\n",
       "   34: 'I-EQ'}},\n",
       " 'pad_token': ('[PAD]', 1),\n",
       " 'pretrained_model_name': 'klue/roberta-base'}"
      ]
     },
     "execution_count": 30,
     "metadata": {},
     "output_type": "execute_result"
    }
   ],
   "source": [
    "data_args"
   ]
  },
  {
   "cell_type": "code",
   "execution_count": 31,
   "metadata": {},
   "outputs": [],
   "source": [
    "index_to_label = data_args['label_info']['index_to_label']\n"
   ]
  },
  {
   "cell_type": "code",
   "execution_count": 32,
   "metadata": {
    "execution": {
     "iopub.execute_input": "2024-11-22T08:04:55.868931Z",
     "iopub.status.busy": "2024-11-22T08:04:55.868528Z",
     "iopub.status.idle": "2024-11-22T08:04:55.875510Z",
     "shell.execute_reply": "2024-11-22T08:04:55.874511Z",
     "shell.execute_reply.started": "2024-11-22T08:04:55.868903Z"
    },
    "trusted": true
   },
   "outputs": [
    {
     "name": "stdout",
     "output_type": "stream",
     "text": [
      "sentence_class\n",
      "Out    78\n",
      "NM     34\n",
      "DP     31\n",
      "NC     22\n",
      "JB     13\n",
      "QT     12\n",
      "PS     12\n",
      "AG     11\n",
      "TI      9\n",
      "RL      9\n",
      "LC      8\n",
      "PC      8\n",
      "CN      8\n",
      "BP      7\n",
      "MC      6\n",
      "GD      2\n",
      "Name: count, dtype: int64\n"
     ]
    }
   ],
   "source": [
    "print(data['sentence_class'].value_counts())"
   ]
  },
  {
   "cell_type": "code",
   "execution_count": 33,
   "metadata": {
    "execution": {
     "iopub.execute_input": "2024-11-22T08:04:56.839960Z",
     "iopub.status.busy": "2024-11-22T08:04:56.839619Z",
     "iopub.status.idle": "2024-11-22T08:04:56.846389Z",
     "shell.execute_reply": "2024-11-22T08:04:56.845507Z",
     "shell.execute_reply.started": "2024-11-22T08:04:56.839929Z"
    },
    "trusted": true
   },
   "outputs": [],
   "source": [
    "def split_dataset(data, use_kfold=False, n_fold=None, valid_ratio=.2, shuffle=False):\n",
    "    \"\"\"\n",
    "    Split data into train and validation.\n",
    "    Size of validation set will be determined by 'n_fold' when 'use_kfold' is True, otherwise determined by 'valid_ratio'.\n",
    "    'shuffle' will affect only in case of 'use_kfold' is False.\n",
    "    \"\"\"\n",
    "\n",
    "    if use_kfold == True:\n",
    "        train = data[data['fold'] != n_fold]\n",
    "        # data 데이터프레임에서 'fold' 열의 값이 n_fold와 다른 모든 데이터를 학습 데이터로 선택합니다.\n",
    "        valid = data[data['fold'] == n_fold]\n",
    "        # data 데이터프레임에서 'fold' 열의 값이 n_fold와 같은 데이터를 검증 데이터로 선택합니다.\n",
    "    else:\n",
    "        train, valid = train_test_split(\n",
    "            data, test_size=valid_ratio, random_state=42, shuffle=shuffle, stratify=data['sentence_class'])\n",
    "            #data, test_size=valid_ratio, random_state=42, shuffle=shuffle)\n",
    "\n",
    "    train_dataset = NERDatasetPreEncoded(train['input_ids'].values, train['attention_mask'].values, train['labels'].values)\n",
    "    valid_dataset = NERDatasetPreEncoded(valid['input_ids'].values, valid['attention_mask'].values, valid['labels'].values)\n",
    "    # train 데이터프레임에서 필요한 열('input_ids', 'attention_mask', 'labels')을 추출하여 NERDatasetPreEncoded 클래스의 인스턴스를 생성합니다.\n",
    "    # 이 클래스는 NER(Named Entity Recognition) 작업을 위한 데이터셋을 준비합니다.\n",
    "    return train_dataset, valid_dataset"
   ]
  },
  {
   "cell_type": "code",
   "execution_count": 34,
   "metadata": {
    "execution": {
     "iopub.execute_input": "2024-11-22T08:05:02.123856Z",
     "iopub.status.busy": "2024-11-22T08:05:02.123511Z",
     "iopub.status.idle": "2024-11-22T08:05:02.131588Z",
     "shell.execute_reply": "2024-11-22T08:05:02.130719Z",
     "shell.execute_reply.started": "2024-11-22T08:05:02.123824Z"
    },
    "trusted": true
   },
   "outputs": [
    {
     "name": "stdout",
     "output_type": "stream",
     "text": [
      "|train| = 216 |valid| = 54\n"
     ]
    }
   ],
   "source": [
    "n_fold=1\n",
    "\n",
    "pretrained_model_name = data_args['pretrained_model_name'].replace('/', '_')\n",
    "# data_args 딕셔너리에서 사전 훈련된 모델의 이름을 가져와서, 이름에 포함된 모든 '/' 문자를 '_'로 변경합니다.\n",
    "# 파일 시스템에서 경로 구분자로 사용되는 '/'를 파일 이름으로 사용할 수 없기 때문입니다.\n",
    "\n",
    "label_to_index = data_args['label_info']['label_to_index']\n",
    "index_to_label = data_args['label_info']['index_to_label']\n",
    "pad_token = data_args['pad_token']\n",
    "\n",
    "train_dataset, valid_dataset = split_dataset(\n",
    "    data, use_kfold=config.use_kfold, n_fold=n_fold, valid_ratio=config.valid_ratio, shuffle=True)\n",
    "print(\n",
    "    '|train| =', len(train_dataset),\n",
    "    '|valid| =', len(valid_dataset),\n",
    ")\n"
   ]
  },
  {
   "cell_type": "code",
   "execution_count": 35,
   "metadata": {
    "execution": {
     "iopub.execute_input": "2024-11-22T08:05:04.794101Z",
     "iopub.status.busy": "2024-11-22T08:05:04.793753Z",
     "iopub.status.idle": "2024-11-22T08:05:04.798929Z",
     "shell.execute_reply": "2024-11-22T08:05:04.797924Z",
     "shell.execute_reply.started": "2024-11-22T08:05:04.794068Z"
    },
    "trusted": true
   },
   "outputs": [],
   "source": [
    "def get_pretrained_model(model_name: str, num_labels: int):\n",
    "    \"\"\"\n",
    "    Basically, use AutoModelForTokenClassification from Huffingface.\n",
    "    This function remains for future issue.\n",
    "    \"\"\"\n",
    "    model_loader = AutoModelForTokenClassification\n",
    "    return model_loader.from_pretrained(model_name, num_labels=num_labels)"
   ]
  },
  {
   "cell_type": "code",
   "execution_count": 36,
   "metadata": {
    "execution": {
     "iopub.execute_input": "2024-11-22T08:05:07.170687Z",
     "iopub.status.busy": "2024-11-22T08:05:07.170041Z",
     "iopub.status.idle": "2024-11-22T08:05:07.269207Z",
     "shell.execute_reply": "2024-11-22T08:05:07.268596Z",
     "shell.execute_reply.started": "2024-11-22T08:05:07.170647Z"
    },
    "trusted": true
   },
   "outputs": [
    {
     "name": "stderr",
     "output_type": "stream",
     "text": [
      "Some weights of RobertaForTokenClassification were not initialized from the model checkpoint at klue/roberta-base and are newly initialized: ['classifier.bias', 'classifier.weight']\n",
      "You should probably TRAIN this model on a down-stream task to be able to use it for predictions and inference.\n"
     ]
    }
   ],
   "source": [
    "model = get_pretrained_model(\n",
    "        data_args['pretrained_model_name'], len(label_to_index))"
   ]
  },
  {
   "cell_type": "code",
   "execution_count": 37,
   "metadata": {
    "execution": {
     "iopub.execute_input": "2024-11-22T08:05:08.272665Z",
     "iopub.status.busy": "2024-11-22T08:05:08.271826Z",
     "iopub.status.idle": "2024-11-22T08:05:08.278160Z",
     "shell.execute_reply": "2024-11-22T08:05:08.277304Z",
     "shell.execute_reply.started": "2024-11-22T08:05:08.272632Z"
    },
    "trusted": true
   },
   "outputs": [
    {
     "name": "stdout",
     "output_type": "stream",
     "text": [
      "# of total_iters = 2700 # of warmup_iters = 540\n"
     ]
    }
   ],
   "source": [
    "total_batch_size = config.batch_size_per_device * torch.cuda.device_count()\n",
    "    # 전체 배치 크기, 총 반복 횟수, 워밍업 단계 수를 계산합니다. 이는 GPU 개수와 설정을 통해 동적으로 결정됩니다.\n",
    "n_total_iterations = int(len(train_dataset) /\n",
    "                         total_batch_size * config.n_epochs_per_fold)\n",
    "n_warmup_steps = int(n_total_iterations * config.warmup_ratio)\n",
    "print(\n",
    "    '# of total_iters =', n_total_iterations,\n",
    "    '# of warmup_iters =', n_warmup_steps,\n",
    ")\n"
   ]
  },
  {
   "cell_type": "code",
   "execution_count": 38,
   "metadata": {},
   "outputs": [
    {
     "data": {
      "text/plain": [
       "('4.46.3', '1.1.1')"
      ]
     },
     "execution_count": 38,
     "metadata": {},
     "output_type": "execute_result"
    }
   ],
   "source": [
    "import accelerate\n",
    "import transformers\n",
    "\n",
    "transformers.__version__, accelerate.__version__"
   ]
  },
  {
   "cell_type": "code",
   "execution_count": 39,
   "metadata": {
    "execution": {
     "iopub.execute_input": "2024-11-22T08:13:38.945920Z",
     "iopub.status.busy": "2024-11-22T08:13:38.945559Z",
     "iopub.status.idle": "2024-11-22T08:13:38.977697Z",
     "shell.execute_reply": "2024-11-22T08:13:38.977112Z",
     "shell.execute_reply.started": "2024-11-22T08:13:38.945889Z"
    },
    "trusted": true
   },
   "outputs": [
    {
     "name": "stderr",
     "output_type": "stream",
     "text": [
      "/home/lsj/바탕화면/pytorch-ko-ner-v2_analysis_03/.conda/lib/python3.10/site-packages/transformers/training_args.py:1568: FutureWarning: `evaluation_strategy` is deprecated and will be removed in version 4.46 of 🤗 Transformers. Use `eval_strategy` instead\n",
      "  warnings.warn(\n",
      "Using the `WANDB_DISABLED` environment variable is deprecated and will be removed in v5. Use the --report_to flag to control the integrations used for logging result (for instance --report_to none).\n"
     ]
    }
   ],
   "source": [
    "training_args = TrainingArguments(\n",
    "    output_dir=f\"./checkpoints/{pretrained_model_name}.{n_fold}\",\n",
    "    num_train_epochs=config.n_epochs_per_fold,\n",
    "    per_device_train_batch_size=config.batch_size_per_device,\n",
    "    per_device_eval_batch_size=config.batch_size_per_device,\n",
    "    warmup_steps=n_warmup_steps,\n",
    "    weight_decay=0.01,\n",
    "    fp16=True,\n",
    "    evaluation_strategy='epoch',\n",
    "    save_strategy='epoch',\n",
    "    save_total_limit=1,  # 체크포인트 최대 1개로 제한\n",
    "\n",
    "    logging_steps=max(1,n_total_iterations // 100),\n",
    "    save_steps=n_total_iterations // config.n_epochs_per_fold,\n",
    "    load_best_model_at_end=True,\n",
    ")"
   ]
  },
  {
   "cell_type": "code",
   "execution_count": 40,
   "metadata": {
    "execution": {
     "iopub.execute_input": "2024-11-22T08:13:44.225045Z",
     "iopub.status.busy": "2024-11-22T08:13:44.224206Z",
     "iopub.status.idle": "2024-11-22T08:13:44.231531Z",
     "shell.execute_reply": "2024-11-22T08:13:44.230684Z",
     "shell.execute_reply.started": "2024-11-22T08:13:44.225009Z"
    },
    "trusted": true
   },
   "outputs": [],
   "source": [
    "class compute_metrics():\n",
    "\n",
    "    def __init__(self, index_to_label):\n",
    "        self.index_to_label = index_to_label\n",
    "\n",
    "    def __call__(self, pred):\n",
    "        \"\"\"\n",
    "        Compute metrics use \"seqeval\"\n",
    "        It evaluates based on Entity Level F1 score.\n",
    "        \"\"\"\n",
    "        metric = load_metric('seqeval')\n",
    "\n",
    "        labels = pred.label_ids\n",
    "        predictions = pred.predictions.argmax(2)\n",
    "\n",
    "        # Discard special tokens based on true_labels.\n",
    "        true_predictions = [[self.index_to_label[p] for p, l in zip(\n",
    "            prediction, label) if l >= 0] for prediction, label in zip(predictions, labels)]\n",
    "        true_labels = [[self.index_to_label[l] for p, l in zip(prediction, label) if l >= 0]\n",
    "                    for prediction, label in zip(predictions, labels)]\n",
    "\n",
    "        results = metric.compute(\n",
    "            predictions=true_predictions, references=true_labels)\n",
    "        eval_results = {\n",
    "            \"precision\": results[\"overall_precision\"],\n",
    "            \"recall\": results[\"overall_recall\"],\n",
    "            \"f1\": results[\"overall_f1\"],\n",
    "            \"accuracy\": results[\"overall_accuracy\"],\n",
    "        }\n",
    "        print(classification_report(true_labels, true_predictions))\n",
    "\n",
    "        return eval_results"
   ]
  },
  {
   "cell_type": "code",
   "execution_count": 41,
   "metadata": {
    "execution": {
     "iopub.execute_input": "2024-11-22T08:13:45.461715Z",
     "iopub.status.busy": "2024-11-22T08:13:45.460626Z",
     "iopub.status.idle": "2024-11-22T08:13:45.477300Z",
     "shell.execute_reply": "2024-11-22T08:13:45.476437Z",
     "shell.execute_reply.started": "2024-11-22T08:13:45.461678Z"
    },
    "trusted": true
   },
   "outputs": [],
   "source": [
    "trainer = Trainer(\n",
    "    model=model,\n",
    "    args=training_args,\n",
    "    data_collator=NERCollator(pad_token=pad_token,\n",
    "                              with_text=False),\n",
    "    train_dataset=train_dataset,\n",
    "    eval_dataset=valid_dataset,\n",
    "    compute_metrics=compute_metrics(index_to_label),\n",
    ")"
   ]
  },
  {
   "cell_type": "code",
   "execution_count": 42,
   "metadata": {
    "execution": {
     "iopub.execute_input": "2024-11-22T08:13:52.259322Z",
     "iopub.status.busy": "2024-11-22T08:13:52.258965Z",
     "iopub.status.idle": "2024-11-22T08:21:34.777289Z",
     "shell.execute_reply": "2024-11-22T08:21:34.776401Z",
     "shell.execute_reply.started": "2024-11-22T08:13:52.259290Z"
    },
    "trusted": true
   },
   "outputs": [
    {
     "name": "stderr",
     "output_type": "stream",
     "text": [
      "  1%|          | 28/2700 [00:05<09:47,  4.55it/s]"
     ]
    },
    {
     "name": "stdout",
     "output_type": "stream",
     "text": [
      "{'loss': 3.5329, 'grad_norm': 9.7932767868042, 'learning_rate': 2.3148148148148148e-06, 'epoch': 0.5}\n"
     ]
    },
    {
     "name": "stderr",
     "output_type": "stream",
     "text": [
      "  2%|▏         | 54/2700 [00:11<09:22,  4.71it/s]"
     ]
    },
    {
     "name": "stdout",
     "output_type": "stream",
     "text": [
      "{'loss': 2.5653, 'grad_norm': 9.613458633422852, 'learning_rate': 4.814814814814815e-06, 'epoch': 1.0}\n"
     ]
    },
    {
     "name": "stderr",
     "output_type": "stream",
     "text": [
      "/home/lsj/바탕화면/pytorch-ko-ner-v2_analysis_03/.conda/lib/python3.10/site-packages/seqeval/metrics/v1.py:57: UndefinedMetricWarning: Precision and F-score are ill-defined and being set to 0.0 in labels with no predicted samples. Use `zero_division` parameter to control this behavior.\n",
      "  _warn_prf(average, modifier, msg_start, len(result))\n",
      "/home/lsj/바탕화면/pytorch-ko-ner-v2_analysis_03/.conda/lib/python3.10/site-packages/seqeval/metrics/v1.py:57: UndefinedMetricWarning: Precision and F-score are ill-defined and being set to 0.0 due to no predicted samples. Use `zero_division` parameter to control this behavior.\n",
      "  _warn_prf(average, modifier, msg_start, len(result))\n",
      "\n",
      "  2%|▏         | 54/2700 [00:13<09:22,  4.71it/s]"
     ]
    },
    {
     "name": "stdout",
     "output_type": "stream",
     "text": [
      "              precision    recall  f1-score   support\n",
      "\n",
      "          AG       0.00      0.00      0.00         2\n",
      "          BP       0.00      0.00      0.00        13\n",
      "          CN       0.00      0.00      0.00         2\n",
      "          DP       0.00      0.00      0.00         6\n",
      "          EQ       0.00      0.00      0.00         4\n",
      "          GD       0.00      0.00      0.00         1\n",
      "          JB       0.00      0.00      0.00         3\n",
      "          LC       0.00      0.00      0.00        16\n",
      "          MC       0.00      0.00      0.00         2\n",
      "          NC       0.00      0.00      0.00        27\n",
      "          NM       0.00      0.00      0.00        32\n",
      "          PC       0.00      0.00      0.00         4\n",
      "          PS       0.00      0.00      0.00        40\n",
      "          QT       0.00      0.00      0.00         2\n",
      "          RL       0.00      0.00      0.00         6\n",
      "          TI       0.00      0.00      0.00        18\n",
      "\n",
      "   micro avg       0.00      0.00      0.00       178\n",
      "   macro avg       0.00      0.00      0.00       178\n",
      "weighted avg       0.00      0.00      0.00       178\n",
      "\n",
      "{'eval_loss': 1.9526822566986084, 'eval_precision': 0.0, 'eval_recall': 0.0, 'eval_f1': 0.0, 'eval_accuracy': 0.670602858918583, 'eval_runtime': 1.676, 'eval_samples_per_second': 32.219, 'eval_steps_per_second': 8.353, 'epoch': 1.0}\n"
     ]
    },
    {
     "name": "stderr",
     "output_type": "stream",
     "text": [
      "  3%|▎         | 82/2700 [00:20<09:26,  4.62it/s]"
     ]
    },
    {
     "name": "stdout",
     "output_type": "stream",
     "text": [
      "{'loss': 1.3913, 'grad_norm': 1.5160547494888306, 'learning_rate': 7.314814814814815e-06, 'epoch': 1.5}\n"
     ]
    },
    {
     "name": "stderr",
     "output_type": "stream",
     "text": [
      "  4%|▍         | 108/2700 [00:26<07:01,  6.14it/s]"
     ]
    },
    {
     "name": "stdout",
     "output_type": "stream",
     "text": [
      "{'loss': 1.0775, 'grad_norm': 4.074846267700195, 'learning_rate': 9.814814814814815e-06, 'epoch': 2.0}\n"
     ]
    },
    {
     "name": "stderr",
     "output_type": "stream",
     "text": [
      "/home/lsj/바탕화면/pytorch-ko-ner-v2_analysis_03/.conda/lib/python3.10/site-packages/seqeval/metrics/v1.py:57: UndefinedMetricWarning: Precision and F-score are ill-defined and being set to 0.0 in labels with no predicted samples. Use `zero_division` parameter to control this behavior.\n",
      "  _warn_prf(average, modifier, msg_start, len(result))\n",
      "\n",
      "  4%|▍         | 108/2700 [00:27<07:01,  6.14it/s]"
     ]
    },
    {
     "name": "stdout",
     "output_type": "stream",
     "text": [
      "              precision    recall  f1-score   support\n",
      "\n",
      "          AG       0.00      0.00      0.00         2\n",
      "          BP       0.00      0.00      0.00        13\n",
      "          CN       0.00      0.00      0.00         2\n",
      "          DP       0.00      0.00      0.00         6\n",
      "          EQ       0.00      0.00      0.00         4\n",
      "          GD       0.00      0.00      0.00         1\n",
      "          JB       0.00      0.00      0.00         3\n",
      "          LC       0.00      0.00      0.00        16\n",
      "          MC       0.00      0.00      0.00         2\n",
      "          NC       0.00      0.00      0.00        27\n",
      "          NM       0.00      0.00      0.00        32\n",
      "          PC       0.00      0.00      0.00         4\n",
      "          PS       0.00      0.00      0.00        40\n",
      "          QT       0.00      0.00      0.00         2\n",
      "          RL       0.00      0.00      0.00         6\n",
      "          TI       0.00      0.00      0.00        18\n",
      "\n",
      "   micro avg       0.00      0.00      0.00       178\n",
      "   macro avg       0.00      0.00      0.00       178\n",
      "weighted avg       0.00      0.00      0.00       178\n",
      "\n",
      "{'eval_loss': 1.0300401449203491, 'eval_precision': 0.0, 'eval_recall': 0.0, 'eval_f1': 0.0, 'eval_accuracy': 0.6786824114356743, 'eval_runtime': 1.2821, 'eval_samples_per_second': 42.118, 'eval_steps_per_second': 10.919, 'epoch': 2.0}\n"
     ]
    },
    {
     "name": "stderr",
     "output_type": "stream",
     "text": [
      "  5%|▌         | 135/2700 [00:35<10:04,  4.24it/s]"
     ]
    },
    {
     "name": "stdout",
     "output_type": "stream",
     "text": [
      "{'loss': 0.6899, 'grad_norm': 2.4217934608459473, 'learning_rate': 1.2314814814814815e-05, 'epoch': 2.5}\n"
     ]
    },
    {
     "name": "stderr",
     "output_type": "stream",
     "text": [
      "  6%|▌         | 162/2700 [00:41<08:47,  4.81it/s]"
     ]
    },
    {
     "name": "stdout",
     "output_type": "stream",
     "text": [
      "{'loss': 0.5419, 'grad_norm': 3.9544365406036377, 'learning_rate': 1.4814814814814815e-05, 'epoch': 3.0}\n"
     ]
    },
    {
     "name": "stderr",
     "output_type": "stream",
     "text": [
      "/home/lsj/바탕화면/pytorch-ko-ner-v2_analysis_03/.conda/lib/python3.10/site-packages/seqeval/metrics/v1.py:57: UndefinedMetricWarning: Precision and F-score are ill-defined and being set to 0.0 in labels with no predicted samples. Use `zero_division` parameter to control this behavior.\n",
      "  _warn_prf(average, modifier, msg_start, len(result))\n",
      "\n",
      "  6%|▌         | 162/2700 [00:42<08:47,  4.81it/s]"
     ]
    },
    {
     "name": "stdout",
     "output_type": "stream",
     "text": [
      "              precision    recall  f1-score   support\n",
      "\n",
      "          AG       0.00      0.00      0.00         2\n",
      "          BP       0.57      0.62      0.59        13\n",
      "          CN       0.00      0.00      0.00         2\n",
      "          DP       0.00      0.00      0.00         6\n",
      "          EQ       0.00      0.00      0.00         4\n",
      "          GD       0.00      0.00      0.00         1\n",
      "          JB       0.00      0.00      0.00         3\n",
      "          LC       0.50      0.44      0.47        16\n",
      "          MC       0.00      0.00      0.00         2\n",
      "          NC       0.50      0.52      0.51        27\n",
      "          NM       0.94      1.00      0.97        32\n",
      "          PC       0.00      0.00      0.00         4\n",
      "          PS       0.87      1.00      0.93        40\n",
      "          QT       0.00      0.00      0.00         2\n",
      "          RL       0.00      0.00      0.00         6\n",
      "          TI       0.61      0.61      0.61        18\n",
      "\n",
      "   micro avg       0.73      0.63      0.67       178\n",
      "   macro avg       0.25      0.26      0.25       178\n",
      "weighted avg       0.59      0.63      0.61       178\n",
      "\n",
      "{'eval_loss': 0.5145423412322998, 'eval_precision': 0.7272727272727273, 'eval_recall': 0.6292134831460674, 'eval_f1': 0.674698795180723, 'eval_accuracy': 0.9030453697949037, 'eval_runtime': 1.2594, 'eval_samples_per_second': 42.878, 'eval_steps_per_second': 11.116, 'epoch': 3.0}\n"
     ]
    },
    {
     "name": "stderr",
     "output_type": "stream",
     "text": [
      "  7%|▋         | 190/2700 [00:50<09:35,  4.36it/s]"
     ]
    },
    {
     "name": "stdout",
     "output_type": "stream",
     "text": [
      "{'loss': 0.4158, 'grad_norm': 2.231895685195923, 'learning_rate': 1.7314814814814813e-05, 'epoch': 3.5}\n"
     ]
    },
    {
     "name": "stderr",
     "output_type": "stream",
     "text": [
      "  8%|▊         | 216/2700 [00:56<09:50,  4.20it/s]"
     ]
    },
    {
     "name": "stdout",
     "output_type": "stream",
     "text": [
      "{'loss': 0.2858, 'grad_norm': 2.0006933212280273, 'learning_rate': 1.9814814814814816e-05, 'epoch': 4.0}\n"
     ]
    },
    {
     "name": "stderr",
     "output_type": "stream",
     "text": [
      "/home/lsj/바탕화면/pytorch-ko-ner-v2_analysis_03/.conda/lib/python3.10/site-packages/seqeval/metrics/v1.py:57: UndefinedMetricWarning: Precision and F-score are ill-defined and being set to 0.0 in labels with no predicted samples. Use `zero_division` parameter to control this behavior.\n",
      "  _warn_prf(average, modifier, msg_start, len(result))\n",
      "\n",
      "  8%|▊         | 216/2700 [00:57<09:50,  4.20it/s]"
     ]
    },
    {
     "name": "stdout",
     "output_type": "stream",
     "text": [
      "              precision    recall  f1-score   support\n",
      "\n",
      "          AG       1.00      1.00      1.00         2\n",
      "          BP       0.40      0.62      0.48        13\n",
      "          CN       0.00      0.00      0.00         2\n",
      "          DP       0.00      0.00      0.00         6\n",
      "          EQ       1.00      0.25      0.40         4\n",
      "          GD       0.00      0.00      0.00         1\n",
      "          JB       0.00      0.00      0.00         3\n",
      "          LC       0.69      0.56      0.62        16\n",
      "          MC       0.00      0.00      0.00         2\n",
      "          NC       0.62      0.78      0.69        27\n",
      "          NM       0.97      1.00      0.98        32\n",
      "          PC       0.00      0.00      0.00         4\n",
      "          PS       1.00      0.95      0.97        40\n",
      "          QT       0.00      0.00      0.00         2\n",
      "          RL       0.00      0.00      0.00         6\n",
      "          TI       0.65      0.61      0.63        18\n",
      "\n",
      "   micro avg       0.76      0.69      0.72       178\n",
      "   macro avg       0.40      0.36      0.36       178\n",
      "weighted avg       0.68      0.69      0.68       178\n",
      "\n",
      "{'eval_loss': 0.3294142186641693, 'eval_precision': 0.7625, 'eval_recall': 0.6853932584269663, 'eval_f1': 0.7218934911242604, 'eval_accuracy': 0.9390926041019266, 'eval_runtime': 1.2839, 'eval_samples_per_second': 42.059, 'eval_steps_per_second': 10.904, 'epoch': 4.0}\n"
     ]
    },
    {
     "name": "stderr",
     "output_type": "stream",
     "text": [
      "  9%|▉         | 244/2700 [01:05<09:14,  4.43it/s]"
     ]
    },
    {
     "name": "stdout",
     "output_type": "stream",
     "text": [
      "{'loss': 0.2343, 'grad_norm': 3.931413173675537, 'learning_rate': 2.2314814814814816e-05, 'epoch': 4.5}\n"
     ]
    },
    {
     "name": "stderr",
     "output_type": "stream",
     "text": [
      " 10%|█         | 270/2700 [01:11<09:09,  4.43it/s]"
     ]
    },
    {
     "name": "stdout",
     "output_type": "stream",
     "text": [
      "{'loss': 0.1852, 'grad_norm': 7.568154811859131, 'learning_rate': 2.4814814814814816e-05, 'epoch': 5.0}\n"
     ]
    },
    {
     "name": "stderr",
     "output_type": "stream",
     "text": [
      "/home/lsj/바탕화면/pytorch-ko-ner-v2_analysis_03/.conda/lib/python3.10/site-packages/seqeval/metrics/v1.py:57: UndefinedMetricWarning: Precision and F-score are ill-defined and being set to 0.0 in labels with no predicted samples. Use `zero_division` parameter to control this behavior.\n",
      "  _warn_prf(average, modifier, msg_start, len(result))\n",
      "\n",
      " 10%|█         | 270/2700 [01:12<09:09,  4.43it/s]"
     ]
    },
    {
     "name": "stdout",
     "output_type": "stream",
     "text": [
      "              precision    recall  f1-score   support\n",
      "\n",
      "          AG       1.00      1.00      1.00         2\n",
      "          BP       0.38      0.62      0.47        13\n",
      "          CN       0.50      0.50      0.50         2\n",
      "          DP       0.67      0.67      0.67         6\n",
      "          EQ       0.60      0.75      0.67         4\n",
      "          GD       1.00      1.00      1.00         1\n",
      "          JB       0.00      0.00      0.00         3\n",
      "          LC       0.65      0.81      0.72        16\n",
      "          MC       0.00      0.00      0.00         2\n",
      "          NC       0.62      0.85      0.72        27\n",
      "          NM       0.97      1.00      0.98        32\n",
      "          PC       0.00      0.00      0.00         4\n",
      "          PS       0.93      1.00      0.96        40\n",
      "          QT       0.50      0.50      0.50         2\n",
      "          RL       0.00      0.00      0.00         6\n",
      "          TI       0.38      0.56      0.45        18\n",
      "\n",
      "   micro avg       0.69      0.78      0.73       178\n",
      "   macro avg       0.51      0.58      0.54       178\n",
      "weighted avg       0.67      0.78      0.71       178\n",
      "\n",
      "{'eval_loss': 0.22726398706436157, 'eval_precision': 0.69, 'eval_recall': 0.7752808988764045, 'eval_f1': 0.7301587301587302, 'eval_accuracy': 0.9527656929770043, 'eval_runtime': 1.2699, 'eval_samples_per_second': 42.522, 'eval_steps_per_second': 11.024, 'epoch': 5.0}\n"
     ]
    },
    {
     "name": "stderr",
     "output_type": "stream",
     "text": [
      " 11%|█         | 297/2700 [01:20<07:46,  5.15it/s]"
     ]
    },
    {
     "name": "stdout",
     "output_type": "stream",
     "text": [
      "{'loss': 0.1787, 'grad_norm': 3.4148693084716797, 'learning_rate': 2.7314814814814816e-05, 'epoch': 5.5}\n"
     ]
    },
    {
     "name": "stderr",
     "output_type": "stream",
     "text": [
      " 12%|█▏        | 324/2700 [01:26<08:51,  4.47it/s]"
     ]
    },
    {
     "name": "stdout",
     "output_type": "stream",
     "text": [
      "{'loss': 0.1422, 'grad_norm': 6.265837669372559, 'learning_rate': 2.981481481481482e-05, 'epoch': 6.0}\n"
     ]
    },
    {
     "name": "stderr",
     "output_type": "stream",
     "text": [
      "/home/lsj/바탕화면/pytorch-ko-ner-v2_analysis_03/.conda/lib/python3.10/site-packages/seqeval/metrics/v1.py:57: UndefinedMetricWarning: Precision and F-score are ill-defined and being set to 0.0 in labels with no predicted samples. Use `zero_division` parameter to control this behavior.\n",
      "  _warn_prf(average, modifier, msg_start, len(result))\n",
      "\n",
      " 12%|█▏        | 324/2700 [01:27<08:51,  4.47it/s]"
     ]
    },
    {
     "name": "stdout",
     "output_type": "stream",
     "text": [
      "              precision    recall  f1-score   support\n",
      "\n",
      "          AG       1.00      1.00      1.00         2\n",
      "          BP       0.67      0.77      0.71        13\n",
      "          CN       0.50      0.50      0.50         2\n",
      "          DP       1.00      1.00      1.00         6\n",
      "          EQ       0.75      0.75      0.75         4\n",
      "          GD       1.00      1.00      1.00         1\n",
      "          JB       1.00      0.67      0.80         3\n",
      "          LC       0.88      0.88      0.88        16\n",
      "          MC       0.00      0.00      0.00         2\n",
      "          NC       0.79      0.81      0.80        27\n",
      "          NM       1.00      1.00      1.00        32\n",
      "          PC       1.00      0.50      0.67         4\n",
      "          PS       1.00      1.00      1.00        40\n",
      "          QT       0.50      0.50      0.50         2\n",
      "          RL       0.00      0.00      0.00         6\n",
      "          TI       0.89      0.89      0.89        18\n",
      "\n",
      "   micro avg       0.89      0.85      0.87       178\n",
      "   macro avg       0.75      0.70      0.72       178\n",
      "weighted avg       0.86      0.85      0.85       178\n",
      "\n",
      "{'eval_loss': 0.1851908415555954, 'eval_precision': 0.8888888888888888, 'eval_recall': 0.8539325842696629, 'eval_f1': 0.8710601719197708, 'eval_accuracy': 0.966438781852082, 'eval_runtime': 1.3026, 'eval_samples_per_second': 41.456, 'eval_steps_per_second': 10.748, 'epoch': 6.0}\n"
     ]
    },
    {
     "name": "stderr",
     "output_type": "stream",
     "text": [
      " 13%|█▎        | 352/2700 [01:36<08:45,  4.47it/s]"
     ]
    },
    {
     "name": "stdout",
     "output_type": "stream",
     "text": [
      "{'loss': 0.0881, 'grad_norm': 3.018141269683838, 'learning_rate': 3.231481481481481e-05, 'epoch': 6.5}\n"
     ]
    },
    {
     "name": "stderr",
     "output_type": "stream",
     "text": [
      " 14%|█▍        | 378/2700 [01:42<08:06,  4.77it/s]"
     ]
    },
    {
     "name": "stdout",
     "output_type": "stream",
     "text": [
      "{'loss': 0.0867, 'grad_norm': 0.14779935777187347, 'learning_rate': 3.481481481481482e-05, 'epoch': 7.0}\n"
     ]
    },
    {
     "name": "stderr",
     "output_type": "stream",
     "text": [
      "/home/lsj/바탕화면/pytorch-ko-ner-v2_analysis_03/.conda/lib/python3.10/site-packages/seqeval/metrics/v1.py:57: UndefinedMetricWarning: Precision and F-score are ill-defined and being set to 0.0 in labels with no predicted samples. Use `zero_division` parameter to control this behavior.\n",
      "  _warn_prf(average, modifier, msg_start, len(result))\n",
      "\n",
      " 14%|█▍        | 378/2700 [01:43<08:06,  4.77it/s]"
     ]
    },
    {
     "name": "stdout",
     "output_type": "stream",
     "text": [
      "              precision    recall  f1-score   support\n",
      "\n",
      "          AG       1.00      1.00      1.00         2\n",
      "          BP       0.79      0.85      0.81        13\n",
      "          CN       1.00      1.00      1.00         2\n",
      "          DP       0.83      0.83      0.83         6\n",
      "          EQ       0.60      0.75      0.67         4\n",
      "          GD       1.00      1.00      1.00         1\n",
      "          JB       1.00      0.67      0.80         3\n",
      "          LC       0.72      0.81      0.76        16\n",
      "          MC       0.67      1.00      0.80         2\n",
      "          NC       0.81      0.78      0.79        27\n",
      "          NM       0.94      1.00      0.97        32\n",
      "          PC       1.00      0.75      0.86         4\n",
      "          PS       1.00      0.97      0.99        40\n",
      "          QT       0.50      0.50      0.50         2\n",
      "          RL       0.00      0.00      0.00         6\n",
      "          TI       0.94      0.89      0.91        18\n",
      "\n",
      "   micro avg       0.88      0.86      0.87       178\n",
      "   macro avg       0.80      0.80      0.79       178\n",
      "weighted avg       0.86      0.86      0.86       178\n",
      "\n",
      "{'eval_loss': 0.18224069476127625, 'eval_precision': 0.8793103448275862, 'eval_recall': 0.8595505617977528, 'eval_f1': 0.8693181818181818, 'eval_accuracy': 0.9651957737725295, 'eval_runtime': 1.2615, 'eval_samples_per_second': 42.804, 'eval_steps_per_second': 11.097, 'epoch': 7.0}\n"
     ]
    },
    {
     "name": "stderr",
     "output_type": "stream",
     "text": [
      " 15%|█▌        | 406/2700 [01:51<08:15,  4.63it/s]"
     ]
    },
    {
     "name": "stdout",
     "output_type": "stream",
     "text": [
      "{'loss': 0.0772, 'grad_norm': 0.12775884568691254, 'learning_rate': 3.731481481481482e-05, 'epoch': 7.5}\n"
     ]
    },
    {
     "name": "stderr",
     "output_type": "stream",
     "text": [
      " 16%|█▌        | 432/2700 [01:57<06:33,  5.77it/s]"
     ]
    },
    {
     "name": "stdout",
     "output_type": "stream",
     "text": [
      "{'loss': 0.0525, 'grad_norm': 2.8596303462982178, 'learning_rate': 3.981481481481482e-05, 'epoch': 8.0}\n"
     ]
    },
    {
     "name": "stderr",
     "output_type": "stream",
     "text": [
      "\n",
      " 16%|█▌        | 432/2700 [01:58<06:33,  5.77it/s]"
     ]
    },
    {
     "name": "stdout",
     "output_type": "stream",
     "text": [
      "              precision    recall  f1-score   support\n",
      "\n",
      "          AG       1.00      1.00      1.00         2\n",
      "          BP       0.79      0.85      0.81        13\n",
      "          CN       1.00      1.00      1.00         2\n",
      "          DP       1.00      0.83      0.91         6\n",
      "          EQ       0.43      0.75      0.55         4\n",
      "          GD       1.00      1.00      1.00         1\n",
      "          JB       1.00      0.67      0.80         3\n",
      "          LC       0.59      0.81      0.68        16\n",
      "          MC       0.33      1.00      0.50         2\n",
      "          NC       0.85      0.85      0.85        27\n",
      "          NM       0.97      1.00      0.98        32\n",
      "          PC       0.67      0.50      0.57         4\n",
      "          PS       1.00      1.00      1.00        40\n",
      "          QT       0.33      0.50      0.40         2\n",
      "          RL       0.50      0.17      0.25         6\n",
      "          TI       0.70      0.78      0.74        18\n",
      "\n",
      "   micro avg       0.81      0.87      0.84       178\n",
      "   macro avg       0.76      0.79      0.75       178\n",
      "weighted avg       0.84      0.87      0.84       178\n",
      "\n",
      "{'eval_loss': 0.16166344285011292, 'eval_precision': 0.8148148148148148, 'eval_recall': 0.8651685393258427, 'eval_f1': 0.8392370572207084, 'eval_accuracy': 0.9658172778123058, 'eval_runtime': 1.2621, 'eval_samples_per_second': 42.787, 'eval_steps_per_second': 11.093, 'epoch': 8.0}\n"
     ]
    },
    {
     "name": "stderr",
     "output_type": "stream",
     "text": [
      " 17%|█▋        | 460/2700 [02:06<07:14,  5.15it/s]"
     ]
    },
    {
     "name": "stdout",
     "output_type": "stream",
     "text": [
      "{'loss': 0.0472, 'grad_norm': 1.6878100633621216, 'learning_rate': 4.231481481481482e-05, 'epoch': 8.5}\n"
     ]
    },
    {
     "name": "stderr",
     "output_type": "stream",
     "text": [
      " 18%|█▊        | 486/2700 [02:12<07:55,  4.66it/s]"
     ]
    },
    {
     "name": "stdout",
     "output_type": "stream",
     "text": [
      "{'loss': 0.0551, 'grad_norm': 3.935394287109375, 'learning_rate': 4.481481481481482e-05, 'epoch': 9.0}\n"
     ]
    },
    {
     "name": "stderr",
     "output_type": "stream",
     "text": [
      "\n",
      " 18%|█▊        | 486/2700 [02:13<07:55,  4.66it/s]"
     ]
    },
    {
     "name": "stdout",
     "output_type": "stream",
     "text": [
      "              precision    recall  f1-score   support\n",
      "\n",
      "          AG       1.00      1.00      1.00         2\n",
      "          BP       1.00      1.00      1.00        13\n",
      "          CN       1.00      1.00      1.00         2\n",
      "          DP       1.00      1.00      1.00         6\n",
      "          EQ       0.60      0.75      0.67         4\n",
      "          GD       1.00      1.00      1.00         1\n",
      "          JB       1.00      0.67      0.80         3\n",
      "          LC       0.76      0.81      0.79        16\n",
      "          MC       1.00      1.00      1.00         2\n",
      "          NC       0.91      0.74      0.82        27\n",
      "          NM       1.00      1.00      1.00        32\n",
      "          PC       1.00      0.75      0.86         4\n",
      "          PS       1.00      0.97      0.99        40\n",
      "          QT       0.33      0.50      0.40         2\n",
      "          RL       0.50      0.17      0.25         6\n",
      "          TI       0.89      0.89      0.89        18\n",
      "\n",
      "   micro avg       0.92      0.88      0.90       178\n",
      "   macro avg       0.87      0.83      0.84       178\n",
      "weighted avg       0.92      0.88      0.89       178\n",
      "\n",
      "{'eval_loss': 0.18474885821342468, 'eval_precision': 0.9230769230769231, 'eval_recall': 0.8764044943820225, 'eval_f1': 0.899135446685879, 'eval_accuracy': 0.9683032939714108, 'eval_runtime': 1.3032, 'eval_samples_per_second': 41.436, 'eval_steps_per_second': 10.743, 'epoch': 9.0}\n"
     ]
    },
    {
     "name": "stderr",
     "output_type": "stream",
     "text": [
      " 19%|█▉        | 513/2700 [02:21<07:27,  4.89it/s]"
     ]
    },
    {
     "name": "stdout",
     "output_type": "stream",
     "text": [
      "{'loss': 0.0479, 'grad_norm': 0.11536461114883423, 'learning_rate': 4.731481481481482e-05, 'epoch': 9.5}\n"
     ]
    },
    {
     "name": "stderr",
     "output_type": "stream",
     "text": [
      " 20%|██        | 540/2700 [02:27<08:24,  4.28it/s]"
     ]
    },
    {
     "name": "stdout",
     "output_type": "stream",
     "text": [
      "{'loss': 0.0531, 'grad_norm': 5.861788749694824, 'learning_rate': 4.981481481481482e-05, 'epoch': 10.0}\n"
     ]
    },
    {
     "name": "stderr",
     "output_type": "stream",
     "text": [
      "\n",
      " 20%|██        | 540/2700 [02:28<08:24,  4.28it/s]"
     ]
    },
    {
     "name": "stdout",
     "output_type": "stream",
     "text": [
      "              precision    recall  f1-score   support\n",
      "\n",
      "          AG       1.00      1.00      1.00         2\n",
      "          BP       0.92      0.92      0.92        13\n",
      "          CN       1.00      1.00      1.00         2\n",
      "          DP       1.00      1.00      1.00         6\n",
      "          EQ       0.75      0.75      0.75         4\n",
      "          GD       1.00      1.00      1.00         1\n",
      "          JB       1.00      0.67      0.80         3\n",
      "          LC       0.79      0.94      0.86        16\n",
      "          MC       0.50      1.00      0.67         2\n",
      "          NC       0.88      0.78      0.82        27\n",
      "          NM       1.00      1.00      1.00        32\n",
      "          PC       1.00      0.50      0.67         4\n",
      "          PS       0.98      1.00      0.99        40\n",
      "          QT       1.00      0.50      0.67         2\n",
      "          RL       0.50      0.17      0.25         6\n",
      "          TI       0.82      0.78      0.80        18\n",
      "\n",
      "   micro avg       0.91      0.88      0.89       178\n",
      "   macro avg       0.88      0.81      0.82       178\n",
      "weighted avg       0.91      0.88      0.88       178\n",
      "\n",
      "{'eval_loss': 0.18501129746437073, 'eval_precision': 0.9069767441860465, 'eval_recall': 0.8764044943820225, 'eval_f1': 0.8914285714285715, 'eval_accuracy': 0.9738968303293971, 'eval_runtime': 1.2652, 'eval_samples_per_second': 42.68, 'eval_steps_per_second': 11.065, 'epoch': 10.0}\n"
     ]
    },
    {
     "name": "stderr",
     "output_type": "stream",
     "text": [
      " 21%|██        | 567/2700 [02:36<06:44,  5.28it/s]"
     ]
    },
    {
     "name": "stdout",
     "output_type": "stream",
     "text": [
      "{'loss': 0.0332, 'grad_norm': 0.4009791612625122, 'learning_rate': 4.94212962962963e-05, 'epoch': 10.5}\n"
     ]
    },
    {
     "name": "stderr",
     "output_type": "stream",
     "text": [
      " 22%|██▏       | 594/2700 [02:42<07:50,  4.48it/s]"
     ]
    },
    {
     "name": "stdout",
     "output_type": "stream",
     "text": [
      "{'loss': 0.0271, 'grad_norm': 0.3277985155582428, 'learning_rate': 4.87962962962963e-05, 'epoch': 11.0}\n"
     ]
    },
    {
     "name": "stderr",
     "output_type": "stream",
     "text": [
      "\n",
      " 22%|██▏       | 594/2700 [02:43<07:50,  4.48it/s]"
     ]
    },
    {
     "name": "stdout",
     "output_type": "stream",
     "text": [
      "              precision    recall  f1-score   support\n",
      "\n",
      "          AG       1.00      1.00      1.00         2\n",
      "          BP       0.85      0.85      0.85        13\n",
      "          CN       1.00      1.00      1.00         2\n",
      "          DP       0.75      1.00      0.86         6\n",
      "          EQ       0.75      0.75      0.75         4\n",
      "          GD       1.00      1.00      1.00         1\n",
      "          JB       1.00      0.67      0.80         3\n",
      "          LC       0.67      0.88      0.76        16\n",
      "          MC       0.50      1.00      0.67         2\n",
      "          NC       0.79      0.70      0.75        27\n",
      "          NM       1.00      1.00      1.00        32\n",
      "          PC       0.50      0.50      0.50         4\n",
      "          PS       0.98      1.00      0.99        40\n",
      "          QT       1.00      0.50      0.67         2\n",
      "          RL       0.33      0.17      0.22         6\n",
      "          TI       0.94      0.83      0.88        18\n",
      "\n",
      "   micro avg       0.86      0.86      0.86       178\n",
      "   macro avg       0.82      0.80      0.79       178\n",
      "weighted avg       0.86      0.86      0.85       178\n",
      "\n",
      "{'eval_loss': 0.2108905017375946, 'eval_precision': 0.8595505617977528, 'eval_recall': 0.8595505617977528, 'eval_f1': 0.8595505617977528, 'eval_accuracy': 0.9695463020509634, 'eval_runtime': 1.24, 'eval_samples_per_second': 43.548, 'eval_steps_per_second': 11.29, 'epoch': 11.0}\n"
     ]
    },
    {
     "name": "stderr",
     "output_type": "stream",
     "text": [
      " 23%|██▎       | 622/2700 [02:52<08:22,  4.13it/s]"
     ]
    },
    {
     "name": "stdout",
     "output_type": "stream",
     "text": [
      "{'loss': 0.0329, 'grad_norm': 8.791969299316406, 'learning_rate': 4.81712962962963e-05, 'epoch': 11.5}\n"
     ]
    },
    {
     "name": "stderr",
     "output_type": "stream",
     "text": [
      " 24%|██▍       | 648/2700 [02:57<07:25,  4.60it/s]"
     ]
    },
    {
     "name": "stdout",
     "output_type": "stream",
     "text": [
      "{'loss': 0.033, 'grad_norm': 15.44568157196045, 'learning_rate': 4.75462962962963e-05, 'epoch': 12.0}\n"
     ]
    },
    {
     "name": "stderr",
     "output_type": "stream",
     "text": [
      "\n",
      " 24%|██▍       | 648/2700 [02:58<07:25,  4.60it/s]"
     ]
    },
    {
     "name": "stdout",
     "output_type": "stream",
     "text": [
      "              precision    recall  f1-score   support\n",
      "\n",
      "          AG       1.00      1.00      1.00         2\n",
      "          BP       1.00      1.00      1.00        13\n",
      "          CN       1.00      1.00      1.00         2\n",
      "          DP       0.75      1.00      0.86         6\n",
      "          EQ       0.75      0.75      0.75         4\n",
      "          GD       1.00      1.00      1.00         1\n",
      "          JB       1.00      0.67      0.80         3\n",
      "          LC       0.63      0.75      0.69        16\n",
      "          MC       0.50      1.00      0.67         2\n",
      "          NC       0.77      0.74      0.75        27\n",
      "          NM       1.00      1.00      1.00        32\n",
      "          PC       1.00      0.50      0.67         4\n",
      "          PS       1.00      1.00      1.00        40\n",
      "          QT       0.33      0.50      0.40         2\n",
      "          RL       0.67      0.33      0.44         6\n",
      "          TI       0.94      0.94      0.94        18\n",
      "\n",
      "   micro avg       0.88      0.88      0.88       178\n",
      "   macro avg       0.83      0.82      0.81       178\n",
      "weighted avg       0.89      0.88      0.88       178\n",
      "\n",
      "{'eval_loss': 0.17287658154964447, 'eval_precision': 0.8770949720670391, 'eval_recall': 0.8820224719101124, 'eval_f1': 0.8795518207282913, 'eval_accuracy': 0.9707893101305158, 'eval_runtime': 1.2524, 'eval_samples_per_second': 43.117, 'eval_steps_per_second': 11.179, 'epoch': 12.0}\n"
     ]
    },
    {
     "name": "stderr",
     "output_type": "stream",
     "text": [
      " 25%|██▌       | 675/2700 [03:06<07:24,  4.56it/s]"
     ]
    },
    {
     "name": "stdout",
     "output_type": "stream",
     "text": [
      "{'loss': 0.1475, 'grad_norm': 1.5192660093307495, 'learning_rate': 4.6921296296296296e-05, 'epoch': 12.5}\n"
     ]
    },
    {
     "name": "stderr",
     "output_type": "stream",
     "text": [
      " 26%|██▌       | 702/2700 [03:12<06:57,  4.79it/s]"
     ]
    },
    {
     "name": "stdout",
     "output_type": "stream",
     "text": [
      "{'loss': 0.0479, 'grad_norm': 17.264196395874023, 'learning_rate': 4.62962962962963e-05, 'epoch': 13.0}\n"
     ]
    },
    {
     "name": "stderr",
     "output_type": "stream",
     "text": [
      "\n",
      " 26%|██▌       | 702/2700 [03:13<06:57,  4.79it/s]"
     ]
    },
    {
     "name": "stdout",
     "output_type": "stream",
     "text": [
      "              precision    recall  f1-score   support\n",
      "\n",
      "          AG       1.00      1.00      1.00         2\n",
      "          BP       0.92      0.85      0.88        13\n",
      "          CN       1.00      1.00      1.00         2\n",
      "          DP       0.86      1.00      0.92         6\n",
      "          EQ       0.75      0.75      0.75         4\n",
      "          GD       1.00      1.00      1.00         1\n",
      "          JB       1.00      0.67      0.80         3\n",
      "          LC       0.83      0.94      0.88        16\n",
      "          MC       0.50      1.00      0.67         2\n",
      "          NC       0.76      0.81      0.79        27\n",
      "          NM       1.00      1.00      1.00        32\n",
      "          PC       0.50      0.50      0.50         4\n",
      "          PS       0.98      1.00      0.99        40\n",
      "          QT       0.33      0.50      0.40         2\n",
      "          RL       0.50      0.17      0.25         6\n",
      "          TI       0.94      0.94      0.94        18\n",
      "\n",
      "   micro avg       0.88      0.89      0.89       178\n",
      "   macro avg       0.80      0.82      0.80       178\n",
      "weighted avg       0.88      0.89      0.88       178\n",
      "\n",
      "{'eval_loss': 0.16478241980075836, 'eval_precision': 0.8784530386740331, 'eval_recall': 0.8932584269662921, 'eval_f1': 0.8857938718662952, 'eval_accuracy': 0.9738968303293971, 'eval_runtime': 1.2414, 'eval_samples_per_second': 43.499, 'eval_steps_per_second': 11.277, 'epoch': 13.0}\n"
     ]
    },
    {
     "name": "stderr",
     "output_type": "stream",
     "text": [
      " 27%|██▋       | 730/2700 [03:22<07:06,  4.61it/s]"
     ]
    },
    {
     "name": "stdout",
     "output_type": "stream",
     "text": [
      "{'loss': 0.0306, 'grad_norm': 0.35023757815361023, 'learning_rate': 4.56712962962963e-05, 'epoch': 13.5}\n"
     ]
    },
    {
     "name": "stderr",
     "output_type": "stream",
     "text": [
      " 28%|██▊       | 756/2700 [03:28<08:02,  4.03it/s]"
     ]
    },
    {
     "name": "stdout",
     "output_type": "stream",
     "text": [
      "{'loss': 0.0238, 'grad_norm': 0.870308518409729, 'learning_rate': 4.50462962962963e-05, 'epoch': 14.0}\n"
     ]
    },
    {
     "name": "stderr",
     "output_type": "stream",
     "text": [
      "\n",
      " 28%|██▊       | 756/2700 [03:29<08:02,  4.03it/s]"
     ]
    },
    {
     "name": "stdout",
     "output_type": "stream",
     "text": [
      "              precision    recall  f1-score   support\n",
      "\n",
      "          AG       1.00      1.00      1.00         2\n",
      "          BP       0.71      0.92      0.80        13\n",
      "          CN       1.00      1.00      1.00         2\n",
      "          DP       0.86      1.00      0.92         6\n",
      "          EQ       0.75      0.75      0.75         4\n",
      "          GD       1.00      1.00      1.00         1\n",
      "          JB       0.67      0.67      0.67         3\n",
      "          LC       0.64      0.88      0.74        16\n",
      "          MC       0.50      1.00      0.67         2\n",
      "          NC       1.00      1.00      1.00        27\n",
      "          NM       1.00      1.00      1.00        32\n",
      "          PC       0.50      0.50      0.50         4\n",
      "          PS       0.98      1.00      0.99        40\n",
      "          QT       0.33      0.50      0.40         2\n",
      "          RL       0.25      0.17      0.20         6\n",
      "          TI       1.00      0.94      0.97        18\n",
      "\n",
      "   micro avg       0.86      0.92      0.89       178\n",
      "   macro avg       0.76      0.83      0.79       178\n",
      "weighted avg       0.87      0.92      0.89       178\n",
      "\n",
      "{'eval_loss': 0.16912882030010223, 'eval_precision': 0.8631578947368421, 'eval_recall': 0.9213483146067416, 'eval_f1': 0.891304347826087, 'eval_accuracy': 0.9763828464885022, 'eval_runtime': 1.2995, 'eval_samples_per_second': 41.553, 'eval_steps_per_second': 10.773, 'epoch': 14.0}\n"
     ]
    },
    {
     "name": "stderr",
     "output_type": "stream",
     "text": [
      " 29%|██▉       | 784/2700 [03:37<06:39,  4.79it/s]"
     ]
    },
    {
     "name": "stdout",
     "output_type": "stream",
     "text": [
      "{'loss': 0.0152, 'grad_norm': 0.052217934280633926, 'learning_rate': 4.44212962962963e-05, 'epoch': 14.5}\n"
     ]
    },
    {
     "name": "stderr",
     "output_type": "stream",
     "text": [
      " 30%|███       | 810/2700 [03:43<07:10,  4.39it/s]"
     ]
    },
    {
     "name": "stdout",
     "output_type": "stream",
     "text": [
      "{'loss': 0.0317, 'grad_norm': 0.07361984997987747, 'learning_rate': 4.3796296296296294e-05, 'epoch': 15.0}\n"
     ]
    },
    {
     "name": "stderr",
     "output_type": "stream",
     "text": [
      "\n",
      " 30%|███       | 810/2700 [03:44<07:10,  4.39it/s]"
     ]
    },
    {
     "name": "stdout",
     "output_type": "stream",
     "text": [
      "              precision    recall  f1-score   support\n",
      "\n",
      "          AG       1.00      1.00      1.00         2\n",
      "          BP       0.75      0.92      0.83        13\n",
      "          CN       1.00      1.00      1.00         2\n",
      "          DP       0.75      1.00      0.86         6\n",
      "          EQ       0.75      0.75      0.75         4\n",
      "          GD       1.00      1.00      1.00         1\n",
      "          JB       0.67      0.67      0.67         3\n",
      "          LC       0.78      0.88      0.82        16\n",
      "          MC       0.40      1.00      0.57         2\n",
      "          NC       0.89      0.89      0.89        27\n",
      "          NM       1.00      1.00      1.00        32\n",
      "          PC       0.75      0.75      0.75         4\n",
      "          PS       1.00      1.00      1.00        40\n",
      "          QT       0.25      0.50      0.33         2\n",
      "          RL       0.67      0.33      0.44         6\n",
      "          TI       0.94      0.94      0.94        18\n",
      "\n",
      "   micro avg       0.87      0.92      0.89       178\n",
      "   macro avg       0.79      0.85      0.80       178\n",
      "weighted avg       0.89      0.92      0.90       178\n",
      "\n",
      "{'eval_loss': 0.1720583587884903, 'eval_precision': 0.8716577540106952, 'eval_recall': 0.9157303370786517, 'eval_f1': 0.893150684931507, 'eval_accuracy': 0.9738968303293971, 'eval_runtime': 1.2574, 'eval_samples_per_second': 42.947, 'eval_steps_per_second': 11.134, 'epoch': 15.0}\n"
     ]
    },
    {
     "name": "stderr",
     "output_type": "stream",
     "text": [
      " 31%|███       | 838/2700 [03:52<05:31,  5.62it/s]"
     ]
    },
    {
     "name": "stdout",
     "output_type": "stream",
     "text": [
      "{'loss': 0.02, 'grad_norm': 0.08334632962942123, 'learning_rate': 4.31712962962963e-05, 'epoch': 15.5}\n"
     ]
    },
    {
     "name": "stderr",
     "output_type": "stream",
     "text": [
      " 32%|███▏      | 864/2700 [03:58<07:08,  4.28it/s]"
     ]
    },
    {
     "name": "stdout",
     "output_type": "stream",
     "text": [
      "{'loss': 0.0161, 'grad_norm': 0.83243727684021, 'learning_rate': 4.25462962962963e-05, 'epoch': 16.0}\n"
     ]
    },
    {
     "name": "stderr",
     "output_type": "stream",
     "text": [
      "\n",
      " 32%|███▏      | 864/2700 [03:59<07:08,  4.28it/s]"
     ]
    },
    {
     "name": "stdout",
     "output_type": "stream",
     "text": [
      "              precision    recall  f1-score   support\n",
      "\n",
      "          AG       1.00      1.00      1.00         2\n",
      "          BP       0.80      0.92      0.86        13\n",
      "          CN       1.00      1.00      1.00         2\n",
      "          DP       0.75      1.00      0.86         6\n",
      "          EQ       0.75      0.75      0.75         4\n",
      "          GD       1.00      1.00      1.00         1\n",
      "          JB       0.67      0.67      0.67         3\n",
      "          LC       0.78      0.88      0.82        16\n",
      "          MC       0.40      1.00      0.57         2\n",
      "          NC       1.00      1.00      1.00        27\n",
      "          NM       1.00      1.00      1.00        32\n",
      "          PC       0.75      0.75      0.75         4\n",
      "          PS       1.00      1.00      1.00        40\n",
      "          QT       0.25      0.50      0.33         2\n",
      "          RL       0.50      0.33      0.40         6\n",
      "          TI       1.00      0.94      0.97        18\n",
      "\n",
      "   micro avg       0.89      0.93      0.91       178\n",
      "   macro avg       0.79      0.86      0.81       178\n",
      "weighted avg       0.91      0.93      0.92       178\n",
      "\n",
      "{'eval_loss': 0.17843545973300934, 'eval_precision': 0.8924731182795699, 'eval_recall': 0.9325842696629213, 'eval_f1': 0.9120879120879121, 'eval_accuracy': 0.9751398384089497, 'eval_runtime': 1.2343, 'eval_samples_per_second': 43.751, 'eval_steps_per_second': 11.343, 'epoch': 16.0}\n"
     ]
    },
    {
     "name": "stderr",
     "output_type": "stream",
     "text": [
      " 33%|███▎      | 892/2700 [04:07<05:51,  5.14it/s]"
     ]
    },
    {
     "name": "stdout",
     "output_type": "stream",
     "text": [
      "{'loss': 0.012, 'grad_norm': 0.4018574655056, 'learning_rate': 4.1921296296296296e-05, 'epoch': 16.5}\n"
     ]
    },
    {
     "name": "stderr",
     "output_type": "stream",
     "text": [
      " 34%|███▍      | 918/2700 [04:13<05:35,  5.30it/s]"
     ]
    },
    {
     "name": "stdout",
     "output_type": "stream",
     "text": [
      "{'loss': 0.0081, 'grad_norm': 0.03940945118665695, 'learning_rate': 4.12962962962963e-05, 'epoch': 17.0}\n"
     ]
    },
    {
     "name": "stderr",
     "output_type": "stream",
     "text": [
      "\n",
      " 34%|███▍      | 918/2700 [04:14<05:35,  5.30it/s]"
     ]
    },
    {
     "name": "stdout",
     "output_type": "stream",
     "text": [
      "              precision    recall  f1-score   support\n",
      "\n",
      "          AG       1.00      1.00      1.00         2\n",
      "          BP       0.76      1.00      0.87        13\n",
      "          CN       1.00      1.00      1.00         2\n",
      "          DP       0.75      1.00      0.86         6\n",
      "          EQ       0.75      0.75      0.75         4\n",
      "          GD       1.00      1.00      1.00         1\n",
      "          JB       0.67      0.67      0.67         3\n",
      "          LC       0.60      0.75      0.67        16\n",
      "          MC       0.50      1.00      0.67         2\n",
      "          NC       0.92      0.89      0.91        27\n",
      "          NM       1.00      1.00      1.00        32\n",
      "          PC       1.00      0.75      0.86         4\n",
      "          PS       0.98      1.00      0.99        40\n",
      "          QT       0.50      0.50      0.50         2\n",
      "          RL       0.25      0.17      0.20         6\n",
      "          TI       0.94      0.89      0.91        18\n",
      "\n",
      "   micro avg       0.86      0.90      0.88       178\n",
      "   macro avg       0.79      0.84      0.80       178\n",
      "weighted avg       0.87      0.90      0.88       178\n",
      "\n",
      "{'eval_loss': 0.1852686107158661, 'eval_precision': 0.8602150537634409, 'eval_recall': 0.898876404494382, 'eval_f1': 0.8791208791208791, 'eval_accuracy': 0.9745183343691733, 'eval_runtime': 1.2631, 'eval_samples_per_second': 42.751, 'eval_steps_per_second': 11.084, 'epoch': 17.0}\n"
     ]
    },
    {
     "name": "stderr",
     "output_type": "stream",
     "text": [
      " 35%|███▌      | 946/2700 [04:23<06:57,  4.20it/s]"
     ]
    },
    {
     "name": "stdout",
     "output_type": "stream",
     "text": [
      "{'loss': 0.005, 'grad_norm': 0.024226795881986618, 'learning_rate': 4.06712962962963e-05, 'epoch': 17.5}\n"
     ]
    },
    {
     "name": "stderr",
     "output_type": "stream",
     "text": [
      " 36%|███▌      | 972/2700 [04:28<05:36,  5.14it/s]"
     ]
    },
    {
     "name": "stdout",
     "output_type": "stream",
     "text": [
      "{'loss': 0.0123, 'grad_norm': 0.03516397625207901, 'learning_rate': 4.00462962962963e-05, 'epoch': 18.0}\n"
     ]
    },
    {
     "name": "stderr",
     "output_type": "stream",
     "text": [
      "\n",
      " 36%|███▌      | 972/2700 [04:29<05:36,  5.14it/s]"
     ]
    },
    {
     "name": "stdout",
     "output_type": "stream",
     "text": [
      "              precision    recall  f1-score   support\n",
      "\n",
      "          AG       1.00      1.00      1.00         2\n",
      "          BP       0.93      1.00      0.96        13\n",
      "          CN       1.00      1.00      1.00         2\n",
      "          DP       0.75      1.00      0.86         6\n",
      "          EQ       0.75      0.75      0.75         4\n",
      "          GD       1.00      1.00      1.00         1\n",
      "          JB       0.67      0.67      0.67         3\n",
      "          LC       0.60      0.75      0.67        16\n",
      "          MC       0.40      1.00      0.57         2\n",
      "          NC       0.93      0.93      0.93        27\n",
      "          NM       1.00      1.00      1.00        32\n",
      "          PC       1.00      0.75      0.86         4\n",
      "          PS       0.98      1.00      0.99        40\n",
      "          QT       0.50      0.50      0.50         2\n",
      "          RL       0.25      0.17      0.20         6\n",
      "          TI       0.94      0.89      0.91        18\n",
      "\n",
      "   micro avg       0.87      0.90      0.89       178\n",
      "   macro avg       0.79      0.84      0.80       178\n",
      "weighted avg       0.88      0.90      0.89       178\n",
      "\n",
      "{'eval_loss': 0.1868007630109787, 'eval_precision': 0.8702702702702703, 'eval_recall': 0.9044943820224719, 'eval_f1': 0.8870523415977961, 'eval_accuracy': 0.9745183343691733, 'eval_runtime': 1.2443, 'eval_samples_per_second': 43.398, 'eval_steps_per_second': 11.251, 'epoch': 18.0}\n"
     ]
    },
    {
     "name": "stderr",
     "output_type": "stream",
     "text": [
      " 37%|███▋      | 999/2700 [04:38<05:24,  5.23it/s]"
     ]
    },
    {
     "name": "stdout",
     "output_type": "stream",
     "text": [
      "{'loss': 0.0064, 'grad_norm': 0.040530260652303696, 'learning_rate': 3.94212962962963e-05, 'epoch': 18.5}\n"
     ]
    },
    {
     "name": "stderr",
     "output_type": "stream",
     "text": [
      " 38%|███▊      | 1026/2700 [04:44<06:37,  4.22it/s]"
     ]
    },
    {
     "name": "stdout",
     "output_type": "stream",
     "text": [
      "{'loss': 0.0074, 'grad_norm': 0.027649549767374992, 'learning_rate': 3.8796296296296295e-05, 'epoch': 19.0}\n"
     ]
    },
    {
     "name": "stderr",
     "output_type": "stream",
     "text": [
      "\n",
      " 38%|███▊      | 1026/2700 [04:45<06:37,  4.22it/s]"
     ]
    },
    {
     "name": "stdout",
     "output_type": "stream",
     "text": [
      "              precision    recall  f1-score   support\n",
      "\n",
      "          AG       1.00      1.00      1.00         2\n",
      "          BP       0.86      0.92      0.89        13\n",
      "          CN       1.00      1.00      1.00         2\n",
      "          DP       0.86      1.00      0.92         6\n",
      "          EQ       0.75      0.75      0.75         4\n",
      "          GD       1.00      1.00      1.00         1\n",
      "          JB       0.67      0.67      0.67         3\n",
      "          LC       0.68      0.81      0.74        16\n",
      "          MC       0.40      1.00      0.57         2\n",
      "          NC       0.96      0.93      0.94        27\n",
      "          NM       1.00      1.00      1.00        32\n",
      "          PC       1.00      0.75      0.86         4\n",
      "          PS       0.98      1.00      0.99        40\n",
      "          QT       0.50      0.50      0.50         2\n",
      "          RL       0.25      0.17      0.20         6\n",
      "          TI       1.00      0.94      0.97        18\n",
      "\n",
      "   micro avg       0.89      0.91      0.90       178\n",
      "   macro avg       0.81      0.84      0.81       178\n",
      "weighted avg       0.90      0.91      0.90       178\n",
      "\n",
      "{'eval_loss': 0.17260205745697021, 'eval_precision': 0.8901098901098901, 'eval_recall': 0.9101123595505618, 'eval_f1': 0.8999999999999999, 'eval_accuracy': 0.9763828464885022, 'eval_runtime': 1.2412, 'eval_samples_per_second': 43.506, 'eval_steps_per_second': 11.279, 'epoch': 19.0}\n"
     ]
    },
    {
     "name": "stderr",
     "output_type": "stream",
     "text": [
      " 39%|███▉      | 1054/2700 [04:53<06:18,  4.35it/s]"
     ]
    },
    {
     "name": "stdout",
     "output_type": "stream",
     "text": [
      "{'loss': 0.0063, 'grad_norm': 0.09331066906452179, 'learning_rate': 3.81712962962963e-05, 'epoch': 19.5}\n"
     ]
    },
    {
     "name": "stderr",
     "output_type": "stream",
     "text": [
      " 40%|████      | 1080/2700 [04:59<05:54,  4.57it/s]"
     ]
    },
    {
     "name": "stdout",
     "output_type": "stream",
     "text": [
      "{'loss': 0.0073, 'grad_norm': 0.18588124215602875, 'learning_rate': 3.75462962962963e-05, 'epoch': 20.0}\n"
     ]
    },
    {
     "name": "stderr",
     "output_type": "stream",
     "text": [
      "\n",
      " 40%|████      | 1080/2700 [05:00<05:54,  4.57it/s]"
     ]
    },
    {
     "name": "stdout",
     "output_type": "stream",
     "text": [
      "              precision    recall  f1-score   support\n",
      "\n",
      "          AG       1.00      1.00      1.00         2\n",
      "          BP       0.80      0.92      0.86        13\n",
      "          CN       1.00      1.00      1.00         2\n",
      "          DP       0.67      1.00      0.80         6\n",
      "          EQ       0.75      0.75      0.75         4\n",
      "          GD       1.00      1.00      1.00         1\n",
      "          JB       0.67      0.67      0.67         3\n",
      "          LC       0.75      0.94      0.83        16\n",
      "          MC       0.40      1.00      0.57         2\n",
      "          NC       0.96      0.93      0.94        27\n",
      "          NM       1.00      1.00      1.00        32\n",
      "          PC       1.00      0.75      0.86         4\n",
      "          PS       0.98      1.00      0.99        40\n",
      "          QT       0.50      0.50      0.50         2\n",
      "          RL       0.25      0.17      0.20         6\n",
      "          TI       0.83      0.83      0.83        18\n",
      "\n",
      "   micro avg       0.87      0.91      0.89       178\n",
      "   macro avg       0.78      0.84      0.80       178\n",
      "weighted avg       0.87      0.91      0.89       178\n",
      "\n",
      "{'eval_loss': 0.16916720569133759, 'eval_precision': 0.8663101604278075, 'eval_recall': 0.9101123595505618, 'eval_f1': 0.8876712328767122, 'eval_accuracy': 0.9757613424487259, 'eval_runtime': 1.2896, 'eval_samples_per_second': 41.872, 'eval_steps_per_second': 10.856, 'epoch': 20.0}\n"
     ]
    },
    {
     "name": "stderr",
     "output_type": "stream",
     "text": [
      " 41%|████      | 1108/2700 [05:08<06:32,  4.06it/s]"
     ]
    },
    {
     "name": "stdout",
     "output_type": "stream",
     "text": [
      "{'loss': 0.0091, 'grad_norm': 0.018527626991271973, 'learning_rate': 3.6921296296296297e-05, 'epoch': 20.5}\n"
     ]
    },
    {
     "name": "stderr",
     "output_type": "stream",
     "text": [
      " 42%|████▏     | 1134/2700 [05:14<06:32,  3.99it/s]"
     ]
    },
    {
     "name": "stdout",
     "output_type": "stream",
     "text": [
      "{'loss': 0.0063, 'grad_norm': 0.03002607636153698, 'learning_rate': 3.62962962962963e-05, 'epoch': 21.0}\n"
     ]
    },
    {
     "name": "stderr",
     "output_type": "stream",
     "text": [
      "\n",
      " 42%|████▏     | 1134/2700 [05:16<06:32,  3.99it/s]"
     ]
    },
    {
     "name": "stdout",
     "output_type": "stream",
     "text": [
      "              precision    recall  f1-score   support\n",
      "\n",
      "          AG       1.00      1.00      1.00         2\n",
      "          BP       0.80      0.92      0.86        13\n",
      "          CN       1.00      1.00      1.00         2\n",
      "          DP       0.67      1.00      0.80         6\n",
      "          EQ       0.75      0.75      0.75         4\n",
      "          GD       1.00      1.00      1.00         1\n",
      "          JB       1.00      0.67      0.80         3\n",
      "          LC       0.78      0.88      0.82        16\n",
      "          MC       0.40      1.00      0.57         2\n",
      "          NC       0.89      0.89      0.89        27\n",
      "          NM       1.00      1.00      1.00        32\n",
      "          PC       1.00      0.75      0.86         4\n",
      "          PS       1.00      1.00      1.00        40\n",
      "          QT       1.00      0.50      0.67         2\n",
      "          RL       0.67      0.33      0.44         6\n",
      "          TI       1.00      0.94      0.97        18\n",
      "\n",
      "   micro avg       0.90      0.92      0.91       178\n",
      "   macro avg       0.87      0.85      0.84       178\n",
      "weighted avg       0.91      0.92      0.91       178\n",
      "\n",
      "{'eval_loss': 0.1763906478881836, 'eval_precision': 0.9005524861878453, 'eval_recall': 0.9157303370786517, 'eval_f1': 0.9080779944289694, 'eval_accuracy': 0.9757613424487259, 'eval_runtime': 1.6358, 'eval_samples_per_second': 33.011, 'eval_steps_per_second': 8.558, 'epoch': 21.0}\n"
     ]
    },
    {
     "name": "stderr",
     "output_type": "stream",
     "text": [
      " 43%|████▎     | 1162/2700 [05:24<04:59,  5.13it/s]"
     ]
    },
    {
     "name": "stdout",
     "output_type": "stream",
     "text": [
      "{'loss': 0.0043, 'grad_norm': 0.015370615758001804, 'learning_rate': 3.56712962962963e-05, 'epoch': 21.5}\n"
     ]
    },
    {
     "name": "stderr",
     "output_type": "stream",
     "text": [
      " 44%|████▍     | 1188/2700 [05:30<05:40,  4.45it/s]"
     ]
    },
    {
     "name": "stdout",
     "output_type": "stream",
     "text": [
      "{'loss': 0.0071, 'grad_norm': 0.021671447902917862, 'learning_rate': 3.50462962962963e-05, 'epoch': 22.0}\n"
     ]
    },
    {
     "name": "stderr",
     "output_type": "stream",
     "text": [
      "\n",
      " 44%|████▍     | 1188/2700 [05:31<05:40,  4.45it/s]"
     ]
    },
    {
     "name": "stdout",
     "output_type": "stream",
     "text": [
      "              precision    recall  f1-score   support\n",
      "\n",
      "          AG       1.00      1.00      1.00         2\n",
      "          BP       0.80      0.92      0.86        13\n",
      "          CN       1.00      1.00      1.00         2\n",
      "          DP       0.67      1.00      0.80         6\n",
      "          EQ       0.75      0.75      0.75         4\n",
      "          GD       1.00      1.00      1.00         1\n",
      "          JB       0.67      0.67      0.67         3\n",
      "          LC       0.78      0.88      0.82        16\n",
      "          MC       0.40      1.00      0.57         2\n",
      "          NC       0.92      0.85      0.88        27\n",
      "          NM       1.00      1.00      1.00        32\n",
      "          PC       1.00      0.75      0.86         4\n",
      "          PS       1.00      1.00      1.00        40\n",
      "          QT       1.00      0.50      0.67         2\n",
      "          RL       0.67      0.33      0.44         6\n",
      "          TI       1.00      0.94      0.97        18\n",
      "\n",
      "   micro avg       0.90      0.91      0.91       178\n",
      "   macro avg       0.85      0.85      0.83       178\n",
      "weighted avg       0.91      0.91      0.90       178\n",
      "\n",
      "{'eval_loss': 0.18087483942508698, 'eval_precision': 0.9, 'eval_recall': 0.9101123595505618, 'eval_f1': 0.9050279329608939, 'eval_accuracy': 0.9763828464885022, 'eval_runtime': 1.2449, 'eval_samples_per_second': 43.376, 'eval_steps_per_second': 11.246, 'epoch': 22.0}\n"
     ]
    },
    {
     "name": "stderr",
     "output_type": "stream",
     "text": [
      " 45%|████▌     | 1215/2700 [05:40<05:50,  4.24it/s]"
     ]
    },
    {
     "name": "stdout",
     "output_type": "stream",
     "text": [
      "{'loss': 0.0077, 'grad_norm': 0.07377448678016663, 'learning_rate': 3.44212962962963e-05, 'epoch': 22.5}\n"
     ]
    },
    {
     "name": "stderr",
     "output_type": "stream",
     "text": [
      " 46%|████▌     | 1242/2700 [05:45<05:10,  4.69it/s]"
     ]
    },
    {
     "name": "stdout",
     "output_type": "stream",
     "text": [
      "{'loss': 0.0041, 'grad_norm': 0.016496485099196434, 'learning_rate': 3.3796296296296295e-05, 'epoch': 23.0}\n"
     ]
    },
    {
     "name": "stderr",
     "output_type": "stream",
     "text": [
      "\n",
      " 46%|████▌     | 1242/2700 [05:46<05:10,  4.69it/s]"
     ]
    },
    {
     "name": "stdout",
     "output_type": "stream",
     "text": [
      "              precision    recall  f1-score   support\n",
      "\n",
      "          AG       1.00      1.00      1.00         2\n",
      "          BP       0.81      1.00      0.90        13\n",
      "          CN       1.00      1.00      1.00         2\n",
      "          DP       0.75      1.00      0.86         6\n",
      "          EQ       0.80      1.00      0.89         4\n",
      "          GD       1.00      1.00      1.00         1\n",
      "          JB       0.67      0.67      0.67         3\n",
      "          LC       0.74      0.88      0.80        16\n",
      "          MC       0.40      1.00      0.57         2\n",
      "          NC       1.00      1.00      1.00        27\n",
      "          NM       1.00      1.00      1.00        32\n",
      "          PC       1.00      0.75      0.86         4\n",
      "          PS       1.00      1.00      1.00        40\n",
      "          QT       0.33      0.50      0.40         2\n",
      "          RL       0.50      0.33      0.40         6\n",
      "          TI       1.00      0.94      0.97        18\n",
      "\n",
      "   micro avg       0.90      0.94      0.92       178\n",
      "   macro avg       0.81      0.88      0.83       178\n",
      "weighted avg       0.91      0.94      0.92       178\n",
      "\n",
      "{'eval_loss': 0.17069225013256073, 'eval_precision': 0.8983957219251337, 'eval_recall': 0.9438202247191011, 'eval_f1': 0.9205479452054793, 'eval_accuracy': 0.9794903666873834, 'eval_runtime': 1.2291, 'eval_samples_per_second': 43.933, 'eval_steps_per_second': 11.39, 'epoch': 23.0}\n"
     ]
    },
    {
     "name": "stderr",
     "output_type": "stream",
     "text": [
      " 47%|████▋     | 1270/2700 [05:54<04:21,  5.48it/s]"
     ]
    },
    {
     "name": "stdout",
     "output_type": "stream",
     "text": [
      "{'loss': 0.0071, 'grad_norm': 0.028951099142432213, 'learning_rate': 3.31712962962963e-05, 'epoch': 23.5}\n"
     ]
    },
    {
     "name": "stderr",
     "output_type": "stream",
     "text": [
      " 48%|████▊     | 1296/2700 [06:00<05:48,  4.03it/s]"
     ]
    },
    {
     "name": "stdout",
     "output_type": "stream",
     "text": [
      "{'loss': 0.0069, 'grad_norm': 0.03373130410909653, 'learning_rate': 3.25462962962963e-05, 'epoch': 24.0}\n"
     ]
    },
    {
     "name": "stderr",
     "output_type": "stream",
     "text": [
      "\n",
      " 48%|████▊     | 1296/2700 [06:01<05:48,  4.03it/s]"
     ]
    },
    {
     "name": "stdout",
     "output_type": "stream",
     "text": [
      "              precision    recall  f1-score   support\n",
      "\n",
      "          AG       1.00      1.00      1.00         2\n",
      "          BP       0.80      0.92      0.86        13\n",
      "          CN       1.00      1.00      1.00         2\n",
      "          DP       0.86      1.00      0.92         6\n",
      "          EQ       0.75      0.75      0.75         4\n",
      "          GD       1.00      1.00      1.00         1\n",
      "          JB       1.00      0.67      0.80         3\n",
      "          LC       0.78      0.88      0.82        16\n",
      "          MC       0.40      1.00      0.57         2\n",
      "          NC       1.00      1.00      1.00        27\n",
      "          NM       1.00      1.00      1.00        32\n",
      "          PC       1.00      0.75      0.86         4\n",
      "          PS       1.00      1.00      1.00        40\n",
      "          QT       0.50      0.50      0.50         2\n",
      "          RL       0.67      0.33      0.44         6\n",
      "          TI       0.94      0.89      0.91        18\n",
      "\n",
      "   micro avg       0.92      0.93      0.92       178\n",
      "   macro avg       0.86      0.86      0.84       178\n",
      "weighted avg       0.93      0.93      0.92       178\n",
      "\n",
      "{'eval_loss': 0.18726861476898193, 'eval_precision': 0.9166666666666666, 'eval_recall': 0.9269662921348315, 'eval_f1': 0.9217877094972067, 'eval_accuracy': 0.9763828464885022, 'eval_runtime': 1.2826, 'eval_samples_per_second': 42.102, 'eval_steps_per_second': 10.915, 'epoch': 24.0}\n"
     ]
    },
    {
     "name": "stderr",
     "output_type": "stream",
     "text": [
      " 49%|████▉     | 1324/2700 [06:09<04:30,  5.09it/s]"
     ]
    },
    {
     "name": "stdout",
     "output_type": "stream",
     "text": [
      "{'loss': 0.0067, 'grad_norm': 0.016329729929566383, 'learning_rate': 3.19212962962963e-05, 'epoch': 24.5}\n"
     ]
    },
    {
     "name": "stderr",
     "output_type": "stream",
     "text": [
      " 50%|█████     | 1350/2700 [06:15<04:56,  4.55it/s]"
     ]
    },
    {
     "name": "stdout",
     "output_type": "stream",
     "text": [
      "{'loss': 0.005, 'grad_norm': 0.01729365810751915, 'learning_rate': 3.1296296296296295e-05, 'epoch': 25.0}\n"
     ]
    },
    {
     "name": "stderr",
     "output_type": "stream",
     "text": [
      "\n",
      " 50%|█████     | 1350/2700 [06:16<04:56,  4.55it/s]"
     ]
    },
    {
     "name": "stdout",
     "output_type": "stream",
     "text": [
      "              precision    recall  f1-score   support\n",
      "\n",
      "          AG       1.00      1.00      1.00         2\n",
      "          BP       0.81      1.00      0.90        13\n",
      "          CN       1.00      1.00      1.00         2\n",
      "          DP       0.75      1.00      0.86         6\n",
      "          EQ       0.80      1.00      0.89         4\n",
      "          GD       1.00      1.00      1.00         1\n",
      "          JB       0.67      0.67      0.67         3\n",
      "          LC       0.78      0.88      0.82        16\n",
      "          MC       0.40      1.00      0.57         2\n",
      "          NC       0.90      0.96      0.93        27\n",
      "          NM       1.00      1.00      1.00        32\n",
      "          PC       1.00      0.75      0.86         4\n",
      "          PS       1.00      1.00      1.00        40\n",
      "          QT       0.33      0.50      0.40         2\n",
      "          RL       0.67      0.33      0.44         6\n",
      "          TI       0.94      0.89      0.91        18\n",
      "\n",
      "   micro avg       0.89      0.93      0.91       178\n",
      "   macro avg       0.82      0.87      0.83       178\n",
      "weighted avg       0.90      0.93      0.91       178\n",
      "\n",
      "{'eval_loss': 0.18282060325145721, 'eval_precision': 0.8877005347593583, 'eval_recall': 0.9325842696629213, 'eval_f1': 0.9095890410958904, 'eval_accuracy': 0.9776258545680547, 'eval_runtime': 1.273, 'eval_samples_per_second': 42.42, 'eval_steps_per_second': 10.998, 'epoch': 25.0}\n"
     ]
    },
    {
     "name": "stderr",
     "output_type": "stream",
     "text": [
      " 51%|█████     | 1378/2700 [06:24<05:15,  4.19it/s]"
     ]
    },
    {
     "name": "stdout",
     "output_type": "stream",
     "text": [
      "{'loss': 0.0028, 'grad_norm': 0.05708681419491768, 'learning_rate': 3.06712962962963e-05, 'epoch': 25.5}\n"
     ]
    },
    {
     "name": "stderr",
     "output_type": "stream",
     "text": [
      " 52%|█████▏    | 1404/2700 [06:30<04:22,  4.94it/s]"
     ]
    },
    {
     "name": "stdout",
     "output_type": "stream",
     "text": [
      "{'loss': 0.0046, 'grad_norm': 0.03403954580426216, 'learning_rate': 3.00462962962963e-05, 'epoch': 26.0}\n"
     ]
    },
    {
     "name": "stderr",
     "output_type": "stream",
     "text": [
      "\n",
      " 52%|█████▏    | 1404/2700 [06:31<04:22,  4.94it/s]"
     ]
    },
    {
     "name": "stdout",
     "output_type": "stream",
     "text": [
      "              precision    recall  f1-score   support\n",
      "\n",
      "          AG       1.00      1.00      1.00         2\n",
      "          BP       0.81      1.00      0.90        13\n",
      "          CN       1.00      1.00      1.00         2\n",
      "          DP       0.75      1.00      0.86         6\n",
      "          EQ       0.80      1.00      0.89         4\n",
      "          GD       1.00      1.00      1.00         1\n",
      "          JB       0.67      0.67      0.67         3\n",
      "          LC       0.80      1.00      0.89        16\n",
      "          MC       0.40      1.00      0.57         2\n",
      "          NC       0.90      0.96      0.93        27\n",
      "          NM       1.00      1.00      1.00        32\n",
      "          PC       1.00      0.75      0.86         4\n",
      "          PS       1.00      1.00      1.00        40\n",
      "          QT       0.33      0.50      0.40         2\n",
      "          RL       0.50      0.33      0.40         6\n",
      "          TI       0.94      0.89      0.91        18\n",
      "\n",
      "   micro avg       0.88      0.94      0.91       178\n",
      "   macro avg       0.81      0.88      0.83       178\n",
      "weighted avg       0.90      0.94      0.92       178\n",
      "\n",
      "{'eval_loss': 0.1821303516626358, 'eval_precision': 0.8842105263157894, 'eval_recall': 0.9438202247191011, 'eval_f1': 0.9130434782608695, 'eval_accuracy': 0.9776258545680547, 'eval_runtime': 1.2452, 'eval_samples_per_second': 43.365, 'eval_steps_per_second': 11.243, 'epoch': 26.0}\n"
     ]
    },
    {
     "name": "stderr",
     "output_type": "stream",
     "text": [
      " 53%|█████▎    | 1432/2700 [06:39<05:02,  4.19it/s]"
     ]
    },
    {
     "name": "stdout",
     "output_type": "stream",
     "text": [
      "{'loss': 0.0032, 'grad_norm': 0.010683266445994377, 'learning_rate': 2.9421296296296297e-05, 'epoch': 26.5}\n"
     ]
    },
    {
     "name": "stderr",
     "output_type": "stream",
     "text": [
      " 54%|█████▍    | 1458/2700 [06:46<04:55,  4.20it/s]"
     ]
    },
    {
     "name": "stdout",
     "output_type": "stream",
     "text": [
      "{'loss': 0.0024, 'grad_norm': 0.013154189102351665, 'learning_rate': 2.87962962962963e-05, 'epoch': 27.0}\n"
     ]
    },
    {
     "name": "stderr",
     "output_type": "stream",
     "text": [
      "\n",
      " 54%|█████▍    | 1458/2700 [06:47<04:55,  4.20it/s]"
     ]
    },
    {
     "name": "stdout",
     "output_type": "stream",
     "text": [
      "              precision    recall  f1-score   support\n",
      "\n",
      "          AG       1.00      1.00      1.00         2\n",
      "          BP       0.81      1.00      0.90        13\n",
      "          CN       1.00      1.00      1.00         2\n",
      "          DP       0.75      1.00      0.86         6\n",
      "          EQ       0.80      1.00      0.89         4\n",
      "          GD       1.00      1.00      1.00         1\n",
      "          JB       0.67      0.67      0.67         3\n",
      "          LC       0.78      0.88      0.82        16\n",
      "          MC       0.40      1.00      0.57         2\n",
      "          NC       0.96      0.93      0.94        27\n",
      "          NM       1.00      1.00      1.00        32\n",
      "          PC       1.00      0.75      0.86         4\n",
      "          PS       1.00      1.00      1.00        40\n",
      "          QT       0.50      0.50      0.50         2\n",
      "          RL       0.67      0.33      0.44         6\n",
      "          TI       0.94      0.89      0.91        18\n",
      "\n",
      "   micro avg       0.90      0.93      0.91       178\n",
      "   macro avg       0.83      0.87      0.84       178\n",
      "weighted avg       0.91      0.93      0.91       178\n",
      "\n",
      "{'eval_loss': 0.17224857211112976, 'eval_precision': 0.9016393442622951, 'eval_recall': 0.9269662921348315, 'eval_f1': 0.9141274238227147, 'eval_accuracy': 0.9794903666873834, 'eval_runtime': 1.2324, 'eval_samples_per_second': 43.817, 'eval_steps_per_second': 11.36, 'epoch': 27.0}\n"
     ]
    },
    {
     "name": "stderr",
     "output_type": "stream",
     "text": [
      " 55%|█████▌    | 1486/2700 [06:55<04:35,  4.40it/s]"
     ]
    },
    {
     "name": "stdout",
     "output_type": "stream",
     "text": [
      "{'loss': 0.0021, 'grad_norm': 0.018668407574295998, 'learning_rate': 2.8171296296296297e-05, 'epoch': 27.5}\n"
     ]
    },
    {
     "name": "stderr",
     "output_type": "stream",
     "text": [
      " 56%|█████▌    | 1512/2700 [07:00<03:58,  4.99it/s]"
     ]
    },
    {
     "name": "stdout",
     "output_type": "stream",
     "text": [
      "{'loss': 0.0023, 'grad_norm': 0.009988418780267239, 'learning_rate': 2.75462962962963e-05, 'epoch': 28.0}\n"
     ]
    },
    {
     "name": "stderr",
     "output_type": "stream",
     "text": [
      "\n",
      " 56%|█████▌    | 1512/2700 [07:02<03:58,  4.99it/s]"
     ]
    },
    {
     "name": "stdout",
     "output_type": "stream",
     "text": [
      "              precision    recall  f1-score   support\n",
      "\n",
      "          AG       1.00      1.00      1.00         2\n",
      "          BP       0.81      1.00      0.90        13\n",
      "          CN       1.00      1.00      1.00         2\n",
      "          DP       0.75      1.00      0.86         6\n",
      "          EQ       0.80      1.00      0.89         4\n",
      "          GD       1.00      1.00      1.00         1\n",
      "          JB       0.67      0.67      0.67         3\n",
      "          LC       0.78      0.88      0.82        16\n",
      "          MC       0.40      1.00      0.57         2\n",
      "          NC       0.96      0.93      0.94        27\n",
      "          NM       1.00      1.00      1.00        32\n",
      "          PC       1.00      0.75      0.86         4\n",
      "          PS       1.00      1.00      1.00        40\n",
      "          QT       0.50      0.50      0.50         2\n",
      "          RL       0.67      0.33      0.44         6\n",
      "          TI       0.94      0.89      0.91        18\n",
      "\n",
      "   micro avg       0.90      0.93      0.91       178\n",
      "   macro avg       0.83      0.87      0.84       178\n",
      "weighted avg       0.91      0.93      0.91       178\n",
      "\n",
      "{'eval_loss': 0.17403985559940338, 'eval_precision': 0.9016393442622951, 'eval_recall': 0.9269662921348315, 'eval_f1': 0.9141274238227147, 'eval_accuracy': 0.9794903666873834, 'eval_runtime': 1.2377, 'eval_samples_per_second': 43.63, 'eval_steps_per_second': 11.311, 'epoch': 28.0}\n"
     ]
    },
    {
     "name": "stderr",
     "output_type": "stream",
     "text": [
      " 57%|█████▋    | 1539/2700 [07:09<04:01,  4.81it/s]"
     ]
    },
    {
     "name": "stdout",
     "output_type": "stream",
     "text": [
      "{'loss': 0.0019, 'grad_norm': 0.008721800521016121, 'learning_rate': 2.69212962962963e-05, 'epoch': 28.5}\n"
     ]
    },
    {
     "name": "stderr",
     "output_type": "stream",
     "text": [
      " 58%|█████▊    | 1566/2700 [07:15<04:32,  4.16it/s]"
     ]
    },
    {
     "name": "stdout",
     "output_type": "stream",
     "text": [
      "{'loss': 0.0022, 'grad_norm': 0.013841909356415272, 'learning_rate': 2.6296296296296296e-05, 'epoch': 29.0}\n"
     ]
    },
    {
     "name": "stderr",
     "output_type": "stream",
     "text": [
      "\n",
      " 58%|█████▊    | 1566/2700 [07:17<04:32,  4.16it/s]"
     ]
    },
    {
     "name": "stdout",
     "output_type": "stream",
     "text": [
      "              precision    recall  f1-score   support\n",
      "\n",
      "          AG       1.00      1.00      1.00         2\n",
      "          BP       0.81      1.00      0.90        13\n",
      "          CN       1.00      1.00      1.00         2\n",
      "          DP       0.75      1.00      0.86         6\n",
      "          EQ       0.80      1.00      0.89         4\n",
      "          GD       1.00      1.00      1.00         1\n",
      "          JB       0.67      0.67      0.67         3\n",
      "          LC       0.78      0.88      0.82        16\n",
      "          MC       0.40      1.00      0.57         2\n",
      "          NC       0.96      0.93      0.94        27\n",
      "          NM       1.00      1.00      1.00        32\n",
      "          PC       1.00      0.75      0.86         4\n",
      "          PS       1.00      1.00      1.00        40\n",
      "          QT       0.50      0.50      0.50         2\n",
      "          RL       0.67      0.33      0.44         6\n",
      "          TI       0.94      0.89      0.91        18\n",
      "\n",
      "   micro avg       0.90      0.93      0.91       178\n",
      "   macro avg       0.83      0.87      0.84       178\n",
      "weighted avg       0.91      0.93      0.91       178\n",
      "\n",
      "{'eval_loss': 0.17475591599941254, 'eval_precision': 0.9016393442622951, 'eval_recall': 0.9269662921348315, 'eval_f1': 0.9141274238227147, 'eval_accuracy': 0.9794903666873834, 'eval_runtime': 1.2428, 'eval_samples_per_second': 43.449, 'eval_steps_per_second': 11.265, 'epoch': 29.0}\n"
     ]
    },
    {
     "name": "stderr",
     "output_type": "stream",
     "text": [
      " 59%|█████▉    | 1594/2700 [07:25<04:00,  4.60it/s]"
     ]
    },
    {
     "name": "stdout",
     "output_type": "stream",
     "text": [
      "{'loss': 0.0021, 'grad_norm': 0.018391083925962448, 'learning_rate': 2.5671296296296297e-05, 'epoch': 29.5}\n"
     ]
    },
    {
     "name": "stderr",
     "output_type": "stream",
     "text": [
      " 60%|██████    | 1620/2700 [07:30<03:59,  4.51it/s]"
     ]
    },
    {
     "name": "stdout",
     "output_type": "stream",
     "text": [
      "{'loss': 0.0019, 'grad_norm': 0.012724419124424458, 'learning_rate': 2.5046296296296296e-05, 'epoch': 30.0}\n"
     ]
    },
    {
     "name": "stderr",
     "output_type": "stream",
     "text": [
      "\n",
      " 60%|██████    | 1620/2700 [07:32<03:59,  4.51it/s]"
     ]
    },
    {
     "name": "stdout",
     "output_type": "stream",
     "text": [
      "              precision    recall  f1-score   support\n",
      "\n",
      "          AG       1.00      1.00      1.00         2\n",
      "          BP       0.71      0.92      0.80        13\n",
      "          CN       1.00      1.00      1.00         2\n",
      "          DP       0.75      1.00      0.86         6\n",
      "          EQ       0.80      1.00      0.89         4\n",
      "          GD       1.00      1.00      1.00         1\n",
      "          JB       0.67      0.67      0.67         3\n",
      "          LC       0.84      1.00      0.91        16\n",
      "          MC       0.40      1.00      0.57         2\n",
      "          NC       1.00      1.00      1.00        27\n",
      "          NM       1.00      1.00      1.00        32\n",
      "          PC       1.00      0.75      0.86         4\n",
      "          PS       1.00      1.00      1.00        40\n",
      "          QT       0.50      0.50      0.50         2\n",
      "          RL       0.67      0.33      0.44         6\n",
      "          TI       0.94      0.89      0.91        18\n",
      "\n",
      "   micro avg       0.90      0.94      0.92       178\n",
      "   macro avg       0.83      0.88      0.84       178\n",
      "weighted avg       0.92      0.94      0.92       178\n",
      "\n",
      "{'eval_loss': 0.17874792218208313, 'eval_precision': 0.9032258064516129, 'eval_recall': 0.9438202247191011, 'eval_f1': 0.9230769230769231, 'eval_accuracy': 0.9801118707271598, 'eval_runtime': 1.223, 'eval_samples_per_second': 44.155, 'eval_steps_per_second': 11.448, 'epoch': 30.0}\n"
     ]
    },
    {
     "name": "stderr",
     "output_type": "stream",
     "text": [
      " 61%|██████    | 1648/2700 [07:40<02:52,  6.11it/s]"
     ]
    },
    {
     "name": "stdout",
     "output_type": "stream",
     "text": [
      "{'loss': 0.0021, 'grad_norm': 0.03486620634794235, 'learning_rate': 2.4421296296296298e-05, 'epoch': 30.5}\n"
     ]
    },
    {
     "name": "stderr",
     "output_type": "stream",
     "text": [
      " 62%|██████▏   | 1674/2700 [07:46<04:07,  4.15it/s]"
     ]
    },
    {
     "name": "stdout",
     "output_type": "stream",
     "text": [
      "{'loss': 0.0018, 'grad_norm': 0.010272719897329807, 'learning_rate': 2.3796296296296296e-05, 'epoch': 31.0}\n"
     ]
    },
    {
     "name": "stderr",
     "output_type": "stream",
     "text": [
      "\n",
      " 62%|██████▏   | 1674/2700 [07:47<04:07,  4.15it/s]"
     ]
    },
    {
     "name": "stdout",
     "output_type": "stream",
     "text": [
      "              precision    recall  f1-score   support\n",
      "\n",
      "          AG       1.00      1.00      1.00         2\n",
      "          BP       0.75      0.92      0.83        13\n",
      "          CN       1.00      1.00      1.00         2\n",
      "          DP       0.75      1.00      0.86         6\n",
      "          EQ       0.80      1.00      0.89         4\n",
      "          GD       1.00      1.00      1.00         1\n",
      "          JB       0.67      0.67      0.67         3\n",
      "          LC       0.84      1.00      0.91        16\n",
      "          MC       0.40      1.00      0.57         2\n",
      "          NC       0.93      0.96      0.95        27\n",
      "          NM       1.00      1.00      1.00        32\n",
      "          PC       1.00      0.75      0.86         4\n",
      "          PS       1.00      1.00      1.00        40\n",
      "          QT       0.50      0.50      0.50         2\n",
      "          RL       0.67      0.33      0.44         6\n",
      "          TI       1.00      0.94      0.97        18\n",
      "\n",
      "   micro avg       0.90      0.94      0.92       178\n",
      "   macro avg       0.83      0.88      0.84       178\n",
      "weighted avg       0.91      0.94      0.92       178\n",
      "\n",
      "{'eval_loss': 0.17690664529800415, 'eval_precision': 0.9032258064516129, 'eval_recall': 0.9438202247191011, 'eval_f1': 0.9230769230769231, 'eval_accuracy': 0.9801118707271598, 'eval_runtime': 1.2432, 'eval_samples_per_second': 43.437, 'eval_steps_per_second': 11.261, 'epoch': 31.0}\n"
     ]
    },
    {
     "name": "stderr",
     "output_type": "stream",
     "text": [
      " 63%|██████▎   | 1702/2700 [07:55<03:55,  4.24it/s]"
     ]
    },
    {
     "name": "stdout",
     "output_type": "stream",
     "text": [
      "{'loss': 0.0018, 'grad_norm': 0.01106494665145874, 'learning_rate': 2.3171296296296298e-05, 'epoch': 31.5}\n"
     ]
    },
    {
     "name": "stderr",
     "output_type": "stream",
     "text": [
      " 64%|██████▍   | 1728/2700 [08:01<03:39,  4.43it/s]"
     ]
    },
    {
     "name": "stdout",
     "output_type": "stream",
     "text": [
      "{'loss': 0.0019, 'grad_norm': 0.013011044822633266, 'learning_rate': 2.25462962962963e-05, 'epoch': 32.0}\n"
     ]
    },
    {
     "name": "stderr",
     "output_type": "stream",
     "text": [
      "\n",
      " 64%|██████▍   | 1728/2700 [08:02<03:39,  4.43it/s]"
     ]
    },
    {
     "name": "stdout",
     "output_type": "stream",
     "text": [
      "              precision    recall  f1-score   support\n",
      "\n",
      "          AG       1.00      1.00      1.00         2\n",
      "          BP       0.71      0.92      0.80        13\n",
      "          CN       1.00      1.00      1.00         2\n",
      "          DP       0.75      1.00      0.86         6\n",
      "          EQ       0.80      1.00      0.89         4\n",
      "          GD       1.00      1.00      1.00         1\n",
      "          JB       0.67      0.67      0.67         3\n",
      "          LC       0.84      1.00      0.91        16\n",
      "          MC       0.40      1.00      0.57         2\n",
      "          NC       0.89      0.89      0.89        27\n",
      "          NM       1.00      1.00      1.00        32\n",
      "          PC       1.00      0.75      0.86         4\n",
      "          PS       1.00      1.00      1.00        40\n",
      "          QT       0.50      0.50      0.50         2\n",
      "          RL       0.67      0.33      0.44         6\n",
      "          TI       1.00      0.94      0.97        18\n",
      "\n",
      "   micro avg       0.89      0.93      0.91       178\n",
      "   macro avg       0.83      0.88      0.84       178\n",
      "weighted avg       0.91      0.93      0.91       178\n",
      "\n",
      "{'eval_loss': 0.17819340527057648, 'eval_precision': 0.8924731182795699, 'eval_recall': 0.9325842696629213, 'eval_f1': 0.9120879120879121, 'eval_accuracy': 0.9794903666873834, 'eval_runtime': 1.2937, 'eval_samples_per_second': 41.741, 'eval_steps_per_second': 10.822, 'epoch': 32.0}\n"
     ]
    },
    {
     "name": "stderr",
     "output_type": "stream",
     "text": [
      " 65%|██████▌   | 1756/2700 [08:10<03:37,  4.34it/s]"
     ]
    },
    {
     "name": "stdout",
     "output_type": "stream",
     "text": [
      "{'loss': 0.0018, 'grad_norm': 0.009713856503367424, 'learning_rate': 2.1921296296296298e-05, 'epoch': 32.5}\n"
     ]
    },
    {
     "name": "stderr",
     "output_type": "stream",
     "text": [
      " 66%|██████▌   | 1782/2700 [08:16<03:27,  4.42it/s]"
     ]
    },
    {
     "name": "stdout",
     "output_type": "stream",
     "text": [
      "{'loss': 0.0017, 'grad_norm': 0.00991462729871273, 'learning_rate': 2.1296296296296296e-05, 'epoch': 33.0}\n"
     ]
    },
    {
     "name": "stderr",
     "output_type": "stream",
     "text": [
      "\n",
      " 66%|██████▌   | 1782/2700 [08:17<03:27,  4.42it/s]"
     ]
    },
    {
     "name": "stdout",
     "output_type": "stream",
     "text": [
      "              precision    recall  f1-score   support\n",
      "\n",
      "          AG       1.00      1.00      1.00         2\n",
      "          BP       0.71      0.92      0.80        13\n",
      "          CN       1.00      1.00      1.00         2\n",
      "          DP       0.75      1.00      0.86         6\n",
      "          EQ       0.80      1.00      0.89         4\n",
      "          GD       1.00      1.00      1.00         1\n",
      "          JB       0.67      0.67      0.67         3\n",
      "          LC       0.84      1.00      0.91        16\n",
      "          MC       0.40      1.00      0.57         2\n",
      "          NC       0.93      0.96      0.95        27\n",
      "          NM       1.00      1.00      1.00        32\n",
      "          PC       1.00      0.75      0.86         4\n",
      "          PS       1.00      1.00      1.00        40\n",
      "          QT       0.50      0.50      0.50         2\n",
      "          RL       0.67      0.33      0.44         6\n",
      "          TI       1.00      0.94      0.97        18\n",
      "\n",
      "   micro avg       0.90      0.94      0.92       178\n",
      "   macro avg       0.83      0.88      0.84       178\n",
      "weighted avg       0.91      0.94      0.92       178\n",
      "\n",
      "{'eval_loss': 0.1791202872991562, 'eval_precision': 0.8983957219251337, 'eval_recall': 0.9438202247191011, 'eval_f1': 0.9205479452054793, 'eval_accuracy': 0.9801118707271598, 'eval_runtime': 1.2785, 'eval_samples_per_second': 42.236, 'eval_steps_per_second': 10.95, 'epoch': 33.0}\n"
     ]
    },
    {
     "name": "stderr",
     "output_type": "stream",
     "text": [
      " 67%|██████▋   | 1810/2700 [08:26<03:00,  4.94it/s]"
     ]
    },
    {
     "name": "stdout",
     "output_type": "stream",
     "text": [
      "{'loss': 0.0017, 'grad_norm': 0.008174682967364788, 'learning_rate': 2.0671296296296298e-05, 'epoch': 33.5}\n"
     ]
    },
    {
     "name": "stderr",
     "output_type": "stream",
     "text": [
      " 68%|██████▊   | 1836/2700 [08:31<02:52,  5.00it/s]"
     ]
    },
    {
     "name": "stdout",
     "output_type": "stream",
     "text": [
      "{'loss': 0.0014, 'grad_norm': 0.008447281084954739, 'learning_rate': 2.0046296296296296e-05, 'epoch': 34.0}\n"
     ]
    },
    {
     "name": "stderr",
     "output_type": "stream",
     "text": [
      "\n",
      " 68%|██████▊   | 1836/2700 [08:33<02:52,  5.00it/s]"
     ]
    },
    {
     "name": "stdout",
     "output_type": "stream",
     "text": [
      "              precision    recall  f1-score   support\n",
      "\n",
      "          AG       1.00      1.00      1.00         2\n",
      "          BP       0.71      0.92      0.80        13\n",
      "          CN       1.00      1.00      1.00         2\n",
      "          DP       0.75      1.00      0.86         6\n",
      "          EQ       0.80      1.00      0.89         4\n",
      "          GD       1.00      1.00      1.00         1\n",
      "          JB       0.67      0.67      0.67         3\n",
      "          LC       0.84      1.00      0.91        16\n",
      "          MC       0.40      1.00      0.57         2\n",
      "          NC       0.93      0.96      0.95        27\n",
      "          NM       1.00      1.00      1.00        32\n",
      "          PC       1.00      0.75      0.86         4\n",
      "          PS       1.00      1.00      1.00        40\n",
      "          QT       0.50      0.50      0.50         2\n",
      "          RL       0.67      0.33      0.44         6\n",
      "          TI       1.00      0.94      0.97        18\n",
      "\n",
      "   micro avg       0.90      0.94      0.92       178\n",
      "   macro avg       0.83      0.88      0.84       178\n",
      "weighted avg       0.91      0.94      0.92       178\n",
      "\n",
      "{'eval_loss': 0.17977678775787354, 'eval_precision': 0.8983957219251337, 'eval_recall': 0.9438202247191011, 'eval_f1': 0.9205479452054793, 'eval_accuracy': 0.9801118707271598, 'eval_runtime': 1.2374, 'eval_samples_per_second': 43.639, 'eval_steps_per_second': 11.314, 'epoch': 34.0}\n"
     ]
    },
    {
     "name": "stderr",
     "output_type": "stream",
     "text": [
      " 69%|██████▉   | 1864/2700 [08:41<02:39,  5.24it/s]"
     ]
    },
    {
     "name": "stdout",
     "output_type": "stream",
     "text": [
      "{'loss': 0.0015, 'grad_norm': 0.012660518288612366, 'learning_rate': 1.9421296296296298e-05, 'epoch': 34.5}\n"
     ]
    },
    {
     "name": "stderr",
     "output_type": "stream",
     "text": [
      " 70%|███████   | 1890/2700 [08:46<02:53,  4.67it/s]"
     ]
    },
    {
     "name": "stdout",
     "output_type": "stream",
     "text": [
      "{'loss': 0.0017, 'grad_norm': 0.009579584002494812, 'learning_rate': 1.8796296296296296e-05, 'epoch': 35.0}\n"
     ]
    },
    {
     "name": "stderr",
     "output_type": "stream",
     "text": [
      "\n",
      " 70%|███████   | 1890/2700 [08:47<02:53,  4.67it/s]"
     ]
    },
    {
     "name": "stdout",
     "output_type": "stream",
     "text": [
      "              precision    recall  f1-score   support\n",
      "\n",
      "          AG       1.00      1.00      1.00         2\n",
      "          BP       0.71      0.92      0.80        13\n",
      "          CN       1.00      1.00      1.00         2\n",
      "          DP       0.75      1.00      0.86         6\n",
      "          EQ       0.80      1.00      0.89         4\n",
      "          GD       1.00      1.00      1.00         1\n",
      "          JB       0.67      0.67      0.67         3\n",
      "          LC       0.84      1.00      0.91        16\n",
      "          MC       0.40      1.00      0.57         2\n",
      "          NC       0.92      0.85      0.88        27\n",
      "          NM       1.00      1.00      1.00        32\n",
      "          PC       1.00      0.75      0.86         4\n",
      "          PS       1.00      1.00      1.00        40\n",
      "          QT       0.50      0.50      0.50         2\n",
      "          RL       0.67      0.33      0.44         6\n",
      "          TI       1.00      0.94      0.97        18\n",
      "\n",
      "   micro avg       0.90      0.93      0.91       178\n",
      "   macro avg       0.83      0.87      0.83       178\n",
      "weighted avg       0.91      0.93      0.91       178\n",
      "\n",
      "{'eval_loss': 0.19094718992710114, 'eval_precision': 0.8967391304347826, 'eval_recall': 0.9269662921348315, 'eval_f1': 0.9116022099447514, 'eval_accuracy': 0.9776258545680547, 'eval_runtime': 1.2354, 'eval_samples_per_second': 43.711, 'eval_steps_per_second': 11.332, 'epoch': 35.0}\n"
     ]
    },
    {
     "name": "stderr",
     "output_type": "stream",
     "text": [
      " 71%|███████   | 1918/2700 [08:56<02:48,  4.63it/s]"
     ]
    },
    {
     "name": "stdout",
     "output_type": "stream",
     "text": [
      "{'loss': 0.0016, 'grad_norm': 0.009001577273011208, 'learning_rate': 1.8171296296296298e-05, 'epoch': 35.5}\n"
     ]
    },
    {
     "name": "stderr",
     "output_type": "stream",
     "text": [
      " 72%|███████▏  | 1944/2700 [09:01<02:41,  4.69it/s]"
     ]
    },
    {
     "name": "stdout",
     "output_type": "stream",
     "text": [
      "{'loss': 0.0015, 'grad_norm': 0.011994605883955956, 'learning_rate': 1.7546296296296297e-05, 'epoch': 36.0}\n"
     ]
    },
    {
     "name": "stderr",
     "output_type": "stream",
     "text": [
      "\n",
      " 72%|███████▏  | 1944/2700 [09:02<02:41,  4.69it/s]"
     ]
    },
    {
     "name": "stdout",
     "output_type": "stream",
     "text": [
      "              precision    recall  f1-score   support\n",
      "\n",
      "          AG       1.00      1.00      1.00         2\n",
      "          BP       0.71      0.92      0.80        13\n",
      "          CN       1.00      1.00      1.00         2\n",
      "          DP       0.75      1.00      0.86         6\n",
      "          EQ       0.80      1.00      0.89         4\n",
      "          GD       1.00      1.00      1.00         1\n",
      "          JB       0.67      0.67      0.67         3\n",
      "          LC       0.84      1.00      0.91        16\n",
      "          MC       0.40      1.00      0.57         2\n",
      "          NC       0.92      0.85      0.88        27\n",
      "          NM       1.00      1.00      1.00        32\n",
      "          PC       1.00      0.75      0.86         4\n",
      "          PS       1.00      1.00      1.00        40\n",
      "          QT       0.50      0.50      0.50         2\n",
      "          RL       0.67      0.33      0.44         6\n",
      "          TI       1.00      0.94      0.97        18\n",
      "\n",
      "   micro avg       0.90      0.93      0.91       178\n",
      "   macro avg       0.83      0.87      0.83       178\n",
      "weighted avg       0.91      0.93      0.91       178\n",
      "\n",
      "{'eval_loss': 0.1915300339460373, 'eval_precision': 0.8967391304347826, 'eval_recall': 0.9269662921348315, 'eval_f1': 0.9116022099447514, 'eval_accuracy': 0.9776258545680547, 'eval_runtime': 1.2696, 'eval_samples_per_second': 42.532, 'eval_steps_per_second': 11.027, 'epoch': 36.0}\n"
     ]
    },
    {
     "name": "stderr",
     "output_type": "stream",
     "text": [
      " 73%|███████▎  | 1972/2700 [09:11<02:53,  4.21it/s]"
     ]
    },
    {
     "name": "stdout",
     "output_type": "stream",
     "text": [
      "{'loss': 0.0016, 'grad_norm': 0.0067756627686321735, 'learning_rate': 1.6921296296296295e-05, 'epoch': 36.5}\n"
     ]
    },
    {
     "name": "stderr",
     "output_type": "stream",
     "text": [
      " 74%|███████▍  | 1998/2700 [09:17<02:44,  4.27it/s]"
     ]
    },
    {
     "name": "stdout",
     "output_type": "stream",
     "text": [
      "{'loss': 0.0016, 'grad_norm': 0.009427295997738838, 'learning_rate': 1.62962962962963e-05, 'epoch': 37.0}\n"
     ]
    },
    {
     "name": "stderr",
     "output_type": "stream",
     "text": [
      "\n",
      " 74%|███████▍  | 1998/2700 [09:18<02:44,  4.27it/s]"
     ]
    },
    {
     "name": "stdout",
     "output_type": "stream",
     "text": [
      "              precision    recall  f1-score   support\n",
      "\n",
      "          AG       1.00      1.00      1.00         2\n",
      "          BP       0.76      1.00      0.87        13\n",
      "          CN       1.00      1.00      1.00         2\n",
      "          DP       0.75      1.00      0.86         6\n",
      "          EQ       0.80      1.00      0.89         4\n",
      "          GD       1.00      1.00      1.00         1\n",
      "          JB       0.67      0.67      0.67         3\n",
      "          LC       0.84      1.00      0.91        16\n",
      "          MC       0.40      1.00      0.57         2\n",
      "          NC       0.93      0.96      0.95        27\n",
      "          NM       1.00      1.00      1.00        32\n",
      "          PC       1.00      0.75      0.86         4\n",
      "          PS       1.00      1.00      1.00        40\n",
      "          QT       0.50      0.50      0.50         2\n",
      "          RL       0.67      0.33      0.44         6\n",
      "          TI       1.00      0.94      0.97        18\n",
      "\n",
      "   micro avg       0.90      0.95      0.93       178\n",
      "   macro avg       0.83      0.88      0.84       178\n",
      "weighted avg       0.92      0.95      0.93       178\n",
      "\n",
      "{'eval_loss': 0.1854322999715805, 'eval_precision': 0.9037433155080213, 'eval_recall': 0.949438202247191, 'eval_f1': 0.9260273972602739, 'eval_accuracy': 0.980733374766936, 'eval_runtime': 1.2633, 'eval_samples_per_second': 42.746, 'eval_steps_per_second': 11.082, 'epoch': 37.0}\n"
     ]
    },
    {
     "name": "stderr",
     "output_type": "stream",
     "text": [
      " 75%|███████▌  | 2026/2700 [09:26<02:24,  4.67it/s]"
     ]
    },
    {
     "name": "stdout",
     "output_type": "stream",
     "text": [
      "{'loss': 0.0015, 'grad_norm': 0.007617342751473188, 'learning_rate': 1.56712962962963e-05, 'epoch': 37.5}\n"
     ]
    },
    {
     "name": "stderr",
     "output_type": "stream",
     "text": [
      " 76%|███████▌  | 2052/2700 [09:32<02:22,  4.55it/s]"
     ]
    },
    {
     "name": "stdout",
     "output_type": "stream",
     "text": [
      "{'loss': 0.0014, 'grad_norm': 0.006592307239770889, 'learning_rate': 1.5046296296296297e-05, 'epoch': 38.0}\n"
     ]
    },
    {
     "name": "stderr",
     "output_type": "stream",
     "text": [
      "\n",
      " 76%|███████▌  | 2052/2700 [09:33<02:22,  4.55it/s]"
     ]
    },
    {
     "name": "stdout",
     "output_type": "stream",
     "text": [
      "              precision    recall  f1-score   support\n",
      "\n",
      "          AG       1.00      1.00      1.00         2\n",
      "          BP       0.76      1.00      0.87        13\n",
      "          CN       1.00      1.00      1.00         2\n",
      "          DP       0.75      1.00      0.86         6\n",
      "          EQ       0.80      1.00      0.89         4\n",
      "          GD       1.00      1.00      1.00         1\n",
      "          JB       0.67      0.67      0.67         3\n",
      "          LC       0.84      1.00      0.91        16\n",
      "          MC       0.40      1.00      0.57         2\n",
      "          NC       0.93      0.96      0.95        27\n",
      "          NM       1.00      1.00      1.00        32\n",
      "          PC       1.00      0.75      0.86         4\n",
      "          PS       1.00      1.00      1.00        40\n",
      "          QT       0.50      0.50      0.50         2\n",
      "          RL       0.67      0.33      0.44         6\n",
      "          TI       1.00      0.94      0.97        18\n",
      "\n",
      "   micro avg       0.90      0.95      0.93       178\n",
      "   macro avg       0.83      0.88      0.84       178\n",
      "weighted avg       0.92      0.95      0.93       178\n",
      "\n",
      "{'eval_loss': 0.18550950288772583, 'eval_precision': 0.9037433155080213, 'eval_recall': 0.949438202247191, 'eval_f1': 0.9260273972602739, 'eval_accuracy': 0.9813548788067122, 'eval_runtime': 1.2284, 'eval_samples_per_second': 43.958, 'eval_steps_per_second': 11.397, 'epoch': 38.0}\n"
     ]
    },
    {
     "name": "stderr",
     "output_type": "stream",
     "text": [
      " 77%|███████▋  | 2079/2700 [09:41<02:24,  4.29it/s]"
     ]
    },
    {
     "name": "stdout",
     "output_type": "stream",
     "text": [
      "{'loss': 0.0044, 'grad_norm': 0.011196748353540897, 'learning_rate': 1.4421296296296297e-05, 'epoch': 38.5}\n"
     ]
    },
    {
     "name": "stderr",
     "output_type": "stream",
     "text": [
      " 78%|███████▊  | 2106/2700 [09:47<01:38,  6.05it/s]"
     ]
    },
    {
     "name": "stdout",
     "output_type": "stream",
     "text": [
      "{'loss': 0.0016, 'grad_norm': 0.02472580410540104, 'learning_rate': 1.3796296296296297e-05, 'epoch': 39.0}\n"
     ]
    },
    {
     "name": "stderr",
     "output_type": "stream",
     "text": [
      "\n",
      " 78%|███████▊  | 2106/2700 [09:48<01:38,  6.05it/s]"
     ]
    },
    {
     "name": "stdout",
     "output_type": "stream",
     "text": [
      "              precision    recall  f1-score   support\n",
      "\n",
      "          AG       1.00      1.00      1.00         2\n",
      "          BP       0.75      0.92      0.83        13\n",
      "          CN       1.00      1.00      1.00         2\n",
      "          DP       0.75      1.00      0.86         6\n",
      "          EQ       0.80      1.00      0.89         4\n",
      "          GD       1.00      1.00      1.00         1\n",
      "          JB       1.00      0.67      0.80         3\n",
      "          LC       0.84      1.00      0.91        16\n",
      "          MC       0.40      1.00      0.57         2\n",
      "          NC       0.93      0.96      0.95        27\n",
      "          NM       1.00      1.00      1.00        32\n",
      "          PC       1.00      0.75      0.86         4\n",
      "          PS       1.00      1.00      1.00        40\n",
      "          QT       0.50      0.50      0.50         2\n",
      "          RL       0.67      0.33      0.44         6\n",
      "          TI       0.94      0.89      0.91        18\n",
      "\n",
      "   micro avg       0.90      0.94      0.92       178\n",
      "   macro avg       0.85      0.88      0.85       178\n",
      "weighted avg       0.91      0.94      0.92       178\n",
      "\n",
      "{'eval_loss': 0.18110240995883942, 'eval_precision': 0.9027027027027027, 'eval_recall': 0.9382022471910112, 'eval_f1': 0.9201101928374654, 'eval_accuracy': 0.9794903666873834, 'eval_runtime': 1.2801, 'eval_samples_per_second': 42.184, 'eval_steps_per_second': 10.937, 'epoch': 39.0}\n"
     ]
    },
    {
     "name": "stderr",
     "output_type": "stream",
     "text": [
      " 79%|███████▉  | 2134/2700 [09:57<01:56,  4.85it/s]"
     ]
    },
    {
     "name": "stdout",
     "output_type": "stream",
     "text": [
      "{'loss': 0.0016, 'grad_norm': 0.006823010742664337, 'learning_rate': 1.3171296296296299e-05, 'epoch': 39.5}\n"
     ]
    },
    {
     "name": "stderr",
     "output_type": "stream",
     "text": [
      " 80%|████████  | 2160/2700 [10:02<01:52,  4.82it/s]"
     ]
    },
    {
     "name": "stdout",
     "output_type": "stream",
     "text": [
      "{'loss': 0.0014, 'grad_norm': 0.007592393551021814, 'learning_rate': 1.2546296296296297e-05, 'epoch': 40.0}\n"
     ]
    },
    {
     "name": "stderr",
     "output_type": "stream",
     "text": [
      "\n",
      " 80%|████████  | 2160/2700 [10:03<01:52,  4.82it/s]"
     ]
    },
    {
     "name": "stdout",
     "output_type": "stream",
     "text": [
      "              precision    recall  f1-score   support\n",
      "\n",
      "          AG       1.00      1.00      1.00         2\n",
      "          BP       0.71      0.92      0.80        13\n",
      "          CN       1.00      1.00      1.00         2\n",
      "          DP       0.75      1.00      0.86         6\n",
      "          EQ       0.80      1.00      0.89         4\n",
      "          GD       1.00      1.00      1.00         1\n",
      "          JB       1.00      0.67      0.80         3\n",
      "          LC       0.84      1.00      0.91        16\n",
      "          MC       0.40      1.00      0.57         2\n",
      "          NC       1.00      1.00      1.00        27\n",
      "          NM       1.00      1.00      1.00        32\n",
      "          PC       1.00      0.75      0.86         4\n",
      "          PS       1.00      1.00      1.00        40\n",
      "          QT       0.50      0.50      0.50         2\n",
      "          RL       0.67      0.33      0.44         6\n",
      "          TI       0.94      0.89      0.91        18\n",
      "\n",
      "   micro avg       0.91      0.94      0.93       178\n",
      "   macro avg       0.85      0.88      0.85       178\n",
      "weighted avg       0.92      0.94      0.93       178\n",
      "\n",
      "{'eval_loss': 0.18170662224292755, 'eval_precision': 0.9081081081081082, 'eval_recall': 0.9438202247191011, 'eval_f1': 0.9256198347107438, 'eval_accuracy': 0.9801118707271598, 'eval_runtime': 1.2406, 'eval_samples_per_second': 43.526, 'eval_steps_per_second': 11.285, 'epoch': 40.0}\n"
     ]
    },
    {
     "name": "stderr",
     "output_type": "stream",
     "text": [
      " 81%|████████  | 2188/2700 [10:12<01:53,  4.50it/s]"
     ]
    },
    {
     "name": "stdout",
     "output_type": "stream",
     "text": [
      "{'loss': 0.0023, 'grad_norm': 0.010903012938797474, 'learning_rate': 1.1921296296296297e-05, 'epoch': 40.5}\n"
     ]
    },
    {
     "name": "stderr",
     "output_type": "stream",
     "text": [
      " 82%|████████▏ | 2214/2700 [10:17<01:50,  4.40it/s]"
     ]
    },
    {
     "name": "stdout",
     "output_type": "stream",
     "text": [
      "{'loss': 0.0014, 'grad_norm': 0.007080866955220699, 'learning_rate': 1.1296296296296297e-05, 'epoch': 41.0}\n"
     ]
    },
    {
     "name": "stderr",
     "output_type": "stream",
     "text": [
      "\n",
      " 82%|████████▏ | 2214/2700 [10:19<01:50,  4.40it/s]"
     ]
    },
    {
     "name": "stdout",
     "output_type": "stream",
     "text": [
      "              precision    recall  f1-score   support\n",
      "\n",
      "          AG       1.00      1.00      1.00         2\n",
      "          BP       0.75      0.92      0.83        13\n",
      "          CN       1.00      1.00      1.00         2\n",
      "          DP       0.75      1.00      0.86         6\n",
      "          EQ       0.80      1.00      0.89         4\n",
      "          GD       1.00      1.00      1.00         1\n",
      "          JB       1.00      0.67      0.80         3\n",
      "          LC       0.84      1.00      0.91        16\n",
      "          MC       0.40      1.00      0.57         2\n",
      "          NC       0.92      0.85      0.88        27\n",
      "          NM       1.00      1.00      1.00        32\n",
      "          PC       1.00      0.75      0.86         4\n",
      "          PS       1.00      1.00      1.00        40\n",
      "          QT       0.50      0.50      0.50         2\n",
      "          RL       0.67      0.33      0.44         6\n",
      "          TI       0.94      0.89      0.91        18\n",
      "\n",
      "   micro avg       0.90      0.92      0.91       178\n",
      "   macro avg       0.85      0.87      0.84       178\n",
      "weighted avg       0.91      0.92      0.91       178\n",
      "\n",
      "{'eval_loss': 0.18673355877399445, 'eval_precision': 0.9010989010989011, 'eval_recall': 0.9213483146067416, 'eval_f1': 0.9111111111111112, 'eval_accuracy': 0.978247358607831, 'eval_runtime': 1.7086, 'eval_samples_per_second': 31.605, 'eval_steps_per_second': 8.194, 'epoch': 41.0}\n"
     ]
    },
    {
     "name": "stderr",
     "output_type": "stream",
     "text": [
      " 83%|████████▎ | 2242/2700 [10:27<01:34,  4.82it/s]"
     ]
    },
    {
     "name": "stdout",
     "output_type": "stream",
     "text": [
      "{'loss': 0.0014, 'grad_norm': 0.007955792360007763, 'learning_rate': 1.0671296296296297e-05, 'epoch': 41.5}\n"
     ]
    },
    {
     "name": "stderr",
     "output_type": "stream",
     "text": [
      " 84%|████████▍ | 2268/2700 [10:33<01:46,  4.07it/s]"
     ]
    },
    {
     "name": "stdout",
     "output_type": "stream",
     "text": [
      "{'loss': 0.0013, 'grad_norm': 0.005066937766969204, 'learning_rate': 1.0046296296296297e-05, 'epoch': 42.0}\n"
     ]
    },
    {
     "name": "stderr",
     "output_type": "stream",
     "text": [
      "\n",
      " 84%|████████▍ | 2268/2700 [10:34<01:46,  4.07it/s]"
     ]
    },
    {
     "name": "stdout",
     "output_type": "stream",
     "text": [
      "              precision    recall  f1-score   support\n",
      "\n",
      "          AG       1.00      1.00      1.00         2\n",
      "          BP       0.75      0.92      0.83        13\n",
      "          CN       1.00      1.00      1.00         2\n",
      "          DP       0.75      1.00      0.86         6\n",
      "          EQ       0.80      1.00      0.89         4\n",
      "          GD       1.00      1.00      1.00         1\n",
      "          JB       1.00      0.67      0.80         3\n",
      "          LC       0.84      1.00      0.91        16\n",
      "          MC       0.40      1.00      0.57         2\n",
      "          NC       0.92      0.85      0.88        27\n",
      "          NM       1.00      1.00      1.00        32\n",
      "          PC       1.00      0.75      0.86         4\n",
      "          PS       1.00      1.00      1.00        40\n",
      "          QT       0.50      0.50      0.50         2\n",
      "          RL       0.67      0.33      0.44         6\n",
      "          TI       0.94      0.89      0.91        18\n",
      "\n",
      "   micro avg       0.90      0.92      0.91       178\n",
      "   macro avg       0.85      0.87      0.84       178\n",
      "weighted avg       0.91      0.92      0.91       178\n",
      "\n",
      "{'eval_loss': 0.1863255500793457, 'eval_precision': 0.9010989010989011, 'eval_recall': 0.9213483146067416, 'eval_f1': 0.9111111111111112, 'eval_accuracy': 0.978247358607831, 'eval_runtime': 1.288, 'eval_samples_per_second': 41.927, 'eval_steps_per_second': 10.87, 'epoch': 42.0}\n"
     ]
    },
    {
     "name": "stderr",
     "output_type": "stream",
     "text": [
      " 85%|████████▌ | 2296/2700 [10:43<01:29,  4.49it/s]"
     ]
    },
    {
     "name": "stdout",
     "output_type": "stream",
     "text": [
      "{'loss': 0.0013, 'grad_norm': 0.01598438248038292, 'learning_rate': 9.421296296296296e-06, 'epoch': 42.5}\n"
     ]
    },
    {
     "name": "stderr",
     "output_type": "stream",
     "text": [
      " 86%|████████▌ | 2322/2700 [10:49<01:21,  4.66it/s]"
     ]
    },
    {
     "name": "stdout",
     "output_type": "stream",
     "text": [
      "{'loss': 0.0014, 'grad_norm': 0.006875732447952032, 'learning_rate': 8.796296296296297e-06, 'epoch': 43.0}\n"
     ]
    },
    {
     "name": "stderr",
     "output_type": "stream",
     "text": [
      "\n",
      " 86%|████████▌ | 2322/2700 [10:50<01:21,  4.66it/s]"
     ]
    },
    {
     "name": "stdout",
     "output_type": "stream",
     "text": [
      "              precision    recall  f1-score   support\n",
      "\n",
      "          AG       1.00      1.00      1.00         2\n",
      "          BP       0.75      0.92      0.83        13\n",
      "          CN       1.00      1.00      1.00         2\n",
      "          DP       0.75      1.00      0.86         6\n",
      "          EQ       0.80      1.00      0.89         4\n",
      "          GD       1.00      1.00      1.00         1\n",
      "          JB       1.00      0.67      0.80         3\n",
      "          LC       0.84      1.00      0.91        16\n",
      "          MC       0.40      1.00      0.57         2\n",
      "          NC       0.92      0.85      0.88        27\n",
      "          NM       1.00      1.00      1.00        32\n",
      "          PC       1.00      0.75      0.86         4\n",
      "          PS       1.00      1.00      1.00        40\n",
      "          QT       0.50      0.50      0.50         2\n",
      "          RL       0.67      0.33      0.44         6\n",
      "          TI       1.00      0.94      0.97        18\n",
      "\n",
      "   micro avg       0.91      0.93      0.92       178\n",
      "   macro avg       0.85      0.87      0.84       178\n",
      "weighted avg       0.92      0.93      0.92       178\n",
      "\n",
      "{'eval_loss': 0.18609796464443207, 'eval_precision': 0.9065934065934066, 'eval_recall': 0.9269662921348315, 'eval_f1': 0.9166666666666666, 'eval_accuracy': 0.9788688626476072, 'eval_runtime': 1.2887, 'eval_samples_per_second': 41.902, 'eval_steps_per_second': 10.864, 'epoch': 43.0}\n"
     ]
    },
    {
     "name": "stderr",
     "output_type": "stream",
     "text": [
      " 87%|████████▋ | 2350/2700 [10:58<01:13,  4.76it/s]"
     ]
    },
    {
     "name": "stdout",
     "output_type": "stream",
     "text": [
      "{'loss': 0.0014, 'grad_norm': 0.009354098699986935, 'learning_rate': 8.171296296296296e-06, 'epoch': 43.5}\n"
     ]
    },
    {
     "name": "stderr",
     "output_type": "stream",
     "text": [
      " 88%|████████▊ | 2376/2700 [11:04<01:13,  4.44it/s]"
     ]
    },
    {
     "name": "stdout",
     "output_type": "stream",
     "text": [
      "{'loss': 0.0041, 'grad_norm': 0.0066269333474338055, 'learning_rate': 7.569444444444444e-06, 'epoch': 44.0}\n"
     ]
    },
    {
     "name": "stderr",
     "output_type": "stream",
     "text": [
      "\n",
      " 88%|████████▊ | 2376/2700 [11:05<01:13,  4.44it/s]"
     ]
    },
    {
     "name": "stdout",
     "output_type": "stream",
     "text": [
      "              precision    recall  f1-score   support\n",
      "\n",
      "          AG       1.00      1.00      1.00         2\n",
      "          BP       0.75      0.92      0.83        13\n",
      "          CN       1.00      1.00      1.00         2\n",
      "          DP       0.75      1.00      0.86         6\n",
      "          EQ       0.80      1.00      0.89         4\n",
      "          GD       1.00      1.00      1.00         1\n",
      "          JB       1.00      0.67      0.80         3\n",
      "          LC       0.84      1.00      0.91        16\n",
      "          MC       0.40      1.00      0.57         2\n",
      "          NC       0.92      0.85      0.88        27\n",
      "          NM       1.00      1.00      1.00        32\n",
      "          PC       1.00      0.75      0.86         4\n",
      "          PS       1.00      1.00      1.00        40\n",
      "          QT       0.50      0.50      0.50         2\n",
      "          RL       0.67      0.33      0.44         6\n",
      "          TI       1.00      0.94      0.97        18\n",
      "\n",
      "   micro avg       0.91      0.93      0.92       178\n",
      "   macro avg       0.85      0.87      0.84       178\n",
      "weighted avg       0.92      0.93      0.92       178\n",
      "\n",
      "{'eval_loss': 0.18584558367729187, 'eval_precision': 0.9065934065934066, 'eval_recall': 0.9269662921348315, 'eval_f1': 0.9166666666666666, 'eval_accuracy': 0.9788688626476072, 'eval_runtime': 1.2383, 'eval_samples_per_second': 43.607, 'eval_steps_per_second': 11.305, 'epoch': 44.0}\n"
     ]
    },
    {
     "name": "stderr",
     "output_type": "stream",
     "text": [
      " 89%|████████▉ | 2403/2700 [11:13<01:00,  4.93it/s]"
     ]
    },
    {
     "name": "stdout",
     "output_type": "stream",
     "text": [
      "{'loss': 0.0014, 'grad_norm': 0.009227657690644264, 'learning_rate': 6.944444444444445e-06, 'epoch': 44.5}\n"
     ]
    },
    {
     "name": "stderr",
     "output_type": "stream",
     "text": [
      " 90%|█████████ | 2430/2700 [11:19<01:04,  4.16it/s]"
     ]
    },
    {
     "name": "stdout",
     "output_type": "stream",
     "text": [
      "{'loss': 0.0014, 'grad_norm': 0.006560611538589001, 'learning_rate': 6.319444444444445e-06, 'epoch': 45.0}\n"
     ]
    },
    {
     "name": "stderr",
     "output_type": "stream",
     "text": [
      "\n",
      " 90%|█████████ | 2430/2700 [11:20<01:04,  4.16it/s]"
     ]
    },
    {
     "name": "stdout",
     "output_type": "stream",
     "text": [
      "              precision    recall  f1-score   support\n",
      "\n",
      "          AG       1.00      1.00      1.00         2\n",
      "          BP       0.75      0.92      0.83        13\n",
      "          CN       1.00      1.00      1.00         2\n",
      "          DP       0.75      1.00      0.86         6\n",
      "          EQ       0.80      1.00      0.89         4\n",
      "          GD       1.00      1.00      1.00         1\n",
      "          JB       1.00      0.67      0.80         3\n",
      "          LC       0.84      1.00      0.91        16\n",
      "          MC       0.40      1.00      0.57         2\n",
      "          NC       0.92      0.85      0.88        27\n",
      "          NM       1.00      1.00      1.00        32\n",
      "          PC       1.00      0.75      0.86         4\n",
      "          PS       1.00      1.00      1.00        40\n",
      "          QT       0.50      0.50      0.50         2\n",
      "          RL       0.67      0.33      0.44         6\n",
      "          TI       1.00      0.94      0.97        18\n",
      "\n",
      "   micro avg       0.91      0.93      0.92       178\n",
      "   macro avg       0.85      0.87      0.84       178\n",
      "weighted avg       0.92      0.93      0.92       178\n",
      "\n",
      "{'eval_loss': 0.18584077060222626, 'eval_precision': 0.9065934065934066, 'eval_recall': 0.9269662921348315, 'eval_f1': 0.9166666666666666, 'eval_accuracy': 0.9788688626476072, 'eval_runtime': 1.2966, 'eval_samples_per_second': 41.647, 'eval_steps_per_second': 10.797, 'epoch': 45.0}\n"
     ]
    },
    {
     "name": "stderr",
     "output_type": "stream",
     "text": [
      " 91%|█████████ | 2458/2700 [11:28<00:47,  5.06it/s]"
     ]
    },
    {
     "name": "stdout",
     "output_type": "stream",
     "text": [
      "{'loss': 0.0013, 'grad_norm': 0.005644718650728464, 'learning_rate': 5.694444444444445e-06, 'epoch': 45.5}\n"
     ]
    },
    {
     "name": "stderr",
     "output_type": "stream",
     "text": [
      " 92%|█████████▏| 2484/2700 [11:34<00:46,  4.64it/s]"
     ]
    },
    {
     "name": "stdout",
     "output_type": "stream",
     "text": [
      "{'loss': 0.0013, 'grad_norm': 0.006196257192641497, 'learning_rate': 5.069444444444445e-06, 'epoch': 46.0}\n"
     ]
    },
    {
     "name": "stderr",
     "output_type": "stream",
     "text": [
      "\n",
      " 92%|█████████▏| 2484/2700 [11:35<00:46,  4.64it/s]"
     ]
    },
    {
     "name": "stdout",
     "output_type": "stream",
     "text": [
      "              precision    recall  f1-score   support\n",
      "\n",
      "          AG       1.00      1.00      1.00         2\n",
      "          BP       0.75      0.92      0.83        13\n",
      "          CN       1.00      1.00      1.00         2\n",
      "          DP       0.75      1.00      0.86         6\n",
      "          EQ       0.80      1.00      0.89         4\n",
      "          GD       1.00      1.00      1.00         1\n",
      "          JB       1.00      0.67      0.80         3\n",
      "          LC       0.84      1.00      0.91        16\n",
      "          MC       0.40      1.00      0.57         2\n",
      "          NC       0.92      0.85      0.88        27\n",
      "          NM       1.00      1.00      1.00        32\n",
      "          PC       1.00      0.75      0.86         4\n",
      "          PS       1.00      1.00      1.00        40\n",
      "          QT       0.50      0.50      0.50         2\n",
      "          RL       0.67      0.33      0.44         6\n",
      "          TI       1.00      0.94      0.97        18\n",
      "\n",
      "   micro avg       0.91      0.93      0.92       178\n",
      "   macro avg       0.85      0.87      0.84       178\n",
      "weighted avg       0.92      0.93      0.92       178\n",
      "\n",
      "{'eval_loss': 0.18590354919433594, 'eval_precision': 0.9065934065934066, 'eval_recall': 0.9269662921348315, 'eval_f1': 0.9166666666666666, 'eval_accuracy': 0.9788688626476072, 'eval_runtime': 1.2786, 'eval_samples_per_second': 42.234, 'eval_steps_per_second': 10.95, 'epoch': 46.0}\n"
     ]
    },
    {
     "name": "stderr",
     "output_type": "stream",
     "text": [
      " 93%|█████████▎| 2512/2700 [11:43<00:40,  4.64it/s]"
     ]
    },
    {
     "name": "stdout",
     "output_type": "stream",
     "text": [
      "{'loss': 0.0013, 'grad_norm': 0.008749344386160374, 'learning_rate': 4.444444444444445e-06, 'epoch': 46.5}\n"
     ]
    },
    {
     "name": "stderr",
     "output_type": "stream",
     "text": [
      " 94%|█████████▍| 2538/2700 [11:49<00:34,  4.71it/s]"
     ]
    },
    {
     "name": "stdout",
     "output_type": "stream",
     "text": [
      "{'loss': 0.0013, 'grad_norm': 0.007088693790137768, 'learning_rate': 3.819444444444445e-06, 'epoch': 47.0}\n"
     ]
    },
    {
     "name": "stderr",
     "output_type": "stream",
     "text": [
      "\n",
      " 94%|█████████▍| 2538/2700 [11:50<00:34,  4.71it/s]"
     ]
    },
    {
     "name": "stdout",
     "output_type": "stream",
     "text": [
      "              precision    recall  f1-score   support\n",
      "\n",
      "          AG       1.00      1.00      1.00         2\n",
      "          BP       0.75      0.92      0.83        13\n",
      "          CN       1.00      1.00      1.00         2\n",
      "          DP       0.75      1.00      0.86         6\n",
      "          EQ       0.80      1.00      0.89         4\n",
      "          GD       1.00      1.00      1.00         1\n",
      "          JB       0.67      0.67      0.67         3\n",
      "          LC       0.84      1.00      0.91        16\n",
      "          MC       0.40      1.00      0.57         2\n",
      "          NC       0.92      0.85      0.88        27\n",
      "          NM       1.00      1.00      1.00        32\n",
      "          PC       1.00      0.75      0.86         4\n",
      "          PS       1.00      1.00      1.00        40\n",
      "          QT       0.50      0.50      0.50         2\n",
      "          RL       0.67      0.33      0.44         6\n",
      "          TI       1.00      0.94      0.97        18\n",
      "\n",
      "   micro avg       0.90      0.93      0.91       178\n",
      "   macro avg       0.83      0.87      0.84       178\n",
      "weighted avg       0.91      0.93      0.91       178\n",
      "\n",
      "{'eval_loss': 0.1859503537416458, 'eval_precision': 0.9016393442622951, 'eval_recall': 0.9269662921348315, 'eval_f1': 0.9141274238227147, 'eval_accuracy': 0.9788688626476072, 'eval_runtime': 1.2377, 'eval_samples_per_second': 43.631, 'eval_steps_per_second': 11.312, 'epoch': 47.0}\n"
     ]
    },
    {
     "name": "stderr",
     "output_type": "stream",
     "text": [
      " 95%|█████████▌| 2566/2700 [11:58<00:28,  4.68it/s]"
     ]
    },
    {
     "name": "stdout",
     "output_type": "stream",
     "text": [
      "{'loss': 0.0012, 'grad_norm': 0.007950672879815102, 'learning_rate': 3.1944444444444443e-06, 'epoch': 47.5}\n"
     ]
    },
    {
     "name": "stderr",
     "output_type": "stream",
     "text": [
      " 96%|█████████▌| 2592/2700 [12:04<00:24,  4.49it/s]"
     ]
    },
    {
     "name": "stdout",
     "output_type": "stream",
     "text": [
      "{'loss': 0.0015, 'grad_norm': 0.013601520098745823, 'learning_rate': 2.5694444444444443e-06, 'epoch': 48.0}\n"
     ]
    },
    {
     "name": "stderr",
     "output_type": "stream",
     "text": [
      "\n",
      " 96%|█████████▌| 2592/2700 [12:05<00:24,  4.49it/s]"
     ]
    },
    {
     "name": "stdout",
     "output_type": "stream",
     "text": [
      "              precision    recall  f1-score   support\n",
      "\n",
      "          AG       1.00      1.00      1.00         2\n",
      "          BP       0.75      0.92      0.83        13\n",
      "          CN       1.00      1.00      1.00         2\n",
      "          DP       0.75      1.00      0.86         6\n",
      "          EQ       0.80      1.00      0.89         4\n",
      "          GD       1.00      1.00      1.00         1\n",
      "          JB       0.67      0.67      0.67         3\n",
      "          LC       0.84      1.00      0.91        16\n",
      "          MC       0.40      1.00      0.57         2\n",
      "          NC       0.92      0.85      0.88        27\n",
      "          NM       1.00      1.00      1.00        32\n",
      "          PC       1.00      0.75      0.86         4\n",
      "          PS       1.00      1.00      1.00        40\n",
      "          QT       0.50      0.50      0.50         2\n",
      "          RL       0.67      0.33      0.44         6\n",
      "          TI       1.00      0.94      0.97        18\n",
      "\n",
      "   micro avg       0.90      0.93      0.91       178\n",
      "   macro avg       0.83      0.87      0.84       178\n",
      "weighted avg       0.91      0.93      0.91       178\n",
      "\n",
      "{'eval_loss': 0.18572425842285156, 'eval_precision': 0.9016393442622951, 'eval_recall': 0.9269662921348315, 'eval_f1': 0.9141274238227147, 'eval_accuracy': 0.9788688626476072, 'eval_runtime': 1.2444, 'eval_samples_per_second': 43.393, 'eval_steps_per_second': 11.25, 'epoch': 48.0}\n"
     ]
    },
    {
     "name": "stderr",
     "output_type": "stream",
     "text": [
      " 97%|█████████▋| 2620/2700 [12:13<00:14,  5.66it/s]"
     ]
    },
    {
     "name": "stdout",
     "output_type": "stream",
     "text": [
      "{'loss': 0.0012, 'grad_norm': 0.006208320148289204, 'learning_rate': 1.9444444444444444e-06, 'epoch': 48.5}\n"
     ]
    },
    {
     "name": "stderr",
     "output_type": "stream",
     "text": [
      " 98%|█████████▊| 2646/2700 [12:19<00:10,  4.99it/s]"
     ]
    },
    {
     "name": "stdout",
     "output_type": "stream",
     "text": [
      "{'loss': 0.0015, 'grad_norm': 0.010723874904215336, 'learning_rate': 1.3194444444444444e-06, 'epoch': 49.0}\n"
     ]
    },
    {
     "name": "stderr",
     "output_type": "stream",
     "text": [
      "\n",
      " 98%|█████████▊| 2646/2700 [12:20<00:10,  4.99it/s]"
     ]
    },
    {
     "name": "stdout",
     "output_type": "stream",
     "text": [
      "              precision    recall  f1-score   support\n",
      "\n",
      "          AG       1.00      1.00      1.00         2\n",
      "          BP       0.75      0.92      0.83        13\n",
      "          CN       1.00      1.00      1.00         2\n",
      "          DP       0.75      1.00      0.86         6\n",
      "          EQ       0.80      1.00      0.89         4\n",
      "          GD       1.00      1.00      1.00         1\n",
      "          JB       0.67      0.67      0.67         3\n",
      "          LC       0.84      1.00      0.91        16\n",
      "          MC       0.40      1.00      0.57         2\n",
      "          NC       1.00      1.00      1.00        27\n",
      "          NM       1.00      1.00      1.00        32\n",
      "          PC       1.00      0.75      0.86         4\n",
      "          PS       1.00      1.00      1.00        40\n",
      "          QT       0.50      0.50      0.50         2\n",
      "          RL       0.67      0.33      0.44         6\n",
      "          TI       1.00      0.94      0.97        18\n",
      "\n",
      "   micro avg       0.91      0.95      0.93       178\n",
      "   macro avg       0.84      0.88      0.84       178\n",
      "weighted avg       0.93      0.95      0.93       178\n",
      "\n",
      "{'eval_loss': 0.18572407960891724, 'eval_precision': 0.9135135135135135, 'eval_recall': 0.949438202247191, 'eval_f1': 0.931129476584022, 'eval_accuracy': 0.9801118707271598, 'eval_runtime': 1.2735, 'eval_samples_per_second': 42.402, 'eval_steps_per_second': 10.993, 'epoch': 49.0}\n"
     ]
    },
    {
     "name": "stderr",
     "output_type": "stream",
     "text": [
      " 99%|█████████▉| 2674/2700 [12:28<00:04,  5.21it/s]"
     ]
    },
    {
     "name": "stdout",
     "output_type": "stream",
     "text": [
      "{'loss': 0.0012, 'grad_norm': 0.00562496529892087, 'learning_rate': 6.944444444444445e-07, 'epoch': 49.5}\n"
     ]
    },
    {
     "name": "stderr",
     "output_type": "stream",
     "text": [
      "100%|██████████| 2700/2700 [12:34<00:00,  5.34it/s]"
     ]
    },
    {
     "name": "stdout",
     "output_type": "stream",
     "text": [
      "{'loss': 0.0013, 'grad_norm': 0.007181345950812101, 'learning_rate': 6.944444444444445e-08, 'epoch': 50.0}\n"
     ]
    },
    {
     "name": "stderr",
     "output_type": "stream",
     "text": [
      "\n",
      "100%|██████████| 2700/2700 [12:37<00:00,  5.34it/s]"
     ]
    },
    {
     "name": "stdout",
     "output_type": "stream",
     "text": [
      "              precision    recall  f1-score   support\n",
      "\n",
      "          AG       1.00      1.00      1.00         2\n",
      "          BP       0.75      0.92      0.83        13\n",
      "          CN       1.00      1.00      1.00         2\n",
      "          DP       0.75      1.00      0.86         6\n",
      "          EQ       0.80      1.00      0.89         4\n",
      "          GD       1.00      1.00      1.00         1\n",
      "          JB       0.67      0.67      0.67         3\n",
      "          LC       0.84      1.00      0.91        16\n",
      "          MC       0.40      1.00      0.57         2\n",
      "          NC       1.00      1.00      1.00        27\n",
      "          NM       1.00      1.00      1.00        32\n",
      "          PC       1.00      0.75      0.86         4\n",
      "          PS       1.00      1.00      1.00        40\n",
      "          QT       0.50      0.50      0.50         2\n",
      "          RL       0.67      0.33      0.44         6\n",
      "          TI       1.00      0.94      0.97        18\n",
      "\n",
      "   micro avg       0.91      0.95      0.93       178\n",
      "   macro avg       0.84      0.88      0.84       178\n",
      "weighted avg       0.93      0.95      0.93       178\n",
      "\n",
      "{'eval_loss': 0.1857178658246994, 'eval_precision': 0.9135135135135135, 'eval_recall': 0.949438202247191, 'eval_f1': 0.931129476584022, 'eval_accuracy': 0.9801118707271598, 'eval_runtime': 1.2474, 'eval_samples_per_second': 43.289, 'eval_steps_per_second': 11.223, 'epoch': 50.0}\n"
     ]
    },
    {
     "name": "stderr",
     "output_type": "stream",
     "text": [
      "100%|██████████| 2700/2700 [12:40<00:00,  5.34it/s]"
     ]
    },
    {
     "name": "stdout",
     "output_type": "stream",
     "text": [
      "{'train_runtime': 760.3166, 'train_samples_per_second': 14.205, 'train_steps_per_second': 3.551, 'train_loss': 0.12428200391293676, 'epoch': 50.0}\n"
     ]
    },
    {
     "name": "stderr",
     "output_type": "stream",
     "text": [
      "100%|██████████| 2700/2700 [12:40<00:00,  3.55it/s]\n"
     ]
    },
    {
     "data": {
      "text/plain": [
       "TrainOutput(global_step=2700, training_loss=0.12428200391293676, metrics={'train_runtime': 760.3166, 'train_samples_per_second': 14.205, 'train_steps_per_second': 3.551, 'total_flos': 358534639166760.0, 'train_loss': 0.12428200391293676, 'epoch': 50.0})"
      ]
     },
     "execution_count": 42,
     "metadata": {},
     "output_type": "execute_result"
    }
   ],
   "source": [
    "trainer.train()"
   ]
  },
  {
   "cell_type": "markdown",
   "metadata": {},
   "source": [
    "# **Result(batch 4, epoch 100, max_length 100)**"
   ]
  },
  {
   "cell_type": "markdown",
   "metadata": {},
   "source": [
    "\n",
    "             precision    recall  f1-score   support\n",
    "\n",
    "          AG       1.00      1.00      1.00         2\n",
    "          BP       0.67      0.60      0.63        10\n",
    "          CN       0.50      0.50      0.50         2\n",
    "          DP       0.75      0.75      0.75         8\n",
    "          EQ       1.00      0.60      0.75         5\n",
    "          GD       1.00      1.00      1.00         2\n",
    "          JB       0.86      1.00      0.92         6\n",
    "          LC       0.81      0.89      0.85        19\n",
    "          MC       1.00      1.00      1.00         1\n",
    "          NC       0.95      0.90      0.93        21\n",
    "          NM       0.93      1.00      0.97        28\n",
    "          PC       0.33      0.50      0.40         2\n",
    "          PS       1.00      1.00      1.00        35\n",
    "          QT       0.67      0.80      0.73         5\n",
    "          RL       0.75      0.60      0.67         5\n",
    "          TI       0.80      0.84      0.82        19\n",
    "\n",
    "   micro avg       0.87      0.88      0.87       170\n",
    "\n",
    "   macro avg       0.81      0.81      0.81       170\n",
    "   \n",
    "weighted avg       0.87      0.88      0.87       170\n",
    "\n",
    "\n",
    "{'eval_loss': 0.18080152571201324, 'eval_precision': 0.8670520231213873, 'eval_recall': 0.8823529411764706, 'eval_f1': 0.8746355685131196, 'eval_accuracy': 0.9728424864212432, 'eval_runtime': 1.3323, 'eval_samples_per_second': 40.531, 'eval_steps_per_second': 10.508, 'epoch': 100.0}\n"
   ]
  },
  {
   "cell_type": "markdown",
   "metadata": {},
   "source": [
    "# **Result(batch 4, epoch 100, max_length 512)**"
   ]
  },
  {
   "cell_type": "markdown",
   "metadata": {},
   "source": [
    "              precision    recall  f1-score   support\n",
    "\n",
    "          BP       0.50      0.67      0.57         3\n",
    "          CN       1.00      1.00      1.00         3\n",
    "          DP       0.90      0.90      0.90        10\n",
    "          EQ       0.00      0.00      0.00         0\n",
    "          JB       0.00      0.00      0.00         2\n",
    "          LC       0.58      0.70      0.64        20\n",
    "          MC       0.00      0.00      0.00         1\n",
    "          NC       0.88      0.88      0.88         8\n",
    "          NM       0.98      1.00      0.99        49\n",
    "          PC       0.50      1.00      0.67         1\n",
    "          PS       0.93      0.98      0.96        66\n",
    "          QT       0.50      0.50      0.50         4\n",
    "          RL       0.33      0.17      0.22         6\n",
    "          TI       0.72      0.68      0.70        19\n",
    "          \n",
    "\n",
    "   micro avg       0.84      0.86      0.85       192\n",
    "\n",
    "   macro avg       0.56      0.61      0.57       192\n",
    "   \n",
    "weighted avg       0.83      0.86      0.85       192"
   ]
  },
  {
   "cell_type": "markdown",
   "metadata": {},
   "source": [
    "# **Result(batch 1, epoch 100, max_length 512)**"
   ]
  },
  {
   "cell_type": "markdown",
   "metadata": {},
   "source": [
    "              precision    recall  f1-score   support\n",
    "\n",
    "          AG       1.00      1.00      1.00         3\n",
    "          BP       0.78      0.70      0.74        20\n",
    "          CN       1.00      1.00      1.00         1\n",
    "          DP       0.60      0.86      0.71         7\n",
    "          EQ       0.91      0.77      0.83        13\n",
    "          GD       0.60      0.60      0.60         5\n",
    "          JB       0.83      0.71      0.77         7\n",
    "          LC       0.76      0.93      0.83        27\n",
    "          MC       0.67      1.00      0.80         2\n",
    "          NC       0.82      0.88      0.85        32\n",
    "          NM       1.00      1.00      1.00        35\n",
    "          PC       0.33      0.33      0.33         3\n",
    "          PS       0.95      1.00      0.98        41\n",
    "          QT       1.00      1.00      1.00         8\n",
    "          RL       0.50      0.33      0.40         3\n",
    "          TI       0.60      0.62      0.61        24\n",
    "\n",
    "   micro avg       0.82      0.86      0.84       231\n",
    "\n",
    "   macro avg       0.77      0.80      0.78       231\n",
    "   \n",
    "weighted avg       0.83      0.86      0.84       231"
   ]
  },
  {
   "cell_type": "markdown",
   "metadata": {},
   "source": [
    "# **Result(batch 4, epoch 20, max_length 100)**"
   ]
  },
  {
   "cell_type": "markdown",
   "metadata": {},
   "source": [
    "            precision    recall  f1-score   support\n",
    "\n",
    "          AG       1.00      1.00      1.00         2\n",
    "          BP       1.00      1.00      1.00         5\n",
    "          CN       1.00      1.00      1.00         1\n",
    "          DP       0.56      0.71      0.63         7\n",
    "          EQ       1.00      1.00      1.00         3\n",
    "          GD       0.60      0.75      0.67         4\n",
    "          JB       0.50      0.67      0.57         3\n",
    "          LC       0.70      0.82      0.76        17\n",
    "          MC       1.00      1.00      1.00         1\n",
    "          NC       0.91      1.00      0.95        20\n",
    "          NM       0.94      0.97      0.95        30\n",
    "          PC       1.00      1.00      1.00         1\n",
    "          PS       1.00      1.00      1.00        36\n",
    "          QT       0.80      1.00      0.89         4\n",
    "          RL       1.00      0.33      0.50         3\n",
    "          TI       0.85      0.85      0.85        13\n",
    "\n",
    "   micro avg       0.87      0.92      0.89       150\n",
    "   macro avg       0.87      0.88      0.86       150\n",
    "weighted avg       0.88      0.92      0.89       150\n",
    "\n",
    "{'eval_loss': 0.12187973409891129, 'eval_precision': 0.8679245283018868, 'eval_recall': 0.92, 'eval_f1': 0.8932038834951457, 'eval_accuracy': 0.9761215629522432, 'eval_runtime': 1.233, 'eval_samples_per_second': 43.795, 'eval_steps_per_second': 11.354, 'epoch': 20.0}"
   ]
  },
  {
   "cell_type": "code",
   "execution_count": 43,
   "metadata": {
    "execution": {
     "iopub.execute_input": "2024-11-22T08:22:02.562926Z",
     "iopub.status.busy": "2024-11-22T08:22:02.562525Z",
     "iopub.status.idle": "2024-11-22T08:22:03.175863Z",
     "shell.execute_reply": "2024-11-22T08:22:03.175110Z",
     "shell.execute_reply.started": "2024-11-22T08:22:02.562890Z"
    },
    "trusted": true
   },
   "outputs": [],
   "source": [
    "fn_prefix = '.'.join([pretrained_model_name, \n",
    "                    f\"{config.n_epochs_per_fold}_epochs\", \n",
    "                    f\"{config.max_length}_length\",\n",
    "                    f\"{n_fold}_fold\", \n",
    "                    \"pth\"])\n",
    "model_fn = os.path.join(config.model_folder, fn_prefix)\n",
    "\n",
    "torch.save({\n",
    "    'rnn': None,\n",
    "    'cnn': None,\n",
    "    'bert': trainer.model.state_dict(),\n",
    "    'config': config,\n",
    "    'vocab': None,\n",
    "    'classes': index_to_label,\n",
    "    'pretrained_model_name': data_args['pretrained_model_name']\n",
    "}, model_fn)"
   ]
  },
  {
   "cell_type": "code",
   "execution_count": 44,
   "metadata": {
    "execution": {
     "iopub.execute_input": "2024-11-22T08:22:18.488717Z",
     "iopub.status.busy": "2024-11-22T08:22:18.488350Z",
     "iopub.status.idle": "2024-11-22T08:22:18.494838Z",
     "shell.execute_reply": "2024-11-22T08:22:18.493951Z",
     "shell.execute_reply.started": "2024-11-22T08:22:18.488686Z"
    },
    "trusted": true
   },
   "outputs": [
    {
     "data": {
      "text/plain": [
       "'models/klue_roberta-base.50_epochs.512_length.1_fold.pth'"
      ]
     },
     "execution_count": 44,
     "metadata": {},
     "output_type": "execute_result"
    }
   ],
   "source": [
    "model_fn"
   ]
  }
 ],
 "metadata": {
  "kaggle": {
   "accelerator": "gpu",
   "dataSources": [
    {
     "datasetId": 6132083,
     "sourceId": 9968012,
     "sourceType": "datasetVersion"
    }
   ],
   "dockerImageVersionId": 30787,
   "isGpuEnabled": true,
   "isInternetEnabled": true,
   "language": "python",
   "sourceType": "notebook"
  },
  "kernelspec": {
   "display_name": "Python 3",
   "language": "python",
   "name": "python3"
  },
  "language_info": {
   "codemirror_mode": {
    "name": "ipython",
    "version": 3
   },
   "file_extension": ".py",
   "mimetype": "text/x-python",
   "name": "python",
   "nbconvert_exporter": "python",
   "pygments_lexer": "ipython3",
   "version": "3.10.15"
  }
 },
 "nbformat": 4,
 "nbformat_minor": 4
}
