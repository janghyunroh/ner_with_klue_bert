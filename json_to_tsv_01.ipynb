{
 "cells": [
  {
   "cell_type": "code",
   "execution_count": 43,
   "metadata": {},
   "outputs": [],
   "source": [
    "import os\n",
    "import pickle\n",
    "import json\n",
    "import argparse\n",
    "\n",
    "from tqdm import tqdm\n",
    "import pandas as pd"
   ]
  },
  {
   "cell_type": "code",
   "execution_count": 44,
   "metadata": {},
   "outputs": [],
   "source": [
    "def define_argparser():\n",
    "    p = argparse.ArgumentParser()\n",
    "\n",
    "    p.add_argument(\n",
    "        '--load_path',\n",
    "        default = './data/json',\n",
    "        help=\"Path of file or directory to load original corpus.\"\n",
    "    )\n",
    "    p.add_argument(\n",
    "        '--save_path',\n",
    "        default = './data/raw',\n",
    "        help=\"Path to save data.\"\n",
    "    )\n",
    "    p.add_argument(\n",
    "        '--return_tsv',\n",
    "        default = True,\n",
    "        help=\"If not true, only pickle file will be saved.\"\n",
    "    )\n",
    "\n",
    "    config = p.parse_args(args=[])\n",
    "\n",
    "    return config"
   ]
  },
  {
   "cell_type": "code",
   "execution_count": 45,
   "metadata": {},
   "outputs": [],
   "source": [
    "config = define_argparser()"
   ]
  },
  {
   "cell_type": "code",
   "execution_count": 46,
   "metadata": {},
   "outputs": [],
   "source": [
    "def json_to_tsv(file: str):\n",
    "    cols = ['sentence_id', 'sentence', 'ne'] # 데이터 프레임 생성\n",
    "    df = pd.DataFrame(columns=cols) # 데이터 프레임 생성\n",
    "    id = 0\n",
    "\n",
    "    with open(file) as f:\n",
    "        DATA = json.loads(f.read()) # 파일을 열어서\n",
    "\n",
    "    ne = []\n",
    "\n",
    "    for i in range(0, len(DATA['annotations'])):\n",
    "        if DATA['annotations'][i] == None:\n",
    "            continue\n",
    "        else:\n",
    "            # print(DATA['annotations'][i][0])\n",
    "            df.loc[id, 'sentence'] = DATA['annotations'][i][0]\n",
    "            # print(DATA['annotations'][i][1]['entities'])\n",
    "            # for entity in DATA['annotations'][i][1]['entities']:\n",
    "            #     print(entity)\n",
    "\n",
    "            # 엔티티 정보를 딕셔너리로 변환\n",
    "            entity_dict = {}\n",
    "            for index, (start, end, label) in enumerate(DATA['annotations'][i][1]['entities'], 1):\n",
    "                # 문자열 슬라이싱을 사용하여 형태소 'form' 추출\n",
    "                form = DATA['annotations'][i][0][start:end]\n",
    "                entity_dict[index] = {\n",
    "                    'form': form,\n",
    "                    'label': label,\n",
    "                    'begin': start,\n",
    "                    'end': end\n",
    "                }\n",
    "            # print(entity_dict)\n",
    "            ne.append(entity_dict)\n",
    "            id += 1\n",
    "    df['ne'] = ne\n",
    "\n",
    "    return df"
   ]
  },
  {
   "cell_type": "code",
   "execution_count": 47,
   "metadata": {},
   "outputs": [
    {
     "name": "stdout",
     "output_type": "stream",
     "text": [
      "load_path: ./data/json\n",
      "save_fn: ./data/raw/json\n"
     ]
    }
   ],
   "source": [
    "load_path = config.load_path # json 파일이 담긴 폴더 혹은 파일 그 자체\n",
    "fn = os.path.split(config.load_path)[1] # config.load_path에서 파일명만 분리하여 fn 변수에 할당합니다. os.path.split() 함수는 경로를 디렉토리 부분과 파일명 부분으로 나눕니다. 이 중 파일명 부분만을 fn에 저장합니다.\n",
    "if fn.rfind(\".\") > 0: # 파일명 fn에서 확장자를 제거합니다. rfind(\".\")는 파일명에서 마지막으로 나타나는 .의 위치를 찾습니다. 만약 .이 발견되면, 파일명에서 그 위치까지를 잘라서 확장자 없는 파일명을 fn으로 저장합니다.\n",
    "    fn = fn[:fn.rfind(\".\")]\n",
    "save_fn = os.path.join(config.save_path, fn) # 변환된 데이터의 결과물을 저장할 경로를 save_fn 변수에 할당합니다. config.save_path에 지정된 디렉토리 경로와 앞에서 만든 파일명 fn을 합쳐서 저장합니다.\n",
    "\n",
    "print(f'load_path: {load_path}')\n",
    "print(f'save_fn: {save_fn}')"
   ]
  },
  {
   "cell_type": "code",
   "execution_count": 48,
   "metadata": {},
   "outputs": [
    {
     "name": "stderr",
     "output_type": "stream",
     "text": [
      "100%|██████████| 10/10 [00:00<00:00, 207.65it/s]\n"
     ]
    }
   ],
   "source": [
    "if os.path.isdir(load_path): # load_path가 디렉토리인지 확인합니다. 만약 디렉토리라면 그 안에 있는 모든 파일을 반복적으로 처리합니다.\n",
    "# os.listdir(load_path)는 load_path 디렉토리 안의 모든 파일 목록을 반환합니다.\n",
    "    dfs = []\n",
    "    for file in tqdm(os.listdir(load_path)): # tqdm을 사용해 파일 목록을 처리하면서 진행 상태를 시각적으로 표시합니다.\n",
    "        df = json_to_tsv(os.path.join(load_path, file))\n",
    "        dfs.append(df)\n",
    "        # 각 파일을 json_to_tsv() 함수로 읽어들여, 그 결과를 데이터프레임 df로 변환한 뒤 dfs 리스트에 추가합니다.\n",
    "    data = pd.concat(dfs) # 모든 파일의 데이터프레임을 pd.concat(dfs)로 하나의 데이터프레임 data로 결합합니다.\n",
    "else:\n",
    "    data = json_to_tsv(load_path) # 만약 load_path가 파일이라면, 단일 파일을 json_to_tsv() 함수로 처리해 data에 할당합니다."
   ]
  },
  {
   "cell_type": "code",
   "execution_count": 49,
   "metadata": {},
   "outputs": [
    {
     "data": {
      "text/html": [
       "<div>\n",
       "<style scoped>\n",
       "    .dataframe tbody tr th:only-of-type {\n",
       "        vertical-align: middle;\n",
       "    }\n",
       "\n",
       "    .dataframe tbody tr th {\n",
       "        vertical-align: top;\n",
       "    }\n",
       "\n",
       "    .dataframe thead th {\n",
       "        text-align: right;\n",
       "    }\n",
       "</style>\n",
       "<table border=\"1\" class=\"dataframe\">\n",
       "  <thead>\n",
       "    <tr style=\"text-align: right;\">\n",
       "      <th></th>\n",
       "      <th>sentence_id</th>\n",
       "      <th>sentence</th>\n",
       "      <th>ne</th>\n",
       "    </tr>\n",
       "  </thead>\n",
       "  <tbody>\n",
       "    <tr>\n",
       "      <th>0</th>\n",
       "      <td>NaN</td>\n",
       "      <td>근거가 없을 뿐만 아니라 이러한 연차휴가근로수당이라는 것은 근로기준법에서 특별히 정...</td>\n",
       "      <td>{}</td>\n",
       "    </tr>\n",
       "    <tr>\n",
       "      <th>1</th>\n",
       "      <td>NaN</td>\n",
       "      <td>\"한편 \"\"IVY\"\"는 \"\"담쟁이 덩굴\"\"을 뜻하는 것으로서 \"\"HOUSE\"\"를 단...</td>\n",
       "      <td>{}</td>\n",
       "    </tr>\n",
       "    <tr>\n",
       "      <th>2</th>\n",
       "      <td>NaN</td>\n",
       "      <td>\"한편 \"\"IVY\"\"는 \"\"담쟁이 덩굴\"\"을 뜻하는 것으로서 위와 같이 포괄적,일반...</td>\n",
       "      <td>{}</td>\n",
       "    </tr>\n",
       "    <tr>\n",
       "      <th>3</th>\n",
       "      <td>NaN</td>\n",
       "      <td>피고법인이 설치하여 운영하는 목원대학의 법학과에 입학하여 1987학년도 1학기(4학...</td>\n",
       "      <td>{1: {'form': '피고법인', 'label': 'PS_ASSAILANT', ...</td>\n",
       "    </tr>\n",
       "    <tr>\n",
       "      <th>4</th>\n",
       "      <td>NaN</td>\n",
       "      <td>1이 담당교수과목인 민사연습과 법학특강(각 3학점)을 비롯한 4과목(합계 12학점)...</td>\n",
       "      <td>{1: {'form': '3학점', 'label': 'QT_SCORE', 'begi...</td>\n",
       "    </tr>\n",
       "    <tr>\n",
       "      <th>...</th>\n",
       "      <td>...</td>\n",
       "      <td>...</td>\n",
       "      <td>...</td>\n",
       "    </tr>\n",
       "    <tr>\n",
       "      <th>13</th>\n",
       "      <td>NaN</td>\n",
       "      <td>제관원으로 각 입사하여 피고 양회 동해공장 기계과 소속으로 시멘트 제조기계의 보수 ...</td>\n",
       "      <td>{1: {'form': '제관원', 'label': 'JB', 'begin': 0,...</td>\n",
       "    </tr>\n",
       "    <tr>\n",
       "      <th>14</th>\n",
       "      <td>NaN</td>\n",
       "      <td>내게 되어 그 충격으로 협착된 경추내 신경에 손상이 감으로써 팔다리가 마비되는 부상...</td>\n",
       "      <td>{1: {'form': '협착된 경추내 신경에 손상이 감', 'label': 'PC...</td>\n",
       "    </tr>\n",
       "    <tr>\n",
       "      <th>15</th>\n",
       "      <td>NaN</td>\n",
       "      <td>건물의 콘크리트 벽을 들이 받는 사고를 일으켜 그 충격으로 팔다리가 마비되는 부상(...</td>\n",
       "      <td>{1: {'form': '건물의 콘크리트 벽', 'label': 'LC_OTHER_...</td>\n",
       "    </tr>\n",
       "    <tr>\n",
       "      <th>16</th>\n",
       "      <td>NaN</td>\n",
       "      <td>길이 3센티미터, 왼쪽 가슴 부분에 길이 6센티미터의 상처가 나도록 찔렀고 그 가슴...</td>\n",
       "      <td>{1: {'form': '왼쪽 가슴 부분', 'label': 'BP', 'begin...</td>\n",
       "    </tr>\n",
       "    <tr>\n",
       "      <th>17</th>\n",
       "      <td>NaN</td>\n",
       "      <td>피고 법인 산하 사립학교인 동국대학교 법정대학 행정학과 교수로 채용되어 근무하던 중...</td>\n",
       "      <td>{1: {'form': '피고 법인', 'label': 'PS_ASSAILANT',...</td>\n",
       "    </tr>\n",
       "  </tbody>\n",
       "</table>\n",
       "<p>200 rows × 3 columns</p>\n",
       "</div>"
      ],
      "text/plain": [
       "   sentence_id                                           sentence  \\\n",
       "0          NaN  근거가 없을 뿐만 아니라 이러한 연차휴가근로수당이라는 것은 근로기준법에서 특별히 정...   \n",
       "1          NaN  \"한편 \"\"IVY\"\"는 \"\"담쟁이 덩굴\"\"을 뜻하는 것으로서 \"\"HOUSE\"\"를 단...   \n",
       "2          NaN  \"한편 \"\"IVY\"\"는 \"\"담쟁이 덩굴\"\"을 뜻하는 것으로서 위와 같이 포괄적,일반...   \n",
       "3          NaN  피고법인이 설치하여 운영하는 목원대학의 법학과에 입학하여 1987학년도 1학기(4학...   \n",
       "4          NaN  1이 담당교수과목인 민사연습과 법학특강(각 3학점)을 비롯한 4과목(합계 12학점)...   \n",
       "..         ...                                                ...   \n",
       "13         NaN  제관원으로 각 입사하여 피고 양회 동해공장 기계과 소속으로 시멘트 제조기계의 보수 ...   \n",
       "14         NaN  내게 되어 그 충격으로 협착된 경추내 신경에 손상이 감으로써 팔다리가 마비되는 부상...   \n",
       "15         NaN  건물의 콘크리트 벽을 들이 받는 사고를 일으켜 그 충격으로 팔다리가 마비되는 부상(...   \n",
       "16         NaN  길이 3센티미터, 왼쪽 가슴 부분에 길이 6센티미터의 상처가 나도록 찔렀고 그 가슴...   \n",
       "17         NaN  피고 법인 산하 사립학교인 동국대학교 법정대학 행정학과 교수로 채용되어 근무하던 중...   \n",
       "\n",
       "                                                   ne  \n",
       "0                                                  {}  \n",
       "1                                                  {}  \n",
       "2                                                  {}  \n",
       "3   {1: {'form': '피고법인', 'label': 'PS_ASSAILANT', ...  \n",
       "4   {1: {'form': '3학점', 'label': 'QT_SCORE', 'begi...  \n",
       "..                                                ...  \n",
       "13  {1: {'form': '제관원', 'label': 'JB', 'begin': 0,...  \n",
       "14  {1: {'form': '협착된 경추내 신경에 손상이 감', 'label': 'PC...  \n",
       "15  {1: {'form': '건물의 콘크리트 벽', 'label': 'LC_OTHER_...  \n",
       "16  {1: {'form': '왼쪽 가슴 부분', 'label': 'BP', 'begin...  \n",
       "17  {1: {'form': '피고 법인', 'label': 'PS_ASSAILANT',...  \n",
       "\n",
       "[200 rows x 3 columns]"
      ]
     },
     "execution_count": 49,
     "metadata": {},
     "output_type": "execute_result"
    }
   ],
   "source": [
    "data"
   ]
  },
  {
   "cell_type": "code",
   "execution_count": 50,
   "metadata": {},
   "outputs": [],
   "source": [
    "with open(save_fn+'.pickle', \"wb\") as f: # 변환된 데이터를 피클(pickle) 파일로 저장합니다. 파일명은 save_fn에 .pickle 확장자를 붙인 것입니다. \n",
    "    pickle.dump(data, f, protocol=pickle.HIGHEST_PROTOCOL)\n",
    "    # pickle.dump() 함수는 데이터를 피클 형식으로 직렬화하고, protocol=pickle.HIGHEST_PROTOCOL을 사용해 가능한 최고의 프로토콜을 사용하여 저장합니다.\n",
    "\n",
    "if config.return_tsv: # config.return_tsv가 True인 경우, 데이터프레임 data를 TSV 파일로 저장합니다.\n",
    "    data.to_csv(save_fn+'.tsv', sep='\\t', index=False)\n",
    "    # 파일명은 save_fn에 .tsv 확장자를 붙인 것이며, 탭(\\t)으로 구분된 형식으로 저장됩니다.\n",
    "    # index=False로 설정하여, 데이터프레임의 인덱스는 파일에 포함되지 않도록 합니다."
   ]
  }
 ],
 "metadata": {
  "kernelspec": {
   "display_name": "crf-ner",
   "language": "python",
   "name": "python3"
  },
  "language_info": {
   "codemirror_mode": {
    "name": "ipython",
    "version": 3
   },
   "file_extension": ".py",
   "mimetype": "text/x-python",
   "name": "python",
   "nbconvert_exporter": "python",
   "pygments_lexer": "ipython3",
   "version": "3.8.19"
  },
  "pycharm": {
   "stem_cell": {
    "cell_type": "raw",
    "metadata": {
     "collapsed": false
    },
    "source": []
   }
  }
 },
 "nbformat": 4,
 "nbformat_minor": 2
}
