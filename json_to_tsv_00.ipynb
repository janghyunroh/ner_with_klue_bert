{
 "cells": [
  {
   "cell_type": "code",
   "execution_count": 98,
   "metadata": {},
   "outputs": [],
   "source": [
    "import os\n",
    "import pickle\n",
    "import json\n",
    "import argparse\n",
    "\n",
    "from tqdm import tqdm\n",
    "import pandas as pd"
   ]
  },
  {
   "cell_type": "code",
   "execution_count": 99,
   "metadata": {},
   "outputs": [],
   "source": [
    "def define_argparser():\n",
    "    p = argparse.ArgumentParser()\n",
    "\n",
    "    p.add_argument(\n",
    "        '--load_path',\n",
    "        default = './data/json',\n",
    "        help=\"Path of file or directory to load original corpus.\"\n",
    "    )\n",
    "    p.add_argument(\n",
    "        '--save_path',\n",
    "        default = './data/raw',\n",
    "        help=\"Path to save data.\"\n",
    "    )\n",
    "    p.add_argument(\n",
    "        '--return_tsv',\n",
    "        action='store_true',\n",
    "        help=\"If not true, only pickle file will be saved.\"\n",
    "    )\n",
    "\n",
    "    config = p.parse_args(args=[])\n",
    "\n",
    "    return config"
   ]
  },
  {
   "cell_type": "code",
   "execution_count": 100,
   "metadata": {},
   "outputs": [],
   "source": [
    "config = define_argparser()"
   ]
  },
  {
   "cell_type": "code",
   "execution_count": 101,
   "metadata": {},
   "outputs": [],
   "source": [
    "file = './data/json/split_file_part001.json'\n",
    "cols = ['sentence_id', 'sentence', 'ne'] # 데이터 프레임 생성\n",
    "df = pd.DataFrame(columns=cols) # 데이터 프레임 생성\n",
    "id = 0\n",
    "\n",
    "with open(file) as f:\n",
    "    DATA = json.loads(f.read()) # 파일을 열어서"
   ]
  },
  {
   "cell_type": "code",
   "execution_count": 102,
   "metadata": {},
   "outputs": [
    {
     "data": {
      "text/plain": [
       "{'entities': [[30, 32, 'PC'], [35, 37, 'PC'], [49, 52, 'PC']]}"
      ]
     },
     "execution_count": 102,
     "metadata": {},
     "output_type": "execute_result"
    }
   ],
   "source": [
    "DATA['annotations'][3][1]"
   ]
  },
  {
   "cell_type": "code",
   "execution_count": 103,
   "metadata": {},
   "outputs": [],
   "source": [
    "ne = []\n",
    "\n",
    "for i in range(0, len(DATA['annotations'])):\n",
    "\n",
    "    if DATA['annotations'][i] == None:\n",
    "        continue\n",
    "    else:\n",
    "        # print(DATA['annotations'][i][0])\n",
    "        df.loc[id, 'sentence'] = DATA['annotations'][i][0]\n",
    "        # print(DATA['annotations'][i][1]['entities'])\n",
    "\n",
    "        # for entity in DATA['annotations'][i][1]['entities']:\n",
    "        #     print(entity)\n",
    "\n",
    "        # 엔티티 정보를 딕셔너리로 변환\n",
    "        entity_dict = {}\n",
    "        for index, (start, end, label) in enumerate(DATA['annotations'][i][1]['entities'], 1):\n",
    "            # 문자열 슬라이싱을 사용하여 형태소 'form' 추출\n",
    "            form = DATA['annotations'][i][0][start:end]\n",
    "            entity_dict[index] = {\n",
    "                'form': form,\n",
    "                'label': label,\n",
    "                'begin': start,\n",
    "                'end': end\n",
    "            }\n",
    "        # print(entity_dict)\n",
    "        ne.append(entity_dict)\n",
    "        id += 1\n",
    "\n",
    "df['ne'] = ne"
   ]
  },
  {
   "cell_type": "code",
   "execution_count": 104,
   "metadata": {},
   "outputs": [
    {
     "data": {
      "text/plain": [
       "18"
      ]
     },
     "execution_count": 104,
     "metadata": {},
     "output_type": "execute_result"
    }
   ],
   "source": [
    "len(ne)"
   ]
  },
  {
   "cell_type": "code",
   "execution_count": 105,
   "metadata": {},
   "outputs": [
    {
     "data": {
      "text/html": [
       "<div>\n",
       "<style scoped>\n",
       "    .dataframe tbody tr th:only-of-type {\n",
       "        vertical-align: middle;\n",
       "    }\n",
       "\n",
       "    .dataframe tbody tr th {\n",
       "        vertical-align: top;\n",
       "    }\n",
       "\n",
       "    .dataframe thead th {\n",
       "        text-align: right;\n",
       "    }\n",
       "</style>\n",
       "<table border=\"1\" class=\"dataframe\">\n",
       "  <thead>\n",
       "    <tr style=\"text-align: right;\">\n",
       "      <th></th>\n",
       "      <th>sentence_id</th>\n",
       "      <th>sentence</th>\n",
       "      <th>ne</th>\n",
       "    </tr>\n",
       "  </thead>\n",
       "  <tbody>\n",
       "    <tr>\n",
       "      <th>0</th>\n",
       "      <td>NaN</td>\n",
       "      <td>광주대단지사업의 기본계획에 의하면 시장부지는 최소한 1,000평 이상을 요하는 것으...</td>\n",
       "      <td>{1: {'form': '시장부지', 'label': 'LC_OTHER_FACILI...</td>\n",
       "    </tr>\n",
       "    <tr>\n",
       "      <th>1</th>\n",
       "      <td>NaN</td>\n",
       "      <td>이어서 담당의사가 원고에 대하여 흉부단순촬영을 시행하여 보았으나 그 진단소견으로는 ...</td>\n",
       "      <td>{1: {'form': '담당의사', 'label': 'RL', 'begin': 4...</td>\n",
       "    </tr>\n",
       "    <tr>\n",
       "      <th>2</th>\n",
       "      <td>NaN</td>\n",
       "      <td>한편, 개심술 후의 뇌손상의 원인으로는 색전증과 뇌허혈이 양대원인을 이루고 있는데 ...</td>\n",
       "      <td>{1: {'form': '뇌손상', 'label': 'PC', 'begin': 11...</td>\n",
       "    </tr>\n",
       "    <tr>\n",
       "      <th>3</th>\n",
       "      <td>NaN</td>\n",
       "      <td>(바) 심장수술에 대한 임상의학의 실태 심장수술은 ① 구명이나 근치 ② 증상의 개선...</td>\n",
       "      <td>{1: {'form': '구명', 'label': 'PC', 'begin': 30,...</td>\n",
       "    </tr>\n",
       "    <tr>\n",
       "      <th>4</th>\n",
       "      <td>NaN</td>\n",
       "      <td>위 인정사실에 아울러 앞에서 인정한 심장수술에 대한 임상의학의 실태와 원고의 심장 ...</td>\n",
       "      <td>{1: {'form': '원고', 'label': 'PS_VICTIM', 'begi...</td>\n",
       "    </tr>\n",
       "    <tr>\n",
       "      <th>5</th>\n",
       "      <td>NaN</td>\n",
       "      <td>원고의 심장질환의 증상정도가 근치수술로서 개심수술이 필요한 상태라고 판단하고 원고의...</td>\n",
       "      <td>{1: {'form': '원고', 'label': 'PS_VICTIM', 'begi...</td>\n",
       "    </tr>\n",
       "    <tr>\n",
       "      <th>6</th>\n",
       "      <td>NaN</td>\n",
       "      <td>정도인 사실은 앞서 인정한 바와 같으나, 원고에게 시행된 이 사건 심장수술과 유사한...</td>\n",
       "      <td>{1: {'form': '원고', 'label': 'PS_VICTIM', 'begi...</td>\n",
       "    </tr>\n",
       "    <tr>\n",
       "      <th>7</th>\n",
       "      <td>NaN</td>\n",
       "      <td>05:00경 위 김수현이 원고가 위 문용식과의 관계에 대하여 다시 부인한다는 이유로...</td>\n",
       "      <td>{1: {'form': '05:00경', 'label': 'TI_TIME', 'be...</td>\n",
       "    </tr>\n",
       "    <tr>\n",
       "      <th>8</th>\n",
       "      <td>NaN</td>\n",
       "      <td>1. 초순경에 이르러 위 고문으로 인한 발뒷꿈치 상처가 아물어 그 상처딱지가 떨어지...</td>\n",
       "      <td>{1: {'form': '초순경', 'label': 'TI_DURATION', 'b...</td>\n",
       "    </tr>\n",
       "    <tr>\n",
       "      <th>9</th>\n",
       "      <td>NaN</td>\n",
       "      <td>요추부 부분의 부전강직이 남게 되었다.</td>\n",
       "      <td>{1: {'form': '요추부 부분', 'label': 'BP', 'begin':...</td>\n",
       "    </tr>\n",
       "    <tr>\n",
       "      <th>10</th>\n",
       "      <td>NaN</td>\n",
       "      <td>시행한 유합술로 인한 흉추 및 요추부 운동장애 맥브라이드 불구평가표상 장해등급 : ...</td>\n",
       "      <td>{1: {'form': '흉추', 'label': 'BP', 'begin': 12,...</td>\n",
       "    </tr>\n",
       "    <tr>\n",
       "      <th>11</th>\n",
       "      <td>NaN</td>\n",
       "      <td>위 망 소외 1이 원고 주장과 같이 탱자나무 울타리를 조성한 다음 위 망 소외 2에...</td>\n",
       "      <td>{1: {'form': '위 망 소외 1', 'label': 'RL', 'begin...</td>\n",
       "    </tr>\n",
       "    <tr>\n",
       "      <th>12</th>\n",
       "      <td>NaN</td>\n",
       "      <td>생각컨대, 원심판시와 같이 망 소외 1이 사실상 경계인 탱자나무 울타리를 경계로 하...</td>\n",
       "      <td>{1: {'form': '망 소외 1', 'label': 'RL', 'begin':...</td>\n",
       "    </tr>\n",
       "    <tr>\n",
       "      <th>13</th>\n",
       "      <td>NaN</td>\n",
       "      <td>제관원으로 각 입사하여 피고 양회 동해공장 기계과 소속으로 시멘트 제조기계의 보수 ...</td>\n",
       "      <td>{1: {'form': '제관원', 'label': 'JB', 'begin': 0,...</td>\n",
       "    </tr>\n",
       "    <tr>\n",
       "      <th>14</th>\n",
       "      <td>NaN</td>\n",
       "      <td>내게 되어 그 충격으로 협착된 경추내 신경에 손상이 감으로써 팔다리가 마비되는 부상...</td>\n",
       "      <td>{1: {'form': '협착된 경추내 신경에 손상이 감', 'label': 'PC...</td>\n",
       "    </tr>\n",
       "    <tr>\n",
       "      <th>15</th>\n",
       "      <td>NaN</td>\n",
       "      <td>건물의 콘크리트 벽을 들이 받는 사고를 일으켜 그 충격으로 팔다리가 마비되는 부상(...</td>\n",
       "      <td>{1: {'form': '건물의 콘크리트 벽', 'label': 'LC_OTHER_...</td>\n",
       "    </tr>\n",
       "    <tr>\n",
       "      <th>16</th>\n",
       "      <td>NaN</td>\n",
       "      <td>길이 3센티미터, 왼쪽 가슴 부분에 길이 6센티미터의 상처가 나도록 찔렀고 그 가슴...</td>\n",
       "      <td>{1: {'form': '왼쪽 가슴 부분', 'label': 'BP', 'begin...</td>\n",
       "    </tr>\n",
       "    <tr>\n",
       "      <th>17</th>\n",
       "      <td>NaN</td>\n",
       "      <td>피고 법인 산하 사립학교인 동국대학교 법정대학 행정학과 교수로 채용되어 근무하던 중...</td>\n",
       "      <td>{1: {'form': '피고 법인', 'label': 'PS_ASSAILANT',...</td>\n",
       "    </tr>\n",
       "  </tbody>\n",
       "</table>\n",
       "</div>"
      ],
      "text/plain": [
       "   sentence_id                                           sentence  \\\n",
       "0          NaN  광주대단지사업의 기본계획에 의하면 시장부지는 최소한 1,000평 이상을 요하는 것으...   \n",
       "1          NaN  이어서 담당의사가 원고에 대하여 흉부단순촬영을 시행하여 보았으나 그 진단소견으로는 ...   \n",
       "2          NaN  한편, 개심술 후의 뇌손상의 원인으로는 색전증과 뇌허혈이 양대원인을 이루고 있는데 ...   \n",
       "3          NaN  (바) 심장수술에 대한 임상의학의 실태 심장수술은 ① 구명이나 근치 ② 증상의 개선...   \n",
       "4          NaN  위 인정사실에 아울러 앞에서 인정한 심장수술에 대한 임상의학의 실태와 원고의 심장 ...   \n",
       "5          NaN  원고의 심장질환의 증상정도가 근치수술로서 개심수술이 필요한 상태라고 판단하고 원고의...   \n",
       "6          NaN  정도인 사실은 앞서 인정한 바와 같으나, 원고에게 시행된 이 사건 심장수술과 유사한...   \n",
       "7          NaN  05:00경 위 김수현이 원고가 위 문용식과의 관계에 대하여 다시 부인한다는 이유로...   \n",
       "8          NaN  1. 초순경에 이르러 위 고문으로 인한 발뒷꿈치 상처가 아물어 그 상처딱지가 떨어지...   \n",
       "9          NaN                              요추부 부분의 부전강직이 남게 되었다.   \n",
       "10         NaN  시행한 유합술로 인한 흉추 및 요추부 운동장애 맥브라이드 불구평가표상 장해등급 : ...   \n",
       "11         NaN  위 망 소외 1이 원고 주장과 같이 탱자나무 울타리를 조성한 다음 위 망 소외 2에...   \n",
       "12         NaN  생각컨대, 원심판시와 같이 망 소외 1이 사실상 경계인 탱자나무 울타리를 경계로 하...   \n",
       "13         NaN  제관원으로 각 입사하여 피고 양회 동해공장 기계과 소속으로 시멘트 제조기계의 보수 ...   \n",
       "14         NaN  내게 되어 그 충격으로 협착된 경추내 신경에 손상이 감으로써 팔다리가 마비되는 부상...   \n",
       "15         NaN  건물의 콘크리트 벽을 들이 받는 사고를 일으켜 그 충격으로 팔다리가 마비되는 부상(...   \n",
       "16         NaN  길이 3센티미터, 왼쪽 가슴 부분에 길이 6센티미터의 상처가 나도록 찔렀고 그 가슴...   \n",
       "17         NaN  피고 법인 산하 사립학교인 동국대학교 법정대학 행정학과 교수로 채용되어 근무하던 중...   \n",
       "\n",
       "                                                   ne  \n",
       "0   {1: {'form': '시장부지', 'label': 'LC_OTHER_FACILI...  \n",
       "1   {1: {'form': '담당의사', 'label': 'RL', 'begin': 4...  \n",
       "2   {1: {'form': '뇌손상', 'label': 'PC', 'begin': 11...  \n",
       "3   {1: {'form': '구명', 'label': 'PC', 'begin': 30,...  \n",
       "4   {1: {'form': '원고', 'label': 'PS_VICTIM', 'begi...  \n",
       "5   {1: {'form': '원고', 'label': 'PS_VICTIM', 'begi...  \n",
       "6   {1: {'form': '원고', 'label': 'PS_VICTIM', 'begi...  \n",
       "7   {1: {'form': '05:00경', 'label': 'TI_TIME', 'be...  \n",
       "8   {1: {'form': '초순경', 'label': 'TI_DURATION', 'b...  \n",
       "9   {1: {'form': '요추부 부분', 'label': 'BP', 'begin':...  \n",
       "10  {1: {'form': '흉추', 'label': 'BP', 'begin': 12,...  \n",
       "11  {1: {'form': '위 망 소외 1', 'label': 'RL', 'begin...  \n",
       "12  {1: {'form': '망 소외 1', 'label': 'RL', 'begin':...  \n",
       "13  {1: {'form': '제관원', 'label': 'JB', 'begin': 0,...  \n",
       "14  {1: {'form': '협착된 경추내 신경에 손상이 감', 'label': 'PC...  \n",
       "15  {1: {'form': '건물의 콘크리트 벽', 'label': 'LC_OTHER_...  \n",
       "16  {1: {'form': '왼쪽 가슴 부분', 'label': 'BP', 'begin...  \n",
       "17  {1: {'form': '피고 법인', 'label': 'PS_ASSAILANT',...  "
      ]
     },
     "execution_count": 105,
     "metadata": {},
     "output_type": "execute_result"
    }
   ],
   "source": [
    "df"
   ]
  },
  {
   "cell_type": "code",
   "execution_count": 46,
   "metadata": {},
   "outputs": [
    {
     "ename": "ValueError",
     "evalue": "too many values to unpack (expected 2)",
     "output_type": "error",
     "traceback": [
      "\u001b[0;31m---------------------------------------------------------------------------\u001b[0m",
      "\u001b[0;31mValueError\u001b[0m                                Traceback (most recent call last)",
      "Cell \u001b[0;32mIn[46], line 3\u001b[0m\n\u001b[1;32m      1\u001b[0m \u001b[38;5;66;03m# 문장과 엔티티 정보 추출 및 변환\u001b[39;00m\n\u001b[1;32m      2\u001b[0m extracted_entities \u001b[38;5;241m=\u001b[39m {}\n\u001b[0;32m----> 3\u001b[0m \u001b[38;5;28;01mfor\u001b[39;00m index, (sentence, annotation) \u001b[38;5;129;01min\u001b[39;00m \u001b[38;5;28menumerate\u001b[39m(DATA, \u001b[38;5;241m1\u001b[39m):\n\u001b[1;32m      4\u001b[0m     entity_dict \u001b[38;5;241m=\u001b[39m {}\n\u001b[1;32m      5\u001b[0m     \u001b[38;5;28;01mfor\u001b[39;00m entity_id, entity \u001b[38;5;129;01min\u001b[39;00m \u001b[38;5;28menumerate\u001b[39m(annotation[\u001b[38;5;124m'\u001b[39m\u001b[38;5;124mentities\u001b[39m\u001b[38;5;124m'\u001b[39m], \u001b[38;5;241m1\u001b[39m):\n",
      "\u001b[0;31mValueError\u001b[0m: too many values to unpack (expected 2)"
     ]
    }
   ],
   "source": [
    "# 문장과 엔티티 정보 추출 및 변환\n",
    "extracted_entities = {}\n",
    "for index, (sentence, annotation) in enumerate(DATA, 1):\n",
    "    entity_dict = {}\n",
    "    for entity_id, entity in enumerate(annotation['entities'], 1):\n",
    "        entity_dict[entity_id] = {\n",
    "            'form': entity['form'],\n",
    "            'label': entity['label'],\n",
    "            'begin': entity['begin'],\n",
    "            'end': entity['end']\n",
    "        }\n",
    "    extracted_entities[index] = entity_dict"
   ]
  },
  {
   "cell_type": "code",
   "execution_count": 27,
   "metadata": {},
   "outputs": [],
   "source": [
    "def json_to_tsv(file: str):\n",
    "    cols = ['sentence_id', 'sentence', 'ne'] # 데이터 프레임 생성\n",
    "    df = pd.DataFrame(columns=cols) # 데이터 프레임 생성\n",
    "    id = 0\n",
    "\n",
    "    with open(file) as f:\n",
    "        DATA = json.loads(f.read()) # 파일을 열어서\n",
    "\n",
    "    # ne = [] # 이중 딕셔너리는 for 문을 돌면서 데이터 프레임에 추가하기 까다롭기 때문에, 전부 리스트에 옮긴 뒤 한 번에 저장한다.\n",
    "    # for document in tqdm(DATA['document']):\n",
    "    #     for sentence in document['sentence']:\n",
    "    #         df.loc[id, 'sentence_id'] = sentence['id'] # sentence_id는 이 문장의 출처와 일련번호를 담고 있다.\n",
    "    #         df.loc[id, 'sentence'] = sentence['form'] # 문장 전체\n",
    "    #         labels = dict() # \n",
    "    #         for entity in sentence['NE']: # 일련의 엔티티가 \n",
    "    #             key = entity['id'] # entity['id']는 1, 2, 3, 4 ... 이렇게 증가\n",
    "    #             entity.pop('id') # 이것을 삭제하고\n",
    "    #             labels[key] = entity # {1: entity}\n",
    "    #         ne.append(labels) # 번호와 엔티티가 짝지어진 딕셔너리를 en 리스트에 하나씩 추가\n",
    "    #         id += 1 # id를 하나 증가\n",
    "    # df['ne'] = ne # 각각의 엔티티를 데이터 프레임에 한 번에 추가\n",
    "    \n",
    "    return df"
   ]
  },
  {
   "cell_type": "code",
   "execution_count": 28,
   "metadata": {},
   "outputs": [
    {
     "name": "stdout",
     "output_type": "stream",
     "text": [
      "load_path: ./data/json\n",
      "save_fn: ./data/raw/json\n"
     ]
    }
   ],
   "source": [
    "load_path = config.load_path # json 파일이 담긴 폴더 혹은 파일 그 자체\n",
    "fn = os.path.split(config.load_path)[1] # config.load_path에서 파일명만 분리하여 fn 변수에 할당합니다. os.path.split() 함수는 경로를 디렉토리 부분과 파일명 부분으로 나눕니다. 이 중 파일명 부분만을 fn에 저장합니다.\n",
    "if fn.rfind(\".\") > 0: # 파일명 fn에서 확장자를 제거합니다. rfind(\".\")는 파일명에서 마지막으로 나타나는 .의 위치를 찾습니다. 만약 .이 발견되면, 파일명에서 그 위치까지를 잘라서 확장자 없는 파일명을 fn으로 저장합니다.\n",
    "    fn = fn[:fn.rfind(\".\")]\n",
    "save_fn = os.path.join(config.save_path, fn) # 변환된 데이터의 결과물을 저장할 경로를 save_fn 변수에 할당합니다. config.save_path에 지정된 디렉토리 경로와 앞에서 만든 파일명 fn을 합쳐서 저장합니다.\n",
    "\n",
    "print(f'load_path: {load_path}')\n",
    "print(f'save_fn: {save_fn}')"
   ]
  },
  {
   "cell_type": "code",
   "execution_count": 29,
   "metadata": {},
   "outputs": [
    {
     "name": "stderr",
     "output_type": "stream",
     "text": [
      "100%|██████████| 5/5 [00:00<00:00, 26.20it/s]\n"
     ]
    }
   ],
   "source": [
    "if os.path.isdir(load_path): # load_path가 디렉토리인지 확인합니다. 만약 디렉토리라면 그 안에 있는 모든 파일을 반복적으로 처리합니다.\n",
    "# os.listdir(load_path)는 load_path 디렉토리 안의 모든 파일 목록을 반환합니다.\n",
    "    dfs = []\n",
    "    for file in tqdm(os.listdir(load_path)): # tqdm을 사용해 파일 목록을 처리하면서 진행 상태를 시각적으로 표시합니다.\n",
    "        df = json_to_tsv(os.path.join(load_path, file))\n",
    "        dfs.append(df)\n",
    "        # 각 파일을 json_to_tsv() 함수로 읽어들여, 그 결과를 데이터프레임 df로 변환한 뒤 dfs 리스트에 추가합니다.\n",
    "    data = pd.concat(dfs) # 모든 파일의 데이터프레임을 pd.concat(dfs)로 하나의 데이터프레임 data로 결합합니다.\n",
    "else:\n",
    "    data = json_to_tsv(load_path) # 만약 load_path가 파일이라면, 단일 파일을 json_to_tsv() 함수로 처리해 data에 할당합니다."
   ]
  },
  {
   "cell_type": "code",
   "execution_count": 30,
   "metadata": {},
   "outputs": [
    {
     "data": {
      "text/html": [
       "<div>\n",
       "<style scoped>\n",
       "    .dataframe tbody tr th:only-of-type {\n",
       "        vertical-align: middle;\n",
       "    }\n",
       "\n",
       "    .dataframe tbody tr th {\n",
       "        vertical-align: top;\n",
       "    }\n",
       "\n",
       "    .dataframe thead th {\n",
       "        text-align: right;\n",
       "    }\n",
       "</style>\n",
       "<table border=\"1\" class=\"dataframe\">\n",
       "  <thead>\n",
       "    <tr style=\"text-align: right;\">\n",
       "      <th></th>\n",
       "      <th>sentence_id</th>\n",
       "      <th>sentence</th>\n",
       "      <th>ne</th>\n",
       "    </tr>\n",
       "  </thead>\n",
       "  <tbody>\n",
       "  </tbody>\n",
       "</table>\n",
       "</div>"
      ],
      "text/plain": [
       "Empty DataFrame\n",
       "Columns: [sentence_id, sentence, ne]\n",
       "Index: []"
      ]
     },
     "execution_count": 30,
     "metadata": {},
     "output_type": "execute_result"
    }
   ],
   "source": []
  },
  {
   "cell_type": "code",
   "execution_count": null,
   "metadata": {},
   "outputs": [],
   "source": [
    "with open(save_fn+'.pickle', \"wb\") as f: # 변환된 데이터를 피클(pickle) 파일로 저장합니다. 파일명은 save_fn에 .pickle 확장자를 붙인 것입니다. \n",
    "    pickle.dump(data, f, protocol=pickle.HIGHEST_PROTOCOL)\n",
    "    # pickle.dump() 함수는 데이터를 피클 형식으로 직렬화하고, protocol=pickle.HIGHEST_PROTOCOL을 사용해 가능한 최고의 프로토콜을 사용하여 저장합니다.\n",
    "\n",
    "if config.return_tsv: # config.return_tsv가 True인 경우, 데이터프레임 data를 TSV 파일로 저장합니다.\n",
    "    data.to_csv(save_fn+'.tsv', sep='\\t', index=False)\n",
    "    # 파일명은 save_fn에 .tsv 확장자를 붙인 것이며, 탭(\\t)으로 구분된 형식으로 저장됩니다.\n",
    "    # index=False로 설정하여, 데이터프레임의 인덱스는 파일에 포함되지 않도록 합니다."
   ]
  }
 ],
 "metadata": {
  "kernelspec": {
   "display_name": "crf-ner",
   "language": "python",
   "name": "python3"
  },
  "language_info": {
   "codemirror_mode": {
    "name": "ipython",
    "version": 3
   },
   "file_extension": ".py",
   "mimetype": "text/x-python",
   "name": "python",
   "nbconvert_exporter": "python",
   "pygments_lexer": "ipython3",
   "version": "3.8.19"
  },
  "pycharm": {
   "stem_cell": {
    "cell_type": "raw",
    "metadata": {
     "collapsed": false
    },
    "source": []
   }
  }
 },
 "nbformat": 4,
 "nbformat_minor": 2
}
