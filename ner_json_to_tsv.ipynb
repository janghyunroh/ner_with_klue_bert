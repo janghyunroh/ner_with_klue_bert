{
 "cells": [
  {
   "cell_type": "code",
   "execution_count": null,
   "metadata": {},
   "outputs": [],
   "source": [
    "import os\n",
    "import pickle\n",
    "import json\n",
    "import argparse\n",
    "\n",
    "from tqdm import tqdm\n",
    "import pandas as pd"
   ]
  },
  {
   "cell_type": "markdown",
   "metadata": {},
   "source": [
    "python ./preprocess/json_to_tsv.py --load_path data/json/19_150tags_NamedEntity/NXNE2102008030.json --save_path data/raw\n",
    "python ./preprocess/json_to_tsv.py --load_path data/json/21_150tags_NamedEntity --save_path data/raw"
   ]
  },
  {
   "cell_type": "code",
   "execution_count": null,
   "metadata": {},
   "outputs": [],
   "source": [
    "def define_argparser():\n",
    "    p = argparse.ArgumentParser()\n",
    "\n",
    "    p.add_argument(\n",
    "        '--load_path',\n",
    "        default = './data/doccano_json',\n",
    "        help=\"Path of file or directory to load original corpus.\"\n",
    "    )\n",
    "    p.add_argument(\n",
    "        '--save_path',\n",
    "        default = './data/raw',\n",
    "        help=\"Path to save data.\"\n",
    "    )\n",
    "    p.add_argument(\n",
    "        '--return_tsv',\n",
    "        default = True,\n",
    "        help=\"If not true, only pickle file will be saved.\"\n",
    "    )\n",
    "\n",
    "    config = p.parse_args(args=[])\n",
    "\n",
    "    return config"
   ]
  },
  {
   "cell_type": "code",
   "execution_count": null,
   "metadata": {},
   "outputs": [
    {
     "data": {
      "text/plain": [
       "Namespace(load_path='./data/doccano_json', save_path='./data/raw', return_tsv=True)"
      ]
     },
     "execution_count": 12,
     "metadata": {},
     "output_type": "execute_result"
    }
   ],
   "source": [
    "config = define_argparser()\n",
    "config"
   ]
  },
  {
   "cell_type": "code",
   "execution_count": null,
   "metadata": {},
   "outputs": [
    {
     "name": "stdout",
     "output_type": "stream",
     "text": [
      "[{'id': 114, 'text': '대구지방법원 2007. 10. 2 선고 2007노1818 판결 [폭력행위등처벌에관한법률위반(집단.흉기등상해) {인정된 죄명 폭력행위등처벌에관한법률위반(집단.흉기등협박)} ]', 'Comments': [], 'label': [[7, 18, 'TI_DATE'], [22, 31, 'CN'], [36, 60, 'NC'], [69, 93, 'NC']]}, {'id': 115, 'text': '재판경과', 'Comments': [], 'label': []}, {'id': 116, 'text': '대법원 2008. 3. 27 선고 2007도8772 판결', 'Comments': [], 'label': [[4, 15, 'TI_DATE'], [19, 28, 'CN']]}, {'id': 117, 'text': '대구지방법원 2007. 10. 2 선고 2007노1818 판결', 'Comments': [], 'label': [[7, 18, 'TI_DATE'], [22, 31, 'CN']]}, {'id': 118, 'text': '전 문', 'Comments': [], 'label': []}, {'id': 119, 'text': '피고인 정철 (820701-1409675)', 'Comments': [], 'label': [[0, 3, 'PS_ASSAILANT'], [4, 6, 'NM']]}, {'id': 120, 'text': '주거 경북 의성군 의성읍 후죽5길 14', 'Comments': [], 'label': [[0, 2, 'LC_RESIDENCE'], [3, 21, 'LC_REGION']]}, {'id': 121, 'text': '본적 경북 의성군 의성읍 경북대로 5690-25', 'Comments': [], 'label': [[0, 2, 'LC_DOMICILE'], [3, 26, 'LC_REGION']]}, {'id': 122, 'text': '항소인 검사', 'Comments': [], 'label': [[0, 3, 'PS_OTHERS']]}, {'id': 123, 'text': '검사 김정환', 'Comments': [], 'label': [[3, 6, 'NM']]}, {'id': 124, 'text': '변호인 대한법률구조공단 공익법무관 유희원', 'Comments': [], 'label': [[19, 22, 'NM']]}, {'id': 125, 'text': '판결선고 2007. 10. 2', 'Comments': [], 'label': [[5, 16, 'TI_DATE']]}, {'id': 126, 'text': '[주문]', 'Comments': [], 'label': []}, {'id': 127, 'text': '원심판결을 파기한다.', 'Comments': [], 'label': []}, {'id': 128, 'text': '피고인을 징역 6월에 처한다.', 'Comments': [], 'label': [[0, 3, 'PS_ASSAILANT'], [5, 7, 'DP_IMPRISONMENT'], [8, 10, 'TI_DURATION']]}, {'id': 129, 'text': '다만, 이 판결 확정일로부터 1년간 위 형의 집행을 유예한다.', 'Comments': [], 'label': [[16, 19, 'TI_DURATION'], [25, 31, 'DP_SUSPENDED_SENTENCE']]}, {'id': 130, 'text': '【이 유】', 'Comments': [], 'label': []}, {'id': 131, 'text': '1. 항소이유의 요지(사실오인 내지 법리오해)', 'Comments': [], 'label': []}, {'id': 132, 'text': '원심은 증거의 증명력을 판단함에 있어 자유심증주의에 관한 법리 및 간접증거의 증명력 평가에 관한 법리를 오해하였거나 채증법칙 위배 또는 심리미진으로 인하여 사실을 오인함으로써 판결에 영향을 미친 위법을 범하였고,', 'Comments': [], 'label': []}, {'id': 133, 'text': '흉기휴대 폭행이나 협박의 성립 여부에 대해 검토하지 않음으로써 심리미진의 위법을 범하였다.', 'Comments': [], 'label': [[0, 7, 'NC'], [10, 12, 'NC']]}, {'id': 134, 'text': '2. 판단', 'Comments': [], 'label': []}, {'id': 135, 'text': '가. 증거의 증명력 판단에 대한 법리오해 내지 사실오인 주장에 관하여', 'Comments': [], 'label': []}, {'id': 136, 'text': '원심은 공소사실을 뒷받침하는 증인 신지훈, 이병철의 진술의 신빙성을 부정하거나 이들만으로는 공소사실을 인정하기 부족하다는 이유로 피고인에게 무죄를 선고하였다.', 'Comments': [], 'label': [[16, 18, 'PS_OTHERS'], [19, 22, 'NM'], [24, 27, 'NM'], [72, 75, 'PS_ASSAILANT']]}, {'id': 137, 'text': '살피건대, 원심판결 내용과 원심에서 적법하게 증거조사를 거친 증거들에 비추어 원심 증인이 한 진술의 신빙성 유무에 대한 원심의 판단이 명백하게 잘못되었다고 볼 특별한 사정이 있거나,', 'Comments': [], 'label': [[46, 48, 'PS_OTHERS']]}, {'id': 138, 'text': '원심의 증거조사 결과와 항소심 변론종결시까지 추가로 이루어진 증거조사 결과를 종합하면 원심 증인이 한 진술의 신빙성 유무에 대한 원심의 판단을 그대로 유지하는 것이 현저히 부당하다고 인정되는 예외적인 경우가 아니라면,', 'Comments': [], 'label': [[51, 53, 'PS_OTHERS']]}, {'id': 139, 'text': '항소심으로서는 원심 증인이 한 진술의 신빙성 유무에 대한 원심의 판단이 항소심의 판단과 다르다는 이유만으로 이에 대한 원심의 판단을 함부로 뒤집어서는 아니 되며, 항소심이 이를 뒤집어 그 진술의 신빙성을 인정할 수 있다고 판단할 수 있으려면,', 'Comments': [], 'label': [[11, 13, 'PS_OTHERS']]}, {'id': 140, 'text': '진술의 신빙성을 배척한 원심의 판단을 수긍할 수 없는 충분하고도 납득할 만한 현저한 사정이 나타나는 경우이어야 할 것이다( 대법원 2006.1124. 선고 2006도4994 판결 참조).', 'Comments': [], 'label': [[87, 96, 'CN']]}, {'id': 141, 'text': '그런데 검사가 항소이유로서 지적한 사정들을 수사 및 원심 과정에서 이미 나타나거나 지적이 되었던 사정들로 원심이 위 신지훈, 이병철 진술의 신빙성을 배척함에 있어 이미 고려했던 여러 사정 중 일부에 불과한 것으로 보이고,', 'Comments': [], 'label': [[65, 68, 'NM'], [70, 73, 'NM']]}, {'id': 142, 'text': '원심의 판단이 명백히 잘못되었다고 볼 만한 특별한 사정으로 내세울 만한 것은 아니라 할 것이니, 당심으로서는 위 신지훈, 이병철 진술의 신빙성에 대한 원심의 판단을 그대로 유지할 수밖에 없다.', 'Comments': [], 'label': [[63, 66, 'NM'], [68, 71, 'NM']]}, {'id': 143, 'text': '따라서 원심이 판결이유에서 자세히 밝힌 바와 같이 증인 신지훈의 진술만으로는 피고인이 신지훈에게 망치를 휘둘러 상해를 가하였다는 공소사실을 인정하기에 부족하며, 증인 이병철의 진술은 이를 그대로 믿기 어려우므로, 검사의 위 주장은 이유 없다.', 'Comments': [], 'label': [[28, 30, 'PS_OTHERS'], [31, 34, 'NM'], [43, 46, 'PS_ASSAILANT'], [48, 51, 'NM'], [54, 56, 'EQ_WEAPON'], [62, 64, 'NC'], [90, 92, 'PS_OTHERS'], [93, 96, 'NM']]}, {'id': 144, 'text': '나. 흉기휴대 폭행 또는 협박에 대한 심리미진 주장에 관하여', 'Comments': [], 'label': [[3, 10, 'NC'], [14, 16, 'NC']]}, {'id': 145, 'text': '법원은 공소사실의 동일성이 인정되는 범위 내에서 공소가 제기된 범죄사실에 포함된 보다 가벼운 범죄사실이 인정되는 경우에 심리의 경과에 비추어 피고인의 방어권행사에 실질적인 불이익을 초래할 염려가 없다고 인정되는 때에는', 'Comments': [], 'label': [[79, 82, 'PS_ASSAILANT']]}, {'id': 146, 'text': '공소장이 변경되지 않았더라도 직권으로 공소장에 기재된 공소사실과 다른 범죄사실을 인정할 수 있지만, 이와 같은 경우라고 하더라도 공소가 제기된 범죄사실과 대비하여 볼 때', 'Comments': [], 'label': []}, {'id': 147, 'text': '실제로 인정되는 범죄사실의 사안이 중대하여 공소장이 변경되지 않았다는 이유로 이를 처벌하지 않는다면 적정절차에 의한 신속한 실체적 진실의 발견이라는 형사소송의 목적에 비추어 현저히 정의와 형평에 반하는 것으로 인정되는 경우가 아닌 한', 'Comments': [], 'label': []}, {'id': 148, 'text': '법원이 직권으로 그 범죄사실을 인정하지 아니하였다고 하여 위법한 것이라고까지는 볼 수 없다( 대법원 2004. 12. 10. 선고 2004도5652 판결 참조).', 'Comments': [], 'label': [[56, 69, 'TI_DATE'], [73, 82, 'CN']]}, {'id': 149, 'text': '그런데 이 사건 주위적 공소사실에 포함되었다고 볼 수 있는 흉기휴대 폭행이나 협박의 경우, 사안이 중대하여 이를 처벌하지 않는다면 현저히 정의와 형평에 반하는 것으로 보이지는 아니하므로 원심이 직권으로 그 흉기휴대 폭행이나 협박의 성립 여부에 대해 검토하지 않은 것을 위법한 것이라고까지 할 수는 없다.', 'Comments': [], 'label': [[33, 40, 'NC'], [43, 45, 'NC'], [115, 122, 'NC'], [125, 127, 'NC']]}, {'id': 150, 'text': '그러므로 검사의 위 주장은 이유 없다.', 'Comments': [], 'label': []}, {'id': 151, 'text': '다. 직권판단', 'Comments': [], 'label': []}, {'id': 152, 'text': '검사는 당심에 이르러 폭력행위등처벌에관한법률위반(집단.흉기등상해)의 공소사실을 주위적 공소사실로 하면서 폭력행위등처벌에관한법률위반(집단.흉기등폭행)의 공소사실을 예비적으로 추가하였고 당심이 이를 허가함으로써 심판의 대상이 변경되었으므로 원심판결은 더는 유지할 수 없게 되었다.', 'Comments': [], 'label': [[12, 36, 'NC'], [58, 82, 'NC']]}, {'id': 153, 'text': '그런데 이 사건 예비적 공소사실 중에는 폭력행위 등 처벌에 관한 법률 제3조 제1항,제2조 제1항제1호, 형법 제283조 제1항의 폭력행위등처벌에관한법률위반(집단.흉기등협박)의 공소사실도 포함되어 있는 것이고,', 'Comments': [], 'label': [[22, 26, 'NC'], [73, 97, 'NC']]}, {'id': 154, 'text': '법원이 이를 인정한다 하더라도 피고인의 방어권행사에 불이익을 초래하지 아니하므로, 이 법원은 공소장변경절차 없이 폭력행위등처벌에관한법률위반(집단.흉기등협박)의 공소사실에 관하여 심리ㆍ판단할 수 있다.', 'Comments': [], 'label': [[17, 20, 'PS_ASSAILANT'], [63, 87, 'NC']]}, {'id': 155, 'text': '3. 결론', 'Comments': [], 'label': []}, {'id': 156, 'text': '따라서, 형사소송법 제364조 제6항에 의하여 원심판결을 파기하고, 변론을 거쳐 다시 다음과 같이 판결한다.', 'Comments': [], 'label': []}, {'id': 157, 'text': '▣ 범죄 사실', 'Comments': [], 'label': []}, {'id': 158, 'text': '피고인은 18:30경 경북 의성군에 있는 창고 앞 도로에서, 피해자 신지훈(38세)과 차량 주차 문제로 말다툼하다 흥분하여 위험한 물건인 공소외 장성민 소유 쇠망치를 들고 \"때려 뿔라\"라고 말하는 등 피해자의 신체에 어떠한 위해를 가할 듯한 태도를 보여 동인을 협박하였다.', 'Comments': [], 'label': [[0, 3, 'PS_ASSAILANT'], [5, 11, 'TI_TIME'], [12, 18, 'LC_REGION'], [23, 27, 'LC_OTHER_FACILITY'], [28, 30, 'LC_OTHER_FACILITY'], [34, 37, 'PS_VICTIM'], [38, 41, 'NM'], [42, 45, 'AG'], [77, 80, 'PS_OTHERS'], [81, 84, 'NM'], [88, 91, 'EQ_WEAPON'], [112, 115, 'PS_VICTIM'], [117, 119, 'BP'], [142, 144, 'RL'], [146, 148, 'NC']]}, {'id': 159, 'text': '▣ 증거의 요지', 'Comments': [], 'label': []}, {'id': 160, 'text': '1. 피고인의 원심 및 당심 법정 진술', 'Comments': [], 'label': [[3, 6, 'PS_ASSAILANT']]}, {'id': 161, 'text': '1. 증인 신지훈, 이병철, 박상민의 일부 원심 법정진술', 'Comments': [], 'label': [[3, 5, 'PS_OTHERS'], [6, 9, 'NM'], [11, 14, 'NM'], [16, 19, 'NM']]}, {'id': 162, 'text': '1. 증인 김영희, 박상민, 강현우의 원심 법정진술', 'Comments': [], 'label': [[3, 5, 'PS_OTHERS'], [6, 9, 'NM'], [11, 14, 'NM'], [16, 19, 'NM']]}, {'id': 163, 'text': '1. 압수된 쇠망치 1개(증 제1호)의 현존', 'Comments': [], 'label': [[7, 10, 'EQ_WEAPON'], [11, 13, 'QT_PIECES']]}, {'id': 164, 'text': '▣ 법령의 적용', 'Comments': [], 'label': []}, {'id': 165, 'text': '1. 범죄사실에 대한 해당법조', 'Comments': [], 'label': []}, {'id': 166, 'text': '폭력행위 등 처벌에 관한 법률 제3조 제1항,제2조 제1항제1호, 형법 제283조 제1항', 'Comments': [], 'label': [[0, 4, 'NC']]}, {'id': 167, 'text': '1. 작량감경', 'Comments': [], 'label': [[3, 7, 'DP_MITIGATION']]}, {'id': 168, 'text': '형법 제53조,제55조 제1항제3호', 'Comments': [], 'label': []}, {'id': 169, 'text': '1. 집행유예', 'Comments': [], 'label': [[3, 7, 'DP_SUSPENDED_SENTENCE']]}, {'id': 170, 'text': '형법 제62조 제1항', 'Comments': [], 'label': []}, {'id': 171, 'text': '▣ 무죄부분', 'Comments': [], 'label': []}, {'id': 172, 'text': '1. 주위적 공소사실에 관하여', 'Comments': [], 'label': []}, {'id': 173, 'text': '이 사건 주위적 공소사실인 폭력행위등처벌에관한법률위반(집단.흉기등상해)의 점에 관해 보건대, 이는 위 2의 가항에서 살펴본 것처럼 범죄의 증명이 없는 경우에 해당하므로 형사소송법 제325조 후단에 따라 무죄를 선고하여야 할 것이나,', 'Comments': [], 'label': [[15, 39, 'NC']]}, {'id': 174, 'text': '그와 동일한 공소사실의 범위 내에 있는 이 사건 예비적 공소사실의 범위 내에서 공소장변경 절차 없이 심파날 수 있는 판시 폭력행위등처벌에관한법률위반(집단.흉기등협박)죄를 유죄로 인정하므로 따로 주문에서 무죄를 선고하지 아니한다.', 'Comments': [], 'label': [[68, 93, 'NC']]}, {'id': 175, 'text': '2. 예비적 공소사실에 관하여', 'Comments': [], 'label': []}, {'id': 176, 'text': '이 사건 예비적 공소사실인 폭력행위등처벌에관한법률위반(집단.흉기등폭행)의 점에 관해 보건대, 위 2의 가항에서 살펴본 바와 같이 증인 신지훈의 진술만으로는 피고인이 망치를 휘둘러 피해자를 폭행하였다는 공소사실을 인정하기에 부족하고', 'Comments': [], 'label': [[15, 39, 'NC'], [72, 74, 'PS_OTHERS'], [75, 78, 'NM'], [87, 90, 'PS_ASSAILANT'], [100, 103, 'PS_VICTIM'], [105, 107, 'NC']]}, {'id': 177, 'text': '증인 이병철의 진술은 이를 그대로 믿기 어려우며 달리 피고인이 피해자에게 망치를 휘둘렀다는 사실을 인정할 만한 증거가 없다.', 'Comments': [], 'label': [[0, 2, 'PS_OTHERS'], [3, 6, 'NM'], [30, 33, 'PS_ASSAILANT'], [35, 38, 'PS_VICTIM'], [41, 43, 'EQ_WEAPON']]}, {'id': 178, 'text': '따라서 이는 범죄의 증명이 없는 경우에 해당하므로 형사소송법 제325조 후단에 따라 무죄를 선고하여야 할 것이나, 그와 동일한 공소사실의 범위 내에서 공소장변경 절차 없이 심판할 수 있는 판시 폭력행위등처벌에관한법률위반(집단.흉기등협박)죄를 유죄로 인정하므로 따로 주문에서 무죄를 선고하지 아니한다.', 'Comments': [], 'label': [[108, 133, 'NC']]}, {'id': 179, 'text': '재판장 판사 박승렬 판사 남천규 판사 이은정', 'Comments': [], 'label': [[7, 10, 'NM'], [14, 17, 'NM'], [21, 24, 'NM']]}]\n",
      "66\n"
     ]
    }
   ],
   "source": [
    "import json\n",
    "import os\n",
    "\n",
    "file = os.path.join(config.load_path, '대구지방법원 2007. 10. 2 선고 2007노1818 판결 [폭력행위.jsonl')\n",
    "\n",
    "data = []\n",
    "with open(file, 'r', encoding='utf-8') as f:\n",
    "    for line in f:\n",
    "        line = line.strip()  # 공백 제거\n",
    "        if line:  # 빈 줄 무시\n",
    "            try:\n",
    "                data.append(json.loads(line))  # 한 줄씩 파싱\n",
    "            except json.JSONDecodeError as e:\n",
    "                print(f\"Error parsing line: {line}\")\n",
    "                print(f\"Error: {e}\")\n",
    "\n",
    "print(data)\n",
    "print(len(data))"
   ]
  },
  {
   "cell_type": "code",
   "execution_count": null,
   "metadata": {},
   "outputs": [
    {
     "name": "stdout",
     "output_type": "stream",
     "text": [
      "114\n",
      "대구지방법원 2007. 10. 2 선고 2007노1818 판결 [폭력행위등처벌에관한법률위반(집단.흉기등상해) {인정된 죄명 폭력행위등처벌에관한법률위반(집단.흉기등협박)} ]\n",
      "[]\n",
      "[[7, 18, 'TI_DATE'], [22, 31, 'CN'], [36, 60, 'NC'], [69, 93, 'NC']]\n"
     ]
    }
   ],
   "source": [
    "print(data[0]['id'])\n",
    "print(data[0]['text'])\n",
    "print(data[0]['Comments'])\n",
    "print(data[0]['label'])"
   ]
  },
  {
   "cell_type": "code",
   "execution_count": null,
   "metadata": {},
   "outputs": [],
   "source": [
    "def json_to_tsv(file: str):\n",
    "    cols = ['sentence_id', 'sentence', 'ne'] # 데이터 프레임 생성\n",
    "    df = pd.DataFrame(columns=cols) # 데이터 프레임 생성\n",
    "    id = 0\n",
    "\n",
    "    data = []\n",
    "    with open(file, 'r', encoding='utf-8') as f:\n",
    "        for line in f:\n",
    "            line = line.strip()  # 공백 제거\n",
    "            if line:  # 빈 줄 무시\n",
    "                try:\n",
    "                    data.append(json.loads(line))  # 한 줄씩 파싱\n",
    "                except json.JSONDecodeError as e:\n",
    "                    print(f\"Error parsing line: {line}\")\n",
    "                    print(f\"Error: {e}\")\n",
    "    \n",
    "    ne = []\n",
    "\n",
    "    for i in range(0, len(data)):\n",
    "        if data[i]['text'] == None:\n",
    "            continue\n",
    "        else:\n",
    "            df.loc[id, 'sentence'] = data[i]['text']\n",
    "\n",
    "            # 엔티티 정보를 딕셔너리로 변환\n",
    "            entity_dict = {}\n",
    "            for index, (start, end, label) in enumerate(data[i]['label'], 1):\n",
    "                # 문자열 슬라이싱을 사용하여 형태소 'form' 추출\n",
    "                form = data[i]['text'][start:end]\n",
    "                entity_dict[index] = {\n",
    "                    'form': form,\n",
    "                    'label': label,\n",
    "                    'begin': start,\n",
    "                    'end': end\n",
    "                }\n",
    "            # print(entity_dict)\n",
    "            ne.append(entity_dict)\n",
    "            id += 1\n",
    "    df['ne'] = ne\n",
    "\n",
    "    return df"
   ]
  },
  {
   "cell_type": "code",
   "execution_count": null,
   "metadata": {},
   "outputs": [
    {
     "name": "stdout",
     "output_type": "stream",
     "text": [
      "load_path: ./data/doccano_json\n",
      "save_fn: ./data/raw/doccano_json\n"
     ]
    }
   ],
   "source": [
    "load_path = config.load_path # json 파일이 담긴 폴더 혹은 파일 그 자체\n",
    "fn = os.path.split(config.load_path)[1] # config.load_path에서 파일명만 분리하여 fn 변수에 할당합니다. os.path.split() 함수는 경로를 디렉토리 부분과 파일명 부분으로 나눕니다. 이 중 파일명 부분만을 fn에 저장합니다.\n",
    "if fn.rfind(\".\") > 0: # 파일명 fn에서 확장자를 제거합니다. rfind(\".\")는 파일명에서 마지막으로 나타나는 .의 위치를 찾습니다. 만약 .이 발견되면, 파일명에서 그 위치까지를 잘라서 확장자 없는 파일명을 fn으로 저장합니다.\n",
    "    fn = fn[:fn.rfind(\".\")]\n",
    "save_fn = os.path.join(config.save_path, fn) # 변환된 데이터의 결과물을 저장할 경로를 save_fn 변수에 할당합니다. config.save_path에 지정된 디렉토리 경로와 앞에서 만든 파일명 fn을 합쳐서 저장합니다.\n",
    "\n",
    "print(f'load_path: {load_path}')\n",
    "print(f'save_fn: {save_fn}')"
   ]
  },
  {
   "cell_type": "code",
   "execution_count": null,
   "metadata": {},
   "outputs": [
    {
     "name": "stderr",
     "output_type": "stream",
     "text": [
      "100%|██████████| 5/5 [00:00<00:00, 98.05it/s]"
     ]
    },
    {
     "name": "stdout",
     "output_type": "stream",
     "text": [
      "Error parsing line: {\"id\":474,\"text\":\"피고인은 2008. 2. 18. 15:40경 대구 달서구 명천로에 있는 화곡병원 307호실에서 그곳에 입원 중인 정우식을 만나고 있던 중, 경북지방경찰청 수사과 마약수사대 소속 경위 최성욱, 경장 김주하가 위 병실로 들어와\",\"Comments\":[],\"label\":[[0,3,\"PS_ASSAILANT\"],[5,17,\"TI_DATE\"],[18,24,\"TI_TIME\"],[25,35,\"LC\"],[40,44,\"LC_OTHER_FACILITY\"],[45,50,\"LC_OTHER_FACILITY\"],[63,66,\"NM\"],[78,85,\"LC\"][99,101,\"JB\"],[102,105,\"NM\"],[107,109,\"JB\"],[110,113,\"NM\"],[117,119,\"LC_OTHER_FACILITY\"]]}\n",
      "Error: Expecting ',' delimiter: line 1 column 318 (char 317)\n"
     ]
    },
    {
     "name": "stderr",
     "output_type": "stream",
     "text": [
      "\n"
     ]
    }
   ],
   "source": [
    "if os.path.isdir(load_path): # load_path가 디렉토리인지 확인합니다. 만약 디렉토리라면 그 안에 있는 모든 파일을 반복적으로 처리합니다.\n",
    "# os.listdir(load_path)는 load_path 디렉토리 안의 모든 파일 목록을 반환합니다.\n",
    "    dfs = []\n",
    "    for file in tqdm(os.listdir(load_path)): # tqdm을 사용해 파일 목록을 처리하면서 진행 상태를 시각적으로 표시합니다.\n",
    "        df = json_to_tsv(os.path.join(load_path, file))\n",
    "        dfs.append(df)\n",
    "        # 각 파일을 json_to_tsv() 함수로 읽어들여, 그 결과를 데이터프레임 df로 변환한 뒤 dfs 리스트에 추가합니다.\n",
    "    data = pd.concat(dfs) # 모든 파일의 데이터프레임을 pd.concat(dfs)로 하나의 데이터프레임 data로 결합합니다.\n",
    "else:\n",
    "    data = json_to_tsv(load_path) # 만약 load_path가 파일이라면, 단일 파일을 json_to_tsv() 함수로 처리해 data에 할당합니다."
   ]
  },
  {
   "cell_type": "code",
   "execution_count": null,
   "metadata": {},
   "outputs": [
    {
     "data": {
      "text/html": [
       "<div>\n",
       "<style scoped>\n",
       "    .dataframe tbody tr th:only-of-type {\n",
       "        vertical-align: middle;\n",
       "    }\n",
       "\n",
       "    .dataframe tbody tr th {\n",
       "        vertical-align: top;\n",
       "    }\n",
       "\n",
       "    .dataframe thead th {\n",
       "        text-align: right;\n",
       "    }\n",
       "</style>\n",
       "<table border=\"1\" class=\"dataframe\">\n",
       "  <thead>\n",
       "    <tr style=\"text-align: right;\">\n",
       "      <th></th>\n",
       "      <th>sentence_id</th>\n",
       "      <th>sentence</th>\n",
       "      <th>ne</th>\n",
       "    </tr>\n",
       "  </thead>\n",
       "  <tbody>\n",
       "    <tr>\n",
       "      <th>0</th>\n",
       "      <td>NaN</td>\n",
       "      <td>대구지방법원 2007. 11. 1 선고 2007고합91 판결 [특정범죄 가중처벌 등...</td>\n",
       "      <td>{1: {'form': '2007. 11. 1', 'label': 'TI_DATE'...</td>\n",
       "    </tr>\n",
       "    <tr>\n",
       "      <th>1</th>\n",
       "      <td>NaN</td>\n",
       "      <td>참조조문</td>\n",
       "      <td>{}</td>\n",
       "    </tr>\n",
       "    <tr>\n",
       "      <th>2</th>\n",
       "      <td>NaN</td>\n",
       "      <td>특정범죄 가중처벌 등에 관한 법률 제5조의10 제2항전단, 제1항</td>\n",
       "      <td>{}</td>\n",
       "    </tr>\n",
       "    <tr>\n",
       "      <th>3</th>\n",
       "      <td>NaN</td>\n",
       "      <td>전 문</td>\n",
       "      <td>{}</td>\n",
       "    </tr>\n",
       "    <tr>\n",
       "      <th>4</th>\n",
       "      <td>NaN</td>\n",
       "      <td>피고인 전수환 (628756-1249682), 노동</td>\n",
       "      <td>{1: {'form': '피고인', 'label': 'PS_ASSAILANT', '...</td>\n",
       "    </tr>\n",
       "    <tr>\n",
       "      <th>...</th>\n",
       "      <td>...</td>\n",
       "      <td>...</td>\n",
       "      <td>...</td>\n",
       "    </tr>\n",
       "    <tr>\n",
       "      <th>98</th>\n",
       "      <td>NaN</td>\n",
       "      <td>한편 피고인은 어린 시절 특수강도죄 등으로 수차례 보호처분을 받은 전력이 있고, 2...</td>\n",
       "      <td>{1: {'form': '피고인', 'label': 'PS_ASSAILANT', '...</td>\n",
       "    </tr>\n",
       "    <tr>\n",
       "      <th>99</th>\n",
       "      <td>NaN</td>\n",
       "      <td>그 후 2007. 1. 30. 가석방되어 2007. 5. 6. 그 잔형기가 경과되었...</td>\n",
       "      <td>{1: {'form': '2007. 1. 30.', 'label': 'TI_DATE...</td>\n",
       "    </tr>\n",
       "    <tr>\n",
       "      <th>100</th>\n",
       "      <td>NaN</td>\n",
       "      <td>위와 같은 제반 정상을 모두 종합하여 보면, 피고인을 사회와 상당기간 격리하여 구금...</td>\n",
       "      <td>{1: {'form': '피고인', 'label': 'PS_ASSAILANT', '...</td>\n",
       "    </tr>\n",
       "    <tr>\n",
       "      <th>101</th>\n",
       "      <td>NaN</td>\n",
       "      <td>재판장 판사 백승현 판사 김빛나</td>\n",
       "      <td>{1: {'form': '백승현', 'label': 'NM', 'begin': 7,...</td>\n",
       "    </tr>\n",
       "    <tr>\n",
       "      <th>102</th>\n",
       "      <td>NaN</td>\n",
       "      <td>판사 박철기</td>\n",
       "      <td>{1: {'form': '박철기', 'label': 'NM', 'begin': 3,...</td>\n",
       "    </tr>\n",
       "  </tbody>\n",
       "</table>\n",
       "<p>318 rows × 3 columns</p>\n",
       "</div>"
      ],
      "text/plain": [
       "    sentence_id                                           sentence  \\\n",
       "0           NaN  대구지방법원 2007. 11. 1 선고 2007고합91 판결 [특정범죄 가중처벌 등...   \n",
       "1           NaN                                               참조조문   \n",
       "2           NaN               특정범죄 가중처벌 등에 관한 법률 제5조의10 제2항전단, 제1항   \n",
       "3           NaN                                                전 문   \n",
       "4           NaN                       피고인 전수환 (628756-1249682), 노동   \n",
       "..          ...                                                ...   \n",
       "98          NaN  한편 피고인은 어린 시절 특수강도죄 등으로 수차례 보호처분을 받은 전력이 있고, 2...   \n",
       "99          NaN  그 후 2007. 1. 30. 가석방되어 2007. 5. 6. 그 잔형기가 경과되었...   \n",
       "100         NaN  위와 같은 제반 정상을 모두 종합하여 보면, 피고인을 사회와 상당기간 격리하여 구금...   \n",
       "101         NaN                                  재판장 판사 백승현 판사 김빛나   \n",
       "102         NaN                                             판사 박철기   \n",
       "\n",
       "                                                    ne  \n",
       "0    {1: {'form': '2007. 11. 1', 'label': 'TI_DATE'...  \n",
       "1                                                   {}  \n",
       "2                                                   {}  \n",
       "3                                                   {}  \n",
       "4    {1: {'form': '피고인', 'label': 'PS_ASSAILANT', '...  \n",
       "..                                                 ...  \n",
       "98   {1: {'form': '피고인', 'label': 'PS_ASSAILANT', '...  \n",
       "99   {1: {'form': '2007. 1. 30.', 'label': 'TI_DATE...  \n",
       "100  {1: {'form': '피고인', 'label': 'PS_ASSAILANT', '...  \n",
       "101  {1: {'form': '백승현', 'label': 'NM', 'begin': 7,...  \n",
       "102  {1: {'form': '박철기', 'label': 'NM', 'begin': 3,...  \n",
       "\n",
       "[318 rows x 3 columns]"
      ]
     },
     "execution_count": 27,
     "metadata": {},
     "output_type": "execute_result"
    }
   ],
   "source": [
    "data"
   ]
  },
  {
   "cell_type": "markdown",
   "metadata": {},
   "source": [
    "# **문장 이어 붙이기 (512 토큰 제한)**"
   ]
  },
  {
   "cell_type": "code",
   "execution_count": null,
   "metadata": {},
   "outputs": [],
   "source": [
    "# 문장을 병합할 기준 개수\n",
    "sentence_len = 1  "
   ]
  },
  {
   "cell_type": "code",
   "execution_count": null,
   "metadata": {},
   "outputs": [
    {
     "name": "stdout",
     "output_type": "stream",
     "text": [
      "    sentence_id                                           sentence  \\\n",
      "0          None  대구지방법원 2007. 11. 1 선고 2007고합91 판결 [특정범죄 가중처벌 등...   \n",
      "1          None                                               참조조문   \n",
      "2          None               특정범죄 가중처벌 등에 관한 법률 제5조의10 제2항전단, 제1항   \n",
      "3          None                                                전 문   \n",
      "4          None                       피고인 전수환 (628756-1249682), 노동   \n",
      "..          ...                                                ...   \n",
      "313        None  한편 피고인은 어린 시절 특수강도죄 등으로 수차례 보호처분을 받은 전력이 있고, 2...   \n",
      "314        None  그 후 2007. 1. 30. 가석방되어 2007. 5. 6. 그 잔형기가 경과되었...   \n",
      "315        None  위와 같은 제반 정상을 모두 종합하여 보면, 피고인을 사회와 상당기간 격리하여 구금...   \n",
      "316        None                                  재판장 판사 백승현 판사 김빛나   \n",
      "317        None                                             판사 박철기   \n",
      "\n",
      "                                                    ne  \n",
      "0    {1: {'form': '2007. 11. 1', 'label': 'TI_DATE'...  \n",
      "1                                                   {}  \n",
      "2                                                   {}  \n",
      "3                                                   {}  \n",
      "4    {1: {'form': '피고인', 'label': 'PS_ASSAILANT', '...  \n",
      "..                                                 ...  \n",
      "313  {1: {'form': '피고인', 'label': 'PS_ASSAILANT', '...  \n",
      "314  {1: {'form': '2007. 1. 30.', 'label': 'TI_DATE...  \n",
      "315  {1: {'form': '피고인', 'label': 'PS_ASSAILANT', '...  \n",
      "316  {1: {'form': '백승현', 'label': 'NM', 'begin': 7,...  \n",
      "317  {1: {'form': '박철기', 'label': 'NM', 'begin': 3,...  \n",
      "\n",
      "[318 rows x 3 columns]\n",
      "Maximum token length in merged sentences: 102\n"
     ]
    }
   ],
   "source": [
    "from transformers import AutoTokenizer\n",
    "import pandas as pd\n",
    "\n",
    "# DataFrame 예시 데이터\n",
    "df = pd.DataFrame(data)\n",
    "\n",
    "# klue/roberta-base 토크나이저 로드\n",
    "tokenizer_loader = AutoTokenizer\n",
    "tokenizer = tokenizer_loader.from_pretrained('klue/roberta-base')\n",
    "\n",
    "# 각 문장의 토큰 수 계산\n",
    "df['token_count'] = df['sentence'].apply(\n",
    "    lambda x: len(tokenizer(x, truncation=False, add_special_tokens=False)[\"input_ids\"])\n",
    ")\n",
    "\n",
    "# 병합된 데이터를 저장할 리스트\n",
    "merged_rows = []\n",
    "current_sentence = \"\"\n",
    "current_ne = {}\n",
    "current_token_count = 0\n",
    "current_offset = 0  # 병합된 문장의 현재 길이 (character 단위)\n",
    "sentence_count = 0  # 병합된 문장 개수 카운터\n",
    "max_token_length = 0  # 병합된 문장에서 최대 토큰 길이 저장\n",
    "\n",
    "\n",
    "# 병합 로직\n",
    "for _, row in df.iterrows():\n",
    "    # 현재 row의 문장 길이\n",
    "    sentence_length = len(row['sentence'])\n",
    "\n",
    "    # 병합 가능 여부 확인 (문장 개수와 토큰 길이)\n",
    "    if sentence_count < sentence_len and current_token_count + row['token_count'] <= 512:\n",
    "        # 병합 가능\n",
    "        current_sentence += ' ' if current_sentence else ''  # 앞 공백 추가 (첫 문장은 제외)\n",
    "        for key, entity in row['ne'].items():\n",
    "            # 기존 위치에 현재 문장의 오프셋(문자 기준)을 더해 새로운 위치 계산\n",
    "            new_key = len(current_ne) + 1\n",
    "            current_ne[new_key] = {\n",
    "                'form': entity['form'],\n",
    "                'label': entity['label'],\n",
    "                'begin': entity['begin'] + current_offset,\n",
    "                'end': entity['end'] + current_offset\n",
    "            }\n",
    "        # 문장 병합\n",
    "        current_sentence += row['sentence']\n",
    "        current_token_count += row['token_count']\n",
    "        current_offset += sentence_length + 1  # 공백 포함한 길이 추가\n",
    "        sentence_count += 1\n",
    "    else:\n",
    "        # 병합 불가능, 이전 데이터 저장\n",
    "        merged_rows.append({\n",
    "            'sentence_id': None,  # 병합된 데이터는 모두 NaN\n",
    "            'sentence': current_sentence.strip(),\n",
    "            'ne': current_ne\n",
    "        })\n",
    "        # 최대 토큰 길이 갱신\n",
    "        max_token_length = max(max_token_length, current_token_count)\n",
    "        # 초기화 후 새로운 데이터 시작\n",
    "        current_sentence = row['sentence']\n",
    "        current_ne = {}\n",
    "        current_token_count = row['token_count']\n",
    "        current_offset = sentence_length + 1  # 공백 포함한 길이로 초기화\n",
    "        sentence_count = 1  # 첫 문장은 포함\n",
    "        for key, entity in row['ne'].items():\n",
    "            new_key = len(current_ne) + 1\n",
    "            current_ne[new_key] = {\n",
    "                'form': entity['form'],\n",
    "                'label': entity['label'],\n",
    "                'begin': entity['begin'],\n",
    "                'end': entity['end']\n",
    "            }\n",
    "\n",
    "# 마지막 문장 추가\n",
    "if current_sentence:\n",
    "    merged_rows.append({\n",
    "        'sentence_id': None,  # 병합된 데이터는 모두 NaN\n",
    "        'sentence': current_sentence.strip(),\n",
    "        'ne': current_ne\n",
    "    })\n",
    "    # 최대 토큰 길이 갱신\n",
    "    max_token_length = max(max_token_length, current_token_count)\n",
    "\n",
    "# 병합된 데이터를 데이터프레임으로 변환\n",
    "merged_df = pd.DataFrame(merged_rows)\n",
    "\n",
    "# 결과 출력\n",
    "print(merged_df)\n",
    "print(f\"Maximum token length in merged sentences: {max_token_length}\")\n",
    "\n",
    "# 병합된 데이터 저장\n",
    "data = merged_df\n"
   ]
  },
  {
   "cell_type": "code",
   "execution_count": null,
   "metadata": {},
   "outputs": [
    {
     "name": "stdout",
     "output_type": "stream",
     "text": [
      "{1: {'begin': 7, 'end': 18, 'form': '2007. 11. 1', 'label': 'TI_DATE'},\n",
      " 2: {'begin': 22, 'end': 30, 'form': '2007고합91', 'label': 'CN'},\n",
      " 3: {'begin': 35,\n",
      "     'end': 63,\n",
      "     'form': '특정범죄 가중처벌 등에 관한 법률위반(운전자폭행등)',\n",
      "     'label': 'NC'}}\n"
     ]
    }
   ],
   "source": [
    "# 첫 번째 행의 ne 열 출력\n",
    "import pprint\n",
    "\n",
    "pprint.pprint(data.loc[0, 'ne'])\n"
   ]
  },
  {
   "cell_type": "code",
   "execution_count": null,
   "metadata": {},
   "outputs": [
    {
     "data": {
      "text/plain": [
       "{'AG',\n",
       " 'BP',\n",
       " 'CN',\n",
       " 'DP',\n",
       " 'EQ',\n",
       " 'GD',\n",
       " 'JB',\n",
       " 'LC',\n",
       " 'MC',\n",
       " 'NC',\n",
       " 'NM',\n",
       " 'PC',\n",
       " 'PS',\n",
       " 'QT',\n",
       " 'RL',\n",
       " 'TI'}"
      ]
     },
     "execution_count": 31,
     "metadata": {},
     "output_type": "execute_result"
    }
   ],
   "source": [
    "label_set = set()\n",
    "\n",
    "for row in data['ne']:\n",
    "    for key in row.values():\n",
    "        label_set.add(key['label'][:2])\n",
    "\n",
    "label_set"
   ]
  },
  {
   "cell_type": "code",
   "execution_count": null,
   "metadata": {},
   "outputs": [],
   "source": [
    "with open(save_fn+'.pickle', \"wb\") as f: # 변환된 데이터를 피클(pickle) 파일로 저장합니다. 파일명은 save_fn에 .pickle 확장자를 붙인 것입니다. \n",
    "    pickle.dump(data, f, protocol=pickle.HIGHEST_PROTOCOL)\n",
    "    # pickle.dump() 함수는 데이터를 피클 형식으로 직렬화하고, protocol=pickle.HIGHEST_PROTOCOL을 사용해 가능한 최고의 프로토콜을 사용하여 저장합니다.\n",
    "\n",
    "if config.return_tsv: # config.return_tsv가 True인 경우, 데이터프레임 data를 TSV 파일로 저장합니다.\n",
    "    data.to_csv(save_fn+'.tsv', sep='\\t', index=False)\n",
    "    # 파일명은 save_fn에 .tsv 확장자를 붙인 것이며, 탭(\\t)으로 구분된 형식으로 저장됩니다.\n",
    "    # index=False로 설정하여, 데이터프레임의 인덱스는 파일에 포함되지 않도록 합니다."
   ]
  }
 ],
 "metadata": {
  "kernelspec": {
   "display_name": "Python 3",
   "language": "python",
   "name": "python3"
  },
  "language_info": {
   "codemirror_mode": {
    "name": "ipython",
    "version": 3
   },
   "file_extension": ".py",
   "mimetype": "text/x-python",
   "name": "python",
   "nbconvert_exporter": "python",
   "pygments_lexer": "ipython3",
   "version": "3.10.15"
  },
  "pycharm": {
   "stem_cell": {
    "cell_type": "raw",
    "metadata": {
     "collapsed": false
    },
    "source": []
   }
  }
 },
 "nbformat": 4,
 "nbformat_minor": 2
}
